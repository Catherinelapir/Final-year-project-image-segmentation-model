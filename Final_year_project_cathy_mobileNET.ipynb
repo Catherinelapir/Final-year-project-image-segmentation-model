{
  "cells": [
    {
      "cell_type": "markdown",
      "metadata": {
        "id": "view-in-github",
        "colab_type": "text"
      },
      "source": [
        "<a href=\"https://colab.research.google.com/github/Catherinelapir/Final-year-project-image-segmentation-model/blob/main/Final_year_project_cathy_mobileNET.ipynb\" target=\"_parent\"><img src=\"https://colab.research.google.com/assets/colab-badge.svg\" alt=\"Open In Colab\"/></a>"
      ]
    },
    {
      "cell_type": "markdown",
      "source": [
        "#connecting the drive to google colab"
      ],
      "metadata": {
        "id": "5YEfgfkA7BBB"
      }
    },
    {
      "cell_type": "code",
      "execution_count": null,
      "metadata": {
        "colab": {
          "base_uri": "https://localhost:8080/"
        },
        "id": "Z7IeYKxXXKmy",
        "outputId": "8fcc3aad-9ade-472a-c32b-5b765796c4dc"
      },
      "outputs": [
        {
          "name": "stdout",
          "output_type": "stream",
          "text": [
            "Drive already mounted at /content/drive; to attempt to forcibly remount, call drive.mount(\"/content/drive\", force_remount=True).\n"
          ]
        }
      ],
      "source": [
        "from google.colab import drive\n",
        "drive.mount('/content/drive')"
      ]
    },
    {
      "cell_type": "markdown",
      "metadata": {
        "id": "gi9iX23RTziO"
      },
      "source": []
    },
    {
      "cell_type": "markdown",
      "source": [
        "#importing the required python libraries"
      ],
      "metadata": {
        "id": "nxm-7uY87KcV"
      }
    },
    {
      "cell_type": "code",
      "execution_count": null,
      "metadata": {
        "id": "60ocO0lHYdzD"
      },
      "outputs": [],
      "source": [
        "import os, keras\n",
        "import numpy as np \n",
        "import pandas as pd \n",
        "import matplotlib.pyplot as plt\n",
        "import tensorflow as tf\n",
        "import keras.backend as K\n",
        "import natsort"
      ]
    },
    {
      "cell_type": "code",
      "execution_count": null,
      "metadata": {
        "id": "3w8iGC8nYurI"
      },
      "outputs": [],
      "source": [
        "from sklearn.model_selection import train_test_split\n",
        "from keras.models import *\n",
        "from keras.layers import *\n",
        "from keras.optimizers import *\n",
        "from tqdm import tqdm\n",
        "from tensorflow.keras.preprocessing.image import load_img, ImageDataGenerator, img_to_array, array_to_img"
      ]
    },
    {
      "cell_type": "code",
      "execution_count": null,
      "metadata": {
        "id": "UGiiNyDSYwM0"
      },
      "outputs": [],
      "source": [
        "import tensorflow as tf\n",
        "from tensorflow import keras\n",
        "from tensorflow.keras import Model, Sequential"
      ]
    },
    {
      "cell_type": "markdown",
      "source": [
        "#different image directories"
      ],
      "metadata": {
        "id": "Ijb7Mief7g9J"
      }
    },
    {
      "cell_type": "code",
      "execution_count": null,
      "metadata": {
        "id": "f19gNXxnY2N1"
      },
      "outputs": [],
      "source": [
        "input_dir1 = \"/content/drive/MyDrive/image_copy/image_copy1/\"\n",
        "combined_mask_dir1=\"/content/drive/MyDrive/mask_copy/content/combined_masks/\"\n",
        "\n",
        "input_dir2 = \"/content/drive/MyDrive/image_copy/image_copy1_augmented_vertically/\"\n",
        "combined_mask_dir2 = \"/content/drive/MyDrive/mask_copy/content/combined_masks_augmented_vertically/\"\n",
        "\n",
        "input_dir4 = \"/content/drive/MyDrive/image_copy/augmented_image_rotated/\"\n",
        "combined_mask_dir4 = \"/content/drive/MyDrive/mask_copy/content/augmented_rotated_masks/\"\n",
        "\n",
        "input_dir5 = \"/content/drive/MyDrive/image_copy/augmented_image_zoom/\"\n",
        "combined_mask_dir5 = \"/content/drive/MyDrive/mask_copy/content/augmented_mask_zoomed/\"\n",
        "\n",
        "input_dir6 = \"/content/drive/MyDrive/image_copy/augmented_image_shift_width/\"\n",
        "combined_mask_dir6 = \"/content/drive/MyDrive/mask_copy/content/augmented_mask_width_shifted/\"\n"
      ]
    },
    {
      "cell_type": "code",
      "execution_count": null,
      "metadata": {
        "id": "ijLbdN_s_utz"
      },
      "outputs": [],
      "source": [
        "test_dir_img = \"/content/drive/MyDrive/image_copy/image_test/\"\n",
        "test_dir_mask = \"/content/drive/MyDrive/mask_copy/content/mask_test/\""
      ]
    },
    {
      "cell_type": "code",
      "execution_count": null,
      "metadata": {
        "colab": {
          "base_uri": "https://localhost:8080/"
        },
        "id": "sUThb2DzAR6O",
        "outputId": "a751d184-a766-4ca2-8a26-b50c1dc7dd66"
      },
      "outputs": [
        {
          "data": {
            "text/plain": [
              "['/content/drive/MyDrive/image_copy/image_test/image_25.jpg',\n",
              " '/content/drive/MyDrive/image_copy/image_test/image_26.jpg',\n",
              " '/content/drive/MyDrive/image_copy/image_test/image_27.jpg',\n",
              " '/content/drive/MyDrive/image_copy/image_test/image_28.jpg']"
            ]
          },
          "execution_count": 12,
          "metadata": {},
          "output_type": "execute_result"
        }
      ],
      "source": [
        "input_test_img_paths = natsort.natsorted(\n",
        "    [\n",
        "        os.path.join(test_dir_img, fname)\n",
        "        for fname in os.listdir(test_dir_img)\n",
        "        if fname.endswith(\".jpg\")\n",
        "    ]\n",
        ")\n",
        "\n",
        "input_test_img_paths[16:20]"
      ]
    },
    {
      "cell_type": "code",
      "execution_count": null,
      "metadata": {
        "colab": {
          "base_uri": "https://localhost:8080/"
        },
        "id": "YSJ-pQDGAlpM",
        "outputId": "b104a4c1-1967-46eb-c883-b320dd4f6398"
      },
      "outputs": [
        {
          "data": {
            "text/plain": [
              "['/content/drive/MyDrive/mask_copy/content/mask_test/mask_25.jpg',\n",
              " '/content/drive/MyDrive/mask_copy/content/mask_test/mask_26.jpg',\n",
              " '/content/drive/MyDrive/mask_copy/content/mask_test/mask_27.jpg',\n",
              " '/content/drive/MyDrive/mask_copy/content/mask_test/mask_28.jpg']"
            ]
          },
          "execution_count": 13,
          "metadata": {},
          "output_type": "execute_result"
        }
      ],
      "source": [
        "input_test_mask_paths = natsort.natsorted(\n",
        "    [\n",
        "        os.path.join(test_dir_mask, fname)\n",
        "        for fname in os.listdir(test_dir_mask)\n",
        "        if fname.endswith(\".jpg\")\n",
        "    ]\n",
        ")\n",
        "\n",
        "input_test_mask_paths[16:20]"
      ]
    },
    {
      "cell_type": "code",
      "execution_count": null,
      "metadata": {
        "colab": {
          "base_uri": "https://localhost:8080/"
        },
        "id": "TzEb1e8QY-Y-",
        "outputId": "df300612-9641-4f42-eb40-6ca72961d5d1"
      },
      "outputs": [
        {
          "data": {
            "text/plain": [
              "['/content/drive/MyDrive/image_copy/image_copy1/image_40.jpg',\n",
              " '/content/drive/MyDrive/image_copy/image_copy1/image_41.jpg',\n",
              " '/content/drive/MyDrive/image_copy/image_copy1/image_42.jpg',\n",
              " '/content/drive/MyDrive/image_copy/image_copy1/image_43.jpg']"
            ]
          },
          "execution_count": 14,
          "metadata": {},
          "output_type": "execute_result"
        }
      ],
      "source": [
        "input_img_paths1 = natsort.natsorted(\n",
        "    [\n",
        "        os.path.join(input_dir1, fname)\n",
        "        for fname in os.listdir(input_dir1)\n",
        "        if fname.endswith(\".jpg\")\n",
        "    ]\n",
        ")\n",
        "\n",
        "input_img_paths1[16:20]"
      ]
    },
    {
      "cell_type": "code",
      "execution_count": null,
      "metadata": {
        "colab": {
          "base_uri": "https://localhost:8080/"
        },
        "id": "38XzGuf7CKKG",
        "outputId": "6ec7bd94-1ede-49f1-b126-b092bfba072c"
      },
      "outputs": [
        {
          "data": {
            "text/plain": [
              "['/content/drive/MyDrive/mask_copy/content/combined_masks/mask_40.jpg',\n",
              " '/content/drive/MyDrive/mask_copy/content/combined_masks/mask_41.jpg',\n",
              " '/content/drive/MyDrive/mask_copy/content/combined_masks/mask_42.jpg',\n",
              " '/content/drive/MyDrive/mask_copy/content/combined_masks/mask_43.jpg']"
            ]
          },
          "execution_count": 15,
          "metadata": {},
          "output_type": "execute_result"
        }
      ],
      "source": [
        "combined_mask_paths1 =natsort.natsorted(\n",
        "    [\n",
        "        os.path.join(combined_mask_dir1, fname)\n",
        "        for fname in os.listdir(combined_mask_dir1)\n",
        "        if fname.endswith(\".jpg\")\n",
        "    ]\n",
        ")\n",
        "\n",
        "combined_mask_paths1[16:20]"
      ]
    },
    {
      "cell_type": "code",
      "execution_count": null,
      "metadata": {
        "colab": {
          "base_uri": "https://localhost:8080/"
        },
        "id": "qZu4WJ_i8iCm",
        "outputId": "02284994-8183-411c-848c-06c477aa0a69"
      },
      "outputs": [
        {
          "data": {
            "text/plain": [
              "['/content/drive/MyDrive/image_copy/image_copy1_augmented_vertically/image_40.jpg',\n",
              " '/content/drive/MyDrive/image_copy/image_copy1_augmented_vertically/image_41.jpg',\n",
              " '/content/drive/MyDrive/image_copy/image_copy1_augmented_vertically/image_42.jpg',\n",
              " '/content/drive/MyDrive/image_copy/image_copy1_augmented_vertically/image_43.jpg']"
            ]
          },
          "execution_count": 16,
          "metadata": {},
          "output_type": "execute_result"
        }
      ],
      "source": [
        "input_img_paths2 = natsort.natsorted(\n",
        "    [\n",
        "        os.path.join(input_dir2, fname)\n",
        "        for fname in os.listdir(input_dir2)\n",
        "        if fname.endswith(\".jpg\")\n",
        "    ]\n",
        ")\n",
        "\n",
        "input_img_paths2[16:20]"
      ]
    },
    {
      "cell_type": "code",
      "execution_count": null,
      "metadata": {
        "colab": {
          "base_uri": "https://localhost:8080/"
        },
        "id": "ahEfo5BK8hnC",
        "outputId": "e26aa38e-8b49-413c-8b40-f3c0d49bf4c2"
      },
      "outputs": [
        {
          "data": {
            "text/plain": [
              "['/content/drive/MyDrive/mask_copy/content/combined_masks_augmented_vertically/mask_40.jpg',\n",
              " '/content/drive/MyDrive/mask_copy/content/combined_masks_augmented_vertically/mask_41.jpg',\n",
              " '/content/drive/MyDrive/mask_copy/content/combined_masks_augmented_vertically/mask_42.jpg',\n",
              " '/content/drive/MyDrive/mask_copy/content/combined_masks_augmented_vertically/mask_43.jpg']"
            ]
          },
          "execution_count": 17,
          "metadata": {},
          "output_type": "execute_result"
        }
      ],
      "source": [
        "combined_mask_paths2 = natsort.natsorted(\n",
        "    [\n",
        "        os.path.join(combined_mask_dir2, fname)\n",
        "        for fname in os.listdir(combined_mask_dir2)\n",
        "        if fname.endswith(\".jpg\")\n",
        "    ]\n",
        ")\n",
        "\n",
        "combined_mask_paths2[16:20]"
      ]
    },
    {
      "cell_type": "code",
      "execution_count": null,
      "metadata": {
        "colab": {
          "base_uri": "https://localhost:8080/"
        },
        "id": "Rlq2fqibZaU9",
        "outputId": "1e40a4ef-f616-484d-cb7d-1c3ea57d889d"
      },
      "outputs": [
        {
          "data": {
            "text/plain": [
              "['/content/drive/MyDrive/image_copy/augmented_image_rotated/image_40.jpg',\n",
              " '/content/drive/MyDrive/image_copy/augmented_image_rotated/image_41.jpg',\n",
              " '/content/drive/MyDrive/image_copy/augmented_image_rotated/image_42.jpg',\n",
              " '/content/drive/MyDrive/image_copy/augmented_image_rotated/image_43.jpg']"
            ]
          },
          "execution_count": 20,
          "metadata": {},
          "output_type": "execute_result"
        }
      ],
      "source": [
        "input_img_paths4 = natsort.natsorted(\n",
        "    [\n",
        "        os.path.join(input_dir4, fname)\n",
        "        for fname in os.listdir(input_dir4)\n",
        "        if fname.endswith(\".jpg\")\n",
        "    ]\n",
        ")\n",
        "\n",
        "input_img_paths4[16:20]"
      ]
    },
    {
      "cell_type": "code",
      "execution_count": null,
      "metadata": {
        "colab": {
          "base_uri": "https://localhost:8080/"
        },
        "id": "5pdBA0KqZoB3",
        "outputId": "a1f0fd32-b454-40f3-ec87-200e8b07b1a6"
      },
      "outputs": [
        {
          "data": {
            "text/plain": [
              "['/content/drive/MyDrive/mask_copy/content/augmented_rotated_masks/mask_40.jpg',\n",
              " '/content/drive/MyDrive/mask_copy/content/augmented_rotated_masks/mask_41.jpg',\n",
              " '/content/drive/MyDrive/mask_copy/content/augmented_rotated_masks/mask_42.jpg',\n",
              " '/content/drive/MyDrive/mask_copy/content/augmented_rotated_masks/mask_43.jpg']"
            ]
          },
          "execution_count": 21,
          "metadata": {},
          "output_type": "execute_result"
        }
      ],
      "source": [
        "combined_mask_paths4 = natsort.natsorted(\n",
        "    [\n",
        "        os.path.join(combined_mask_dir4, fname)\n",
        "        for fname in os.listdir(combined_mask_dir4)\n",
        "        if fname.endswith(\".jpg\")\n",
        "    ]\n",
        ")\n",
        "\n",
        "combined_mask_paths4[16:20]"
      ]
    },
    {
      "cell_type": "code",
      "execution_count": null,
      "metadata": {
        "colab": {
          "base_uri": "https://localhost:8080/"
        },
        "id": "t7lAJIUBH6SI",
        "outputId": "e5c68d08-9c36-4158-9164-6d2bcfd89ac7"
      },
      "outputs": [
        {
          "data": {
            "text/plain": [
              "['/content/drive/MyDrive/image_copy/augmented_image_zoom/image_40.jpg',\n",
              " '/content/drive/MyDrive/image_copy/augmented_image_zoom/image_41.jpg',\n",
              " '/content/drive/MyDrive/image_copy/augmented_image_zoom/image_42.jpg',\n",
              " '/content/drive/MyDrive/image_copy/augmented_image_zoom/image_43.jpg']"
            ]
          },
          "execution_count": 22,
          "metadata": {},
          "output_type": "execute_result"
        }
      ],
      "source": [
        "input_img_paths5 = natsort.natsorted(\n",
        "    [\n",
        "        os.path.join(input_dir5, fname)\n",
        "        for fname in os.listdir(input_dir5)\n",
        "        if fname.endswith(\".jpg\")\n",
        "    ]\n",
        ")\n",
        "\n",
        "input_img_paths5[16:20]"
      ]
    },
    {
      "cell_type": "code",
      "execution_count": null,
      "metadata": {
        "colab": {
          "base_uri": "https://localhost:8080/"
        },
        "id": "5tJQtVzEHv5d",
        "outputId": "7412ea2d-ac4e-4111-c8f1-d3e1b2c74570"
      },
      "outputs": [
        {
          "data": {
            "text/plain": [
              "['/content/drive/MyDrive/mask_copy/content/augmented_mask_zoomed/mask_40.jpg',\n",
              " '/content/drive/MyDrive/mask_copy/content/augmented_mask_zoomed/mask_41.jpg',\n",
              " '/content/drive/MyDrive/mask_copy/content/augmented_mask_zoomed/mask_42.jpg',\n",
              " '/content/drive/MyDrive/mask_copy/content/augmented_mask_zoomed/mask_43.jpg']"
            ]
          },
          "execution_count": 23,
          "metadata": {},
          "output_type": "execute_result"
        }
      ],
      "source": [
        "combined_mask_paths5 = natsort.natsorted(\n",
        "    [\n",
        "        os.path.join(combined_mask_dir5, fname)\n",
        "        for fname in os.listdir(combined_mask_dir5)\n",
        "        if fname.endswith(\".jpg\")\n",
        "    ]\n",
        ")\n",
        "\n",
        "combined_mask_paths5[16:20]"
      ]
    },
    {
      "cell_type": "code",
      "execution_count": null,
      "metadata": {
        "colab": {
          "base_uri": "https://localhost:8080/"
        },
        "id": "RqbuJMhI1-IY",
        "outputId": "409047cb-c8ac-4d2d-d328-8257f82d8493"
      },
      "outputs": [
        {
          "data": {
            "text/plain": [
              "['/content/drive/MyDrive/image_copy/augmented_image_shift_width/image_40.jpg',\n",
              " '/content/drive/MyDrive/image_copy/augmented_image_shift_width/image_41.jpg',\n",
              " '/content/drive/MyDrive/image_copy/augmented_image_shift_width/image_42.jpg',\n",
              " '/content/drive/MyDrive/image_copy/augmented_image_shift_width/image_43.jpg']"
            ]
          },
          "execution_count": 24,
          "metadata": {},
          "output_type": "execute_result"
        }
      ],
      "source": [
        "input_img_paths6 = natsort.natsorted(\n",
        "    [\n",
        "        os.path.join(input_dir6, fname)\n",
        "        for fname in os.listdir(input_dir6)\n",
        "        if fname.endswith(\".jpg\")\n",
        "    ]\n",
        ")\n",
        "\n",
        "input_img_paths6[16:20]"
      ]
    },
    {
      "cell_type": "code",
      "execution_count": null,
      "metadata": {
        "colab": {
          "base_uri": "https://localhost:8080/"
        },
        "id": "7Hy4iFgo1vv1",
        "outputId": "8eea5a81-aca7-4bfd-b004-3e7e0a3add22"
      },
      "outputs": [
        {
          "data": {
            "text/plain": [
              "['/content/drive/MyDrive/mask_copy/content/augmented_mask_width_shifted/mask_40.jpg',\n",
              " '/content/drive/MyDrive/mask_copy/content/augmented_mask_width_shifted/mask_41.jpg',\n",
              " '/content/drive/MyDrive/mask_copy/content/augmented_mask_width_shifted/mask_42.jpg',\n",
              " '/content/drive/MyDrive/mask_copy/content/augmented_mask_width_shifted/mask_43.jpg']"
            ]
          },
          "execution_count": 25,
          "metadata": {},
          "output_type": "execute_result"
        }
      ],
      "source": [
        "combined_mask_paths6 = natsort.natsorted(\n",
        "    [\n",
        "        os.path.join(combined_mask_dir6, fname)\n",
        "        for fname in os.listdir(combined_mask_dir6)\n",
        "        if fname.endswith(\".jpg\")\n",
        "    ]\n",
        ")\n",
        "\n",
        "combined_mask_paths6[16:20]"
      ]
    },
    {
      "cell_type": "code",
      "execution_count": null,
      "metadata": {
        "colab": {
          "base_uri": "https://localhost:8080/"
        },
        "id": "N1j5Z84q99ml",
        "outputId": "2ee89862-e9f0-4ae4-8a76-42026ffce1bc"
      },
      "outputs": [
        {
          "name": "stdout",
          "output_type": "stream",
          "text": [
            "1685\n",
            "1685\n"
          ]
        }
      ],
      "source": [
        "combined_images = input_img_paths1  + input_img_paths2  + input_img_paths4 + input_img_paths5 + input_img_paths6\n",
        "combined_masks = combined_mask_paths1  + combined_mask_paths2 + combined_mask_paths4 + combined_mask_paths5 + combined_mask_paths6 \n",
        "print(len(combined_masks))\n",
        "print(len(combined_images))"
      ]
    },
    {
      "cell_type": "code",
      "execution_count": null,
      "metadata": {
        "colab": {
          "base_uri": "https://localhost:8080/"
        },
        "id": "cuhY5GB0I-rO",
        "outputId": "82ebd132-66b7-44bd-fdaf-34294edc462c"
      },
      "outputs": [
        {
          "data": {
            "text/plain": [
              "['/content/drive/MyDrive/image_copy/image_copy1_augmented_vertically/image_303.jpg',\n",
              " '/content/drive/MyDrive/image_copy/image_copy1_augmented_vertically/image_304.jpg',\n",
              " '/content/drive/MyDrive/image_copy/image_copy1_augmented_vertically/image_305.jpg',\n",
              " '/content/drive/MyDrive/image_copy/image_copy1_augmented_vertically/image_306.jpg',\n",
              " '/content/drive/MyDrive/image_copy/image_copy1_augmented_vertically/image_307.jpg',\n",
              " '/content/drive/MyDrive/image_copy/image_copy1_augmented_vertically/image_308.jpg']"
            ]
          },
          "execution_count": 27,
          "metadata": {},
          "output_type": "execute_result"
        }
      ],
      "source": [
        "combined_images[600:606]"
      ]
    },
    {
      "cell_type": "code",
      "execution_count": null,
      "metadata": {
        "colab": {
          "base_uri": "https://localhost:8080/"
        },
        "id": "AsoG2m-fJCkB",
        "outputId": "8fb66662-5f0c-4683-b4e8-c7a46bb5f604"
      },
      "outputs": [
        {
          "data": {
            "text/plain": [
              "['/content/drive/MyDrive/mask_copy/content/combined_masks_augmented_vertically/mask_303.jpg',\n",
              " '/content/drive/MyDrive/mask_copy/content/combined_masks_augmented_vertically/mask_304.jpg',\n",
              " '/content/drive/MyDrive/mask_copy/content/combined_masks_augmented_vertically/mask_305.jpg',\n",
              " '/content/drive/MyDrive/mask_copy/content/combined_masks_augmented_vertically/mask_306.jpg',\n",
              " '/content/drive/MyDrive/mask_copy/content/combined_masks_augmented_vertically/mask_307.jpg',\n",
              " '/content/drive/MyDrive/mask_copy/content/combined_masks_augmented_vertically/mask_308.jpg']"
            ]
          },
          "execution_count": 28,
          "metadata": {},
          "output_type": "execute_result"
        }
      ],
      "source": [
        "combined_masks[600:606]"
      ]
    },
    {
      "cell_type": "markdown",
      "source": [
        "#combining All the images directories in one dataframe"
      ],
      "metadata": {
        "id": "Z_Qk6Nal7zmH"
      }
    },
    {
      "cell_type": "code",
      "execution_count": null,
      "metadata": {
        "colab": {
          "base_uri": "https://localhost:8080/",
          "height": 424
        },
        "id": "mWa4resRHRtj",
        "outputId": "2746f717-f2fe-4720-cdec-5c9df5e60fa7"
      },
      "outputs": [
        {
          "data": {
            "text/html": [
              "\n",
              "  <div id=\"df-863cade8-4dff-4db7-b38b-6cf55896ef39\">\n",
              "    <div class=\"colab-df-container\">\n",
              "      <div>\n",
              "<style scoped>\n",
              "    .dataframe tbody tr th:only-of-type {\n",
              "        vertical-align: middle;\n",
              "    }\n",
              "\n",
              "    .dataframe tbody tr th {\n",
              "        vertical-align: top;\n",
              "    }\n",
              "\n",
              "    .dataframe thead th {\n",
              "        text-align: right;\n",
              "    }\n",
              "</style>\n",
              "<table border=\"1\" class=\"dataframe\">\n",
              "  <thead>\n",
              "    <tr style=\"text-align: right;\">\n",
              "      <th></th>\n",
              "      <th>image_path</th>\n",
              "      <th>mask_path</th>\n",
              "    </tr>\n",
              "  </thead>\n",
              "  <tbody>\n",
              "    <tr>\n",
              "      <th>0</th>\n",
              "      <td>/content/drive/MyDrive/image_copy/image_copy1/...</td>\n",
              "      <td>/content/drive/MyDrive/mask_copy/content/combi...</td>\n",
              "    </tr>\n",
              "    <tr>\n",
              "      <th>1</th>\n",
              "      <td>/content/drive/MyDrive/image_copy/image_copy1/...</td>\n",
              "      <td>/content/drive/MyDrive/mask_copy/content/combi...</td>\n",
              "    </tr>\n",
              "    <tr>\n",
              "      <th>2</th>\n",
              "      <td>/content/drive/MyDrive/image_copy/image_copy1/...</td>\n",
              "      <td>/content/drive/MyDrive/mask_copy/content/combi...</td>\n",
              "    </tr>\n",
              "    <tr>\n",
              "      <th>3</th>\n",
              "      <td>/content/drive/MyDrive/image_copy/image_copy1/...</td>\n",
              "      <td>/content/drive/MyDrive/mask_copy/content/combi...</td>\n",
              "    </tr>\n",
              "    <tr>\n",
              "      <th>4</th>\n",
              "      <td>/content/drive/MyDrive/image_copy/image_copy1/...</td>\n",
              "      <td>/content/drive/MyDrive/mask_copy/content/combi...</td>\n",
              "    </tr>\n",
              "    <tr>\n",
              "      <th>...</th>\n",
              "      <td>...</td>\n",
              "      <td>...</td>\n",
              "    </tr>\n",
              "    <tr>\n",
              "      <th>1680</th>\n",
              "      <td>/content/drive/MyDrive/image_copy/augmented_im...</td>\n",
              "      <td>/content/drive/MyDrive/mask_copy/content/augme...</td>\n",
              "    </tr>\n",
              "    <tr>\n",
              "      <th>1681</th>\n",
              "      <td>/content/drive/MyDrive/image_copy/augmented_im...</td>\n",
              "      <td>/content/drive/MyDrive/mask_copy/content/augme...</td>\n",
              "    </tr>\n",
              "    <tr>\n",
              "      <th>1682</th>\n",
              "      <td>/content/drive/MyDrive/image_copy/augmented_im...</td>\n",
              "      <td>/content/drive/MyDrive/mask_copy/content/augme...</td>\n",
              "    </tr>\n",
              "    <tr>\n",
              "      <th>1683</th>\n",
              "      <td>/content/drive/MyDrive/image_copy/augmented_im...</td>\n",
              "      <td>/content/drive/MyDrive/mask_copy/content/augme...</td>\n",
              "    </tr>\n",
              "    <tr>\n",
              "      <th>1684</th>\n",
              "      <td>/content/drive/MyDrive/image_copy/augmented_im...</td>\n",
              "      <td>/content/drive/MyDrive/mask_copy/content/augme...</td>\n",
              "    </tr>\n",
              "  </tbody>\n",
              "</table>\n",
              "<p>1685 rows × 2 columns</p>\n",
              "</div>\n",
              "      <button class=\"colab-df-convert\" onclick=\"convertToInteractive('df-863cade8-4dff-4db7-b38b-6cf55896ef39')\"\n",
              "              title=\"Convert this dataframe to an interactive table.\"\n",
              "              style=\"display:none;\">\n",
              "        \n",
              "  <svg xmlns=\"http://www.w3.org/2000/svg\" height=\"24px\"viewBox=\"0 0 24 24\"\n",
              "       width=\"24px\">\n",
              "    <path d=\"M0 0h24v24H0V0z\" fill=\"none\"/>\n",
              "    <path d=\"M18.56 5.44l.94 2.06.94-2.06 2.06-.94-2.06-.94-.94-2.06-.94 2.06-2.06.94zm-11 1L8.5 8.5l.94-2.06 2.06-.94-2.06-.94L8.5 2.5l-.94 2.06-2.06.94zm10 10l.94 2.06.94-2.06 2.06-.94-2.06-.94-.94-2.06-.94 2.06-2.06.94z\"/><path d=\"M17.41 7.96l-1.37-1.37c-.4-.4-.92-.59-1.43-.59-.52 0-1.04.2-1.43.59L10.3 9.45l-7.72 7.72c-.78.78-.78 2.05 0 2.83L4 21.41c.39.39.9.59 1.41.59.51 0 1.02-.2 1.41-.59l7.78-7.78 2.81-2.81c.8-.78.8-2.07 0-2.86zM5.41 20L4 18.59l7.72-7.72 1.47 1.35L5.41 20z\"/>\n",
              "  </svg>\n",
              "      </button>\n",
              "      \n",
              "  <style>\n",
              "    .colab-df-container {\n",
              "      display:flex;\n",
              "      flex-wrap:wrap;\n",
              "      gap: 12px;\n",
              "    }\n",
              "\n",
              "    .colab-df-convert {\n",
              "      background-color: #E8F0FE;\n",
              "      border: none;\n",
              "      border-radius: 50%;\n",
              "      cursor: pointer;\n",
              "      display: none;\n",
              "      fill: #1967D2;\n",
              "      height: 32px;\n",
              "      padding: 0 0 0 0;\n",
              "      width: 32px;\n",
              "    }\n",
              "\n",
              "    .colab-df-convert:hover {\n",
              "      background-color: #E2EBFA;\n",
              "      box-shadow: 0px 1px 2px rgba(60, 64, 67, 0.3), 0px 1px 3px 1px rgba(60, 64, 67, 0.15);\n",
              "      fill: #174EA6;\n",
              "    }\n",
              "\n",
              "    [theme=dark] .colab-df-convert {\n",
              "      background-color: #3B4455;\n",
              "      fill: #D2E3FC;\n",
              "    }\n",
              "\n",
              "    [theme=dark] .colab-df-convert:hover {\n",
              "      background-color: #434B5C;\n",
              "      box-shadow: 0px 1px 3px 1px rgba(0, 0, 0, 0.15);\n",
              "      filter: drop-shadow(0px 1px 2px rgba(0, 0, 0, 0.3));\n",
              "      fill: #FFFFFF;\n",
              "    }\n",
              "  </style>\n",
              "\n",
              "      <script>\n",
              "        const buttonEl =\n",
              "          document.querySelector('#df-863cade8-4dff-4db7-b38b-6cf55896ef39 button.colab-df-convert');\n",
              "        buttonEl.style.display =\n",
              "          google.colab.kernel.accessAllowed ? 'block' : 'none';\n",
              "\n",
              "        async function convertToInteractive(key) {\n",
              "          const element = document.querySelector('#df-863cade8-4dff-4db7-b38b-6cf55896ef39');\n",
              "          const dataTable =\n",
              "            await google.colab.kernel.invokeFunction('convertToInteractive',\n",
              "                                                     [key], {});\n",
              "          if (!dataTable) return;\n",
              "\n",
              "          const docLinkHtml = 'Like what you see? Visit the ' +\n",
              "            '<a target=\"_blank\" href=https://colab.research.google.com/notebooks/data_table.ipynb>data table notebook</a>'\n",
              "            + ' to learn more about interactive tables.';\n",
              "          element.innerHTML = '';\n",
              "          dataTable['output_type'] = 'display_data';\n",
              "          await google.colab.output.renderOutput(dataTable, element);\n",
              "          const docLink = document.createElement('div');\n",
              "          docLink.innerHTML = docLinkHtml;\n",
              "          element.appendChild(docLink);\n",
              "        }\n",
              "      </script>\n",
              "    </div>\n",
              "  </div>\n",
              "  "
            ],
            "text/plain": [
              "                                             image_path  \\\n",
              "0     /content/drive/MyDrive/image_copy/image_copy1/...   \n",
              "1     /content/drive/MyDrive/image_copy/image_copy1/...   \n",
              "2     /content/drive/MyDrive/image_copy/image_copy1/...   \n",
              "3     /content/drive/MyDrive/image_copy/image_copy1/...   \n",
              "4     /content/drive/MyDrive/image_copy/image_copy1/...   \n",
              "...                                                 ...   \n",
              "1680  /content/drive/MyDrive/image_copy/augmented_im...   \n",
              "1681  /content/drive/MyDrive/image_copy/augmented_im...   \n",
              "1682  /content/drive/MyDrive/image_copy/augmented_im...   \n",
              "1683  /content/drive/MyDrive/image_copy/augmented_im...   \n",
              "1684  /content/drive/MyDrive/image_copy/augmented_im...   \n",
              "\n",
              "                                              mask_path  \n",
              "0     /content/drive/MyDrive/mask_copy/content/combi...  \n",
              "1     /content/drive/MyDrive/mask_copy/content/combi...  \n",
              "2     /content/drive/MyDrive/mask_copy/content/combi...  \n",
              "3     /content/drive/MyDrive/mask_copy/content/combi...  \n",
              "4     /content/drive/MyDrive/mask_copy/content/combi...  \n",
              "...                                                 ...  \n",
              "1680  /content/drive/MyDrive/mask_copy/content/augme...  \n",
              "1681  /content/drive/MyDrive/mask_copy/content/augme...  \n",
              "1682  /content/drive/MyDrive/mask_copy/content/augme...  \n",
              "1683  /content/drive/MyDrive/mask_copy/content/augme...  \n",
              "1684  /content/drive/MyDrive/mask_copy/content/augme...  \n",
              "\n",
              "[1685 rows x 2 columns]"
            ]
          },
          "execution_count": 29,
          "metadata": {},
          "output_type": "execute_result"
        }
      ],
      "source": [
        "image_and_mask = {'image_path':combined_images, 'mask_path':combined_masks}\n",
        "df = pd.DataFrame(image_and_mask)\n",
        "df"
      ]
    },
    {
      "cell_type": "code",
      "execution_count": null,
      "metadata": {
        "colab": {
          "base_uri": "https://localhost:8080/",
          "height": 1000
        },
        "id": "GYNTiuLdA8ke",
        "outputId": "5bbc1749-eeda-4965-c0a9-8255bed7f478"
      },
      "outputs": [
        {
          "data": {
            "text/html": [
              "\n",
              "  <div id=\"df-2b2a7ba1-6098-422a-895e-77f08f7f4c09\">\n",
              "    <div class=\"colab-df-container\">\n",
              "      <div>\n",
              "<style scoped>\n",
              "    .dataframe tbody tr th:only-of-type {\n",
              "        vertical-align: middle;\n",
              "    }\n",
              "\n",
              "    .dataframe tbody tr th {\n",
              "        vertical-align: top;\n",
              "    }\n",
              "\n",
              "    .dataframe thead th {\n",
              "        text-align: right;\n",
              "    }\n",
              "</style>\n",
              "<table border=\"1\" class=\"dataframe\">\n",
              "  <thead>\n",
              "    <tr style=\"text-align: right;\">\n",
              "      <th></th>\n",
              "      <th>image_path</th>\n",
              "      <th>mask_path</th>\n",
              "    </tr>\n",
              "  </thead>\n",
              "  <tbody>\n",
              "    <tr>\n",
              "      <th>0</th>\n",
              "      <td>/content/drive/MyDrive/image_copy/image_test/i...</td>\n",
              "      <td>/content/drive/MyDrive/mask_copy/content/mask_...</td>\n",
              "    </tr>\n",
              "    <tr>\n",
              "      <th>1</th>\n",
              "      <td>/content/drive/MyDrive/image_copy/image_test/i...</td>\n",
              "      <td>/content/drive/MyDrive/mask_copy/content/mask_...</td>\n",
              "    </tr>\n",
              "    <tr>\n",
              "      <th>2</th>\n",
              "      <td>/content/drive/MyDrive/image_copy/image_test/i...</td>\n",
              "      <td>/content/drive/MyDrive/mask_copy/content/mask_...</td>\n",
              "    </tr>\n",
              "    <tr>\n",
              "      <th>3</th>\n",
              "      <td>/content/drive/MyDrive/image_copy/image_test/i...</td>\n",
              "      <td>/content/drive/MyDrive/mask_copy/content/mask_...</td>\n",
              "    </tr>\n",
              "    <tr>\n",
              "      <th>4</th>\n",
              "      <td>/content/drive/MyDrive/image_copy/image_test/i...</td>\n",
              "      <td>/content/drive/MyDrive/mask_copy/content/mask_...</td>\n",
              "    </tr>\n",
              "    <tr>\n",
              "      <th>5</th>\n",
              "      <td>/content/drive/MyDrive/image_copy/image_test/i...</td>\n",
              "      <td>/content/drive/MyDrive/mask_copy/content/mask_...</td>\n",
              "    </tr>\n",
              "    <tr>\n",
              "      <th>6</th>\n",
              "      <td>/content/drive/MyDrive/image_copy/image_test/i...</td>\n",
              "      <td>/content/drive/MyDrive/mask_copy/content/mask_...</td>\n",
              "    </tr>\n",
              "    <tr>\n",
              "      <th>7</th>\n",
              "      <td>/content/drive/MyDrive/image_copy/image_test/i...</td>\n",
              "      <td>/content/drive/MyDrive/mask_copy/content/mask_...</td>\n",
              "    </tr>\n",
              "    <tr>\n",
              "      <th>8</th>\n",
              "      <td>/content/drive/MyDrive/image_copy/image_test/i...</td>\n",
              "      <td>/content/drive/MyDrive/mask_copy/content/mask_...</td>\n",
              "    </tr>\n",
              "    <tr>\n",
              "      <th>9</th>\n",
              "      <td>/content/drive/MyDrive/image_copy/image_test/i...</td>\n",
              "      <td>/content/drive/MyDrive/mask_copy/content/mask_...</td>\n",
              "    </tr>\n",
              "    <tr>\n",
              "      <th>10</th>\n",
              "      <td>/content/drive/MyDrive/image_copy/image_test/i...</td>\n",
              "      <td>/content/drive/MyDrive/mask_copy/content/mask_...</td>\n",
              "    </tr>\n",
              "    <tr>\n",
              "      <th>11</th>\n",
              "      <td>/content/drive/MyDrive/image_copy/image_test/i...</td>\n",
              "      <td>/content/drive/MyDrive/mask_copy/content/mask_...</td>\n",
              "    </tr>\n",
              "    <tr>\n",
              "      <th>12</th>\n",
              "      <td>/content/drive/MyDrive/image_copy/image_test/i...</td>\n",
              "      <td>/content/drive/MyDrive/mask_copy/content/mask_...</td>\n",
              "    </tr>\n",
              "    <tr>\n",
              "      <th>13</th>\n",
              "      <td>/content/drive/MyDrive/image_copy/image_test/i...</td>\n",
              "      <td>/content/drive/MyDrive/mask_copy/content/mask_...</td>\n",
              "    </tr>\n",
              "    <tr>\n",
              "      <th>14</th>\n",
              "      <td>/content/drive/MyDrive/image_copy/image_test/i...</td>\n",
              "      <td>/content/drive/MyDrive/mask_copy/content/mask_...</td>\n",
              "    </tr>\n",
              "    <tr>\n",
              "      <th>15</th>\n",
              "      <td>/content/drive/MyDrive/image_copy/image_test/i...</td>\n",
              "      <td>/content/drive/MyDrive/mask_copy/content/mask_...</td>\n",
              "    </tr>\n",
              "    <tr>\n",
              "      <th>16</th>\n",
              "      <td>/content/drive/MyDrive/image_copy/image_test/i...</td>\n",
              "      <td>/content/drive/MyDrive/mask_copy/content/mask_...</td>\n",
              "    </tr>\n",
              "    <tr>\n",
              "      <th>17</th>\n",
              "      <td>/content/drive/MyDrive/image_copy/image_test/i...</td>\n",
              "      <td>/content/drive/MyDrive/mask_copy/content/mask_...</td>\n",
              "    </tr>\n",
              "    <tr>\n",
              "      <th>18</th>\n",
              "      <td>/content/drive/MyDrive/image_copy/image_test/i...</td>\n",
              "      <td>/content/drive/MyDrive/mask_copy/content/mask_...</td>\n",
              "    </tr>\n",
              "    <tr>\n",
              "      <th>19</th>\n",
              "      <td>/content/drive/MyDrive/image_copy/image_test/i...</td>\n",
              "      <td>/content/drive/MyDrive/mask_copy/content/mask_...</td>\n",
              "    </tr>\n",
              "    <tr>\n",
              "      <th>20</th>\n",
              "      <td>/content/drive/MyDrive/image_copy/image_test/i...</td>\n",
              "      <td>/content/drive/MyDrive/mask_copy/content/mask_...</td>\n",
              "    </tr>\n",
              "    <tr>\n",
              "      <th>21</th>\n",
              "      <td>/content/drive/MyDrive/image_copy/image_test/i...</td>\n",
              "      <td>/content/drive/MyDrive/mask_copy/content/mask_...</td>\n",
              "    </tr>\n",
              "    <tr>\n",
              "      <th>22</th>\n",
              "      <td>/content/drive/MyDrive/image_copy/image_test/i...</td>\n",
              "      <td>/content/drive/MyDrive/mask_copy/content/mask_...</td>\n",
              "    </tr>\n",
              "    <tr>\n",
              "      <th>23</th>\n",
              "      <td>/content/drive/MyDrive/image_copy/image_test/i...</td>\n",
              "      <td>/content/drive/MyDrive/mask_copy/content/mask_...</td>\n",
              "    </tr>\n",
              "    <tr>\n",
              "      <th>24</th>\n",
              "      <td>/content/drive/MyDrive/image_copy/image_test/i...</td>\n",
              "      <td>/content/drive/MyDrive/mask_copy/content/mask_...</td>\n",
              "    </tr>\n",
              "    <tr>\n",
              "      <th>25</th>\n",
              "      <td>/content/drive/MyDrive/image_copy/image_test/i...</td>\n",
              "      <td>/content/drive/MyDrive/mask_copy/content/mask_...</td>\n",
              "    </tr>\n",
              "    <tr>\n",
              "      <th>26</th>\n",
              "      <td>/content/drive/MyDrive/image_copy/image_test/i...</td>\n",
              "      <td>/content/drive/MyDrive/mask_copy/content/mask_...</td>\n",
              "    </tr>\n",
              "    <tr>\n",
              "      <th>27</th>\n",
              "      <td>/content/drive/MyDrive/image_copy/image_test/i...</td>\n",
              "      <td>/content/drive/MyDrive/mask_copy/content/mask_...</td>\n",
              "    </tr>\n",
              "    <tr>\n",
              "      <th>28</th>\n",
              "      <td>/content/drive/MyDrive/image_copy/image_test/i...</td>\n",
              "      <td>/content/drive/MyDrive/mask_copy/content/mask_...</td>\n",
              "    </tr>\n",
              "    <tr>\n",
              "      <th>29</th>\n",
              "      <td>/content/drive/MyDrive/image_copy/image_test/i...</td>\n",
              "      <td>/content/drive/MyDrive/mask_copy/content/mask_...</td>\n",
              "    </tr>\n",
              "    <tr>\n",
              "      <th>30</th>\n",
              "      <td>/content/drive/MyDrive/image_copy/image_test/i...</td>\n",
              "      <td>/content/drive/MyDrive/mask_copy/content/mask_...</td>\n",
              "    </tr>\n",
              "    <tr>\n",
              "      <th>31</th>\n",
              "      <td>/content/drive/MyDrive/image_copy/image_test/i...</td>\n",
              "      <td>/content/drive/MyDrive/mask_copy/content/mask_...</td>\n",
              "    </tr>\n",
              "    <tr>\n",
              "      <th>32</th>\n",
              "      <td>/content/drive/MyDrive/image_copy/image_test/i...</td>\n",
              "      <td>/content/drive/MyDrive/mask_copy/content/mask_...</td>\n",
              "    </tr>\n",
              "    <tr>\n",
              "      <th>33</th>\n",
              "      <td>/content/drive/MyDrive/image_copy/image_test/i...</td>\n",
              "      <td>/content/drive/MyDrive/mask_copy/content/mask_...</td>\n",
              "    </tr>\n",
              "    <tr>\n",
              "      <th>34</th>\n",
              "      <td>/content/drive/MyDrive/image_copy/image_test/i...</td>\n",
              "      <td>/content/drive/MyDrive/mask_copy/content/mask_...</td>\n",
              "    </tr>\n",
              "    <tr>\n",
              "      <th>35</th>\n",
              "      <td>/content/drive/MyDrive/image_copy/image_test/i...</td>\n",
              "      <td>/content/drive/MyDrive/mask_copy/content/mask_...</td>\n",
              "    </tr>\n",
              "    <tr>\n",
              "      <th>36</th>\n",
              "      <td>/content/drive/MyDrive/image_copy/image_test/i...</td>\n",
              "      <td>/content/drive/MyDrive/mask_copy/content/mask_...</td>\n",
              "    </tr>\n",
              "    <tr>\n",
              "      <th>37</th>\n",
              "      <td>/content/drive/MyDrive/image_copy/image_test/i...</td>\n",
              "      <td>/content/drive/MyDrive/mask_copy/content/mask_...</td>\n",
              "    </tr>\n",
              "    <tr>\n",
              "      <th>38</th>\n",
              "      <td>/content/drive/MyDrive/image_copy/image_test/i...</td>\n",
              "      <td>/content/drive/MyDrive/mask_copy/content/mask_...</td>\n",
              "    </tr>\n",
              "    <tr>\n",
              "      <th>39</th>\n",
              "      <td>/content/drive/MyDrive/image_copy/image_test/i...</td>\n",
              "      <td>/content/drive/MyDrive/mask_copy/content/mask_...</td>\n",
              "    </tr>\n",
              "    <tr>\n",
              "      <th>40</th>\n",
              "      <td>/content/drive/MyDrive/image_copy/image_test/i...</td>\n",
              "      <td>/content/drive/MyDrive/mask_copy/content/mask_...</td>\n",
              "    </tr>\n",
              "    <tr>\n",
              "      <th>41</th>\n",
              "      <td>/content/drive/MyDrive/image_copy/image_test/i...</td>\n",
              "      <td>/content/drive/MyDrive/mask_copy/content/mask_...</td>\n",
              "    </tr>\n",
              "    <tr>\n",
              "      <th>42</th>\n",
              "      <td>/content/drive/MyDrive/image_copy/image_test/i...</td>\n",
              "      <td>/content/drive/MyDrive/mask_copy/content/mask_...</td>\n",
              "    </tr>\n",
              "    <tr>\n",
              "      <th>43</th>\n",
              "      <td>/content/drive/MyDrive/image_copy/image_test/i...</td>\n",
              "      <td>/content/drive/MyDrive/mask_copy/content/mask_...</td>\n",
              "    </tr>\n",
              "    <tr>\n",
              "      <th>44</th>\n",
              "      <td>/content/drive/MyDrive/image_copy/image_test/i...</td>\n",
              "      <td>/content/drive/MyDrive/mask_copy/content/mask_...</td>\n",
              "    </tr>\n",
              "    <tr>\n",
              "      <th>45</th>\n",
              "      <td>/content/drive/MyDrive/image_copy/image_test/i...</td>\n",
              "      <td>/content/drive/MyDrive/mask_copy/content/mask_...</td>\n",
              "    </tr>\n",
              "    <tr>\n",
              "      <th>46</th>\n",
              "      <td>/content/drive/MyDrive/image_copy/image_test/i...</td>\n",
              "      <td>/content/drive/MyDrive/mask_copy/content/mask_...</td>\n",
              "    </tr>\n",
              "    <tr>\n",
              "      <th>47</th>\n",
              "      <td>/content/drive/MyDrive/image_copy/image_test/i...</td>\n",
              "      <td>/content/drive/MyDrive/mask_copy/content/mask_...</td>\n",
              "    </tr>\n",
              "    <tr>\n",
              "      <th>48</th>\n",
              "      <td>/content/drive/MyDrive/image_copy/image_test/i...</td>\n",
              "      <td>/content/drive/MyDrive/mask_copy/content/mask_...</td>\n",
              "    </tr>\n",
              "    <tr>\n",
              "      <th>49</th>\n",
              "      <td>/content/drive/MyDrive/image_copy/image_test/i...</td>\n",
              "      <td>/content/drive/MyDrive/mask_copy/content/mask_...</td>\n",
              "    </tr>\n",
              "  </tbody>\n",
              "</table>\n",
              "</div>\n",
              "      <button class=\"colab-df-convert\" onclick=\"convertToInteractive('df-2b2a7ba1-6098-422a-895e-77f08f7f4c09')\"\n",
              "              title=\"Convert this dataframe to an interactive table.\"\n",
              "              style=\"display:none;\">\n",
              "        \n",
              "  <svg xmlns=\"http://www.w3.org/2000/svg\" height=\"24px\"viewBox=\"0 0 24 24\"\n",
              "       width=\"24px\">\n",
              "    <path d=\"M0 0h24v24H0V0z\" fill=\"none\"/>\n",
              "    <path d=\"M18.56 5.44l.94 2.06.94-2.06 2.06-.94-2.06-.94-.94-2.06-.94 2.06-2.06.94zm-11 1L8.5 8.5l.94-2.06 2.06-.94-2.06-.94L8.5 2.5l-.94 2.06-2.06.94zm10 10l.94 2.06.94-2.06 2.06-.94-2.06-.94-.94-2.06-.94 2.06-2.06.94z\"/><path d=\"M17.41 7.96l-1.37-1.37c-.4-.4-.92-.59-1.43-.59-.52 0-1.04.2-1.43.59L10.3 9.45l-7.72 7.72c-.78.78-.78 2.05 0 2.83L4 21.41c.39.39.9.59 1.41.59.51 0 1.02-.2 1.41-.59l7.78-7.78 2.81-2.81c.8-.78.8-2.07 0-2.86zM5.41 20L4 18.59l7.72-7.72 1.47 1.35L5.41 20z\"/>\n",
              "  </svg>\n",
              "      </button>\n",
              "      \n",
              "  <style>\n",
              "    .colab-df-container {\n",
              "      display:flex;\n",
              "      flex-wrap:wrap;\n",
              "      gap: 12px;\n",
              "    }\n",
              "\n",
              "    .colab-df-convert {\n",
              "      background-color: #E8F0FE;\n",
              "      border: none;\n",
              "      border-radius: 50%;\n",
              "      cursor: pointer;\n",
              "      display: none;\n",
              "      fill: #1967D2;\n",
              "      height: 32px;\n",
              "      padding: 0 0 0 0;\n",
              "      width: 32px;\n",
              "    }\n",
              "\n",
              "    .colab-df-convert:hover {\n",
              "      background-color: #E2EBFA;\n",
              "      box-shadow: 0px 1px 2px rgba(60, 64, 67, 0.3), 0px 1px 3px 1px rgba(60, 64, 67, 0.15);\n",
              "      fill: #174EA6;\n",
              "    }\n",
              "\n",
              "    [theme=dark] .colab-df-convert {\n",
              "      background-color: #3B4455;\n",
              "      fill: #D2E3FC;\n",
              "    }\n",
              "\n",
              "    [theme=dark] .colab-df-convert:hover {\n",
              "      background-color: #434B5C;\n",
              "      box-shadow: 0px 1px 3px 1px rgba(0, 0, 0, 0.15);\n",
              "      filter: drop-shadow(0px 1px 2px rgba(0, 0, 0, 0.3));\n",
              "      fill: #FFFFFF;\n",
              "    }\n",
              "  </style>\n",
              "\n",
              "      <script>\n",
              "        const buttonEl =\n",
              "          document.querySelector('#df-2b2a7ba1-6098-422a-895e-77f08f7f4c09 button.colab-df-convert');\n",
              "        buttonEl.style.display =\n",
              "          google.colab.kernel.accessAllowed ? 'block' : 'none';\n",
              "\n",
              "        async function convertToInteractive(key) {\n",
              "          const element = document.querySelector('#df-2b2a7ba1-6098-422a-895e-77f08f7f4c09');\n",
              "          const dataTable =\n",
              "            await google.colab.kernel.invokeFunction('convertToInteractive',\n",
              "                                                     [key], {});\n",
              "          if (!dataTable) return;\n",
              "\n",
              "          const docLinkHtml = 'Like what you see? Visit the ' +\n",
              "            '<a target=\"_blank\" href=https://colab.research.google.com/notebooks/data_table.ipynb>data table notebook</a>'\n",
              "            + ' to learn more about interactive tables.';\n",
              "          element.innerHTML = '';\n",
              "          dataTable['output_type'] = 'display_data';\n",
              "          await google.colab.output.renderOutput(dataTable, element);\n",
              "          const docLink = document.createElement('div');\n",
              "          docLink.innerHTML = docLinkHtml;\n",
              "          element.appendChild(docLink);\n",
              "        }\n",
              "      </script>\n",
              "    </div>\n",
              "  </div>\n",
              "  "
            ],
            "text/plain": [
              "                                           image_path  \\\n",
              "0   /content/drive/MyDrive/image_copy/image_test/i...   \n",
              "1   /content/drive/MyDrive/image_copy/image_test/i...   \n",
              "2   /content/drive/MyDrive/image_copy/image_test/i...   \n",
              "3   /content/drive/MyDrive/image_copy/image_test/i...   \n",
              "4   /content/drive/MyDrive/image_copy/image_test/i...   \n",
              "5   /content/drive/MyDrive/image_copy/image_test/i...   \n",
              "6   /content/drive/MyDrive/image_copy/image_test/i...   \n",
              "7   /content/drive/MyDrive/image_copy/image_test/i...   \n",
              "8   /content/drive/MyDrive/image_copy/image_test/i...   \n",
              "9   /content/drive/MyDrive/image_copy/image_test/i...   \n",
              "10  /content/drive/MyDrive/image_copy/image_test/i...   \n",
              "11  /content/drive/MyDrive/image_copy/image_test/i...   \n",
              "12  /content/drive/MyDrive/image_copy/image_test/i...   \n",
              "13  /content/drive/MyDrive/image_copy/image_test/i...   \n",
              "14  /content/drive/MyDrive/image_copy/image_test/i...   \n",
              "15  /content/drive/MyDrive/image_copy/image_test/i...   \n",
              "16  /content/drive/MyDrive/image_copy/image_test/i...   \n",
              "17  /content/drive/MyDrive/image_copy/image_test/i...   \n",
              "18  /content/drive/MyDrive/image_copy/image_test/i...   \n",
              "19  /content/drive/MyDrive/image_copy/image_test/i...   \n",
              "20  /content/drive/MyDrive/image_copy/image_test/i...   \n",
              "21  /content/drive/MyDrive/image_copy/image_test/i...   \n",
              "22  /content/drive/MyDrive/image_copy/image_test/i...   \n",
              "23  /content/drive/MyDrive/image_copy/image_test/i...   \n",
              "24  /content/drive/MyDrive/image_copy/image_test/i...   \n",
              "25  /content/drive/MyDrive/image_copy/image_test/i...   \n",
              "26  /content/drive/MyDrive/image_copy/image_test/i...   \n",
              "27  /content/drive/MyDrive/image_copy/image_test/i...   \n",
              "28  /content/drive/MyDrive/image_copy/image_test/i...   \n",
              "29  /content/drive/MyDrive/image_copy/image_test/i...   \n",
              "30  /content/drive/MyDrive/image_copy/image_test/i...   \n",
              "31  /content/drive/MyDrive/image_copy/image_test/i...   \n",
              "32  /content/drive/MyDrive/image_copy/image_test/i...   \n",
              "33  /content/drive/MyDrive/image_copy/image_test/i...   \n",
              "34  /content/drive/MyDrive/image_copy/image_test/i...   \n",
              "35  /content/drive/MyDrive/image_copy/image_test/i...   \n",
              "36  /content/drive/MyDrive/image_copy/image_test/i...   \n",
              "37  /content/drive/MyDrive/image_copy/image_test/i...   \n",
              "38  /content/drive/MyDrive/image_copy/image_test/i...   \n",
              "39  /content/drive/MyDrive/image_copy/image_test/i...   \n",
              "40  /content/drive/MyDrive/image_copy/image_test/i...   \n",
              "41  /content/drive/MyDrive/image_copy/image_test/i...   \n",
              "42  /content/drive/MyDrive/image_copy/image_test/i...   \n",
              "43  /content/drive/MyDrive/image_copy/image_test/i...   \n",
              "44  /content/drive/MyDrive/image_copy/image_test/i...   \n",
              "45  /content/drive/MyDrive/image_copy/image_test/i...   \n",
              "46  /content/drive/MyDrive/image_copy/image_test/i...   \n",
              "47  /content/drive/MyDrive/image_copy/image_test/i...   \n",
              "48  /content/drive/MyDrive/image_copy/image_test/i...   \n",
              "49  /content/drive/MyDrive/image_copy/image_test/i...   \n",
              "\n",
              "                                            mask_path  \n",
              "0   /content/drive/MyDrive/mask_copy/content/mask_...  \n",
              "1   /content/drive/MyDrive/mask_copy/content/mask_...  \n",
              "2   /content/drive/MyDrive/mask_copy/content/mask_...  \n",
              "3   /content/drive/MyDrive/mask_copy/content/mask_...  \n",
              "4   /content/drive/MyDrive/mask_copy/content/mask_...  \n",
              "5   /content/drive/MyDrive/mask_copy/content/mask_...  \n",
              "6   /content/drive/MyDrive/mask_copy/content/mask_...  \n",
              "7   /content/drive/MyDrive/mask_copy/content/mask_...  \n",
              "8   /content/drive/MyDrive/mask_copy/content/mask_...  \n",
              "9   /content/drive/MyDrive/mask_copy/content/mask_...  \n",
              "10  /content/drive/MyDrive/mask_copy/content/mask_...  \n",
              "11  /content/drive/MyDrive/mask_copy/content/mask_...  \n",
              "12  /content/drive/MyDrive/mask_copy/content/mask_...  \n",
              "13  /content/drive/MyDrive/mask_copy/content/mask_...  \n",
              "14  /content/drive/MyDrive/mask_copy/content/mask_...  \n",
              "15  /content/drive/MyDrive/mask_copy/content/mask_...  \n",
              "16  /content/drive/MyDrive/mask_copy/content/mask_...  \n",
              "17  /content/drive/MyDrive/mask_copy/content/mask_...  \n",
              "18  /content/drive/MyDrive/mask_copy/content/mask_...  \n",
              "19  /content/drive/MyDrive/mask_copy/content/mask_...  \n",
              "20  /content/drive/MyDrive/mask_copy/content/mask_...  \n",
              "21  /content/drive/MyDrive/mask_copy/content/mask_...  \n",
              "22  /content/drive/MyDrive/mask_copy/content/mask_...  \n",
              "23  /content/drive/MyDrive/mask_copy/content/mask_...  \n",
              "24  /content/drive/MyDrive/mask_copy/content/mask_...  \n",
              "25  /content/drive/MyDrive/mask_copy/content/mask_...  \n",
              "26  /content/drive/MyDrive/mask_copy/content/mask_...  \n",
              "27  /content/drive/MyDrive/mask_copy/content/mask_...  \n",
              "28  /content/drive/MyDrive/mask_copy/content/mask_...  \n",
              "29  /content/drive/MyDrive/mask_copy/content/mask_...  \n",
              "30  /content/drive/MyDrive/mask_copy/content/mask_...  \n",
              "31  /content/drive/MyDrive/mask_copy/content/mask_...  \n",
              "32  /content/drive/MyDrive/mask_copy/content/mask_...  \n",
              "33  /content/drive/MyDrive/mask_copy/content/mask_...  \n",
              "34  /content/drive/MyDrive/mask_copy/content/mask_...  \n",
              "35  /content/drive/MyDrive/mask_copy/content/mask_...  \n",
              "36  /content/drive/MyDrive/mask_copy/content/mask_...  \n",
              "37  /content/drive/MyDrive/mask_copy/content/mask_...  \n",
              "38  /content/drive/MyDrive/mask_copy/content/mask_...  \n",
              "39  /content/drive/MyDrive/mask_copy/content/mask_...  \n",
              "40  /content/drive/MyDrive/mask_copy/content/mask_...  \n",
              "41  /content/drive/MyDrive/mask_copy/content/mask_...  \n",
              "42  /content/drive/MyDrive/mask_copy/content/mask_...  \n",
              "43  /content/drive/MyDrive/mask_copy/content/mask_...  \n",
              "44  /content/drive/MyDrive/mask_copy/content/mask_...  \n",
              "45  /content/drive/MyDrive/mask_copy/content/mask_...  \n",
              "46  /content/drive/MyDrive/mask_copy/content/mask_...  \n",
              "47  /content/drive/MyDrive/mask_copy/content/mask_...  \n",
              "48  /content/drive/MyDrive/mask_copy/content/mask_...  \n",
              "49  /content/drive/MyDrive/mask_copy/content/mask_...  "
            ]
          },
          "execution_count": 30,
          "metadata": {},
          "output_type": "execute_result"
        }
      ],
      "source": [
        "image_and_mask = {'image_path':input_test_img_paths, 'mask_path':input_test_mask_paths}\n",
        "df1 = pd.DataFrame(image_and_mask)\n",
        "df1"
      ]
    },
    {
      "cell_type": "code",
      "execution_count": null,
      "metadata": {
        "id": "DUx6FntlZwSL"
      },
      "outputs": [],
      "source": [
        "IMG_SIZE = [512, 512]\n",
        "\n",
        "def preprocessing(img_path, mak_path):\n",
        "    car_img = tf.io.read_file(img_path) \n",
        "    car_img = tf.image.decode_jpeg(car_img, channels=3)\n",
        "    car_img = tf.image.resize(car_img, IMG_SIZE)\n",
        "    car_img = tf.cast(car_img, tf.float32) / 255.0\n",
        "    \n",
        "    mask_img = tf.io.read_file(mak_path)\n",
        "    mask_img = tf.image.decode_jpeg(mask_img, channels=3)\n",
        "    mask_img = tf.image.resize(mask_img, IMG_SIZE)\n",
        "    mask_img = mask_img[:,:,:1]    \n",
        "    mask_img = tf.math.sign(mask_img)\n",
        "\n",
        "    return car_img, mask_img\n",
        "\n",
        "def create_dataset(df, train = False):\n",
        "    if not train:\n",
        "        ds = tf.data.Dataset.from_tensor_slices((df[\"image_path\"].values, df[\"mask_path\"].values))\n",
        "        ds = ds.map(preprocessing, tf.data.AUTOTUNE)\n",
        "    else:\n",
        "        ds = tf.data.Dataset.from_tensor_slices((df[\"image_path\"].values, df[\"mask_path\"].values))\n",
        "        ds = ds.map(preprocessing, tf.data.AUTOTUNE)\n",
        "        \n",
        "        \n",
        "    return ds"
      ]
    },
    {
      "cell_type": "code",
      "execution_count": null,
      "metadata": {
        "id": "L0WhqTvgUwit"
      },
      "outputs": [],
      "source": [
        "train_df, valid_df = train_test_split(df, random_state=42, test_size=.3)"
      ]
    },
    {
      "cell_type": "code",
      "execution_count": null,
      "metadata": {
        "colab": {
          "base_uri": "https://localhost:8080/"
        },
        "id": "ivvHs9K-ykz9",
        "outputId": "178b9fa1-3be6-4e7d-fa8d-eb91077d497c"
      },
      "outputs": [
        {
          "name": "stdout",
          "output_type": "stream",
          "text": [
            "1179\n",
            "506\n"
          ]
        }
      ],
      "source": [
        "print(len(train_df))\n",
        "print(len(valid_df))"
      ]
    },
    {
      "cell_type": "code",
      "execution_count": null,
      "metadata": {
        "id": "N4LgR1ycachE"
      },
      "outputs": [],
      "source": [
        "train= create_dataset(df, train = True)\n",
        "valid = create_dataset(df)\n",
        "test = create_dataset(df1)"
      ]
    },
    {
      "cell_type": "code",
      "execution_count": null,
      "metadata": {
        "id": "fw4V2u9Cavd-"
      },
      "outputs": [],
      "source": [
        "TRAIN_LENGTH = len(df)\n",
        "BATCH_SIZE = 32\n",
        "BUFFER_SIZE = 1000"
      ]
    },
    {
      "cell_type": "code",
      "execution_count": null,
      "metadata": {
        "id": "gmTSKI7fa8uS"
      },
      "outputs": [],
      "source": [
        "train_dataset = train.cache().shuffle(BUFFER_SIZE).batch(BATCH_SIZE).repeat()\n",
        "train_dataset = train_dataset.prefetch(buffer_size=tf.data.AUTOTUNE)\n",
        "valid_dataset = valid.batch(BATCH_SIZE)\n",
        "test_dataset = test.batch(BATCH_SIZE)"
      ]
    },
    {
      "cell_type": "code",
      "execution_count": null,
      "metadata": {
        "colab": {
          "base_uri": "https://localhost:8080/"
        },
        "id": "jax7U8NFU3R-",
        "outputId": "5bd1c5e5-6c65-4fa1-9542-d478f718496c"
      },
      "outputs": [
        {
          "name": "stdout",
          "output_type": "stream",
          "text": [
            "<PrefetchDataset element_spec=(TensorSpec(shape=(None, 512, 512, 3), dtype=tf.float32, name=None), TensorSpec(shape=(None, 512, 512, 1), dtype=tf.float32, name=None))>\n",
            "<BatchDataset element_spec=(TensorSpec(shape=(None, 512, 512, 3), dtype=tf.float32, name=None), TensorSpec(shape=(None, 512, 512, 1), dtype=tf.float32, name=None))>\n"
          ]
        }
      ],
      "source": [
        "print(train_dataset)\n",
        "print(valid_dataset)"
      ]
    },
    {
      "cell_type": "code",
      "execution_count": null,
      "metadata": {
        "colab": {
          "base_uri": "https://localhost:8080/",
          "height": 556
        },
        "id": "MKYZs1jXa07Q",
        "outputId": "00b184bd-5a1b-436e-ff8c-30efe982e386"
      },
      "outputs": [
        {
          "name": "stdout",
          "output_type": "stream",
          "text": [
            "(32, 512, 512, 3)\n",
            "(32, 512, 512, 1)\n"
          ]
        },
        {
          "data": {
            "image/png": "[encoded data removed]",
            "text/plain": [
              "<Figure size 432x288 with 1 Axes>"
            ]
          },
          "metadata": {},
          "output_type": "display_data"
        },
        {
          "data": {
            "image/png": "[encoded data removed]",
            "text/plain": [
              "<Figure size 432x288 with 1 Axes>"
            ]
          },
          "metadata": {},
          "output_type": "display_data"
        }
      ],
      "source": [
        "import random\n",
        "ind = random.randint(0, 16)\n",
        "for img, msk in valid_dataset:\n",
        "    print(img.shape)\n",
        "    print(msk.shape)\n",
        "    plt.imshow(img[ind])\n",
        "    plt.show()\n",
        "    \n",
        "    plt.imshow(msk[ind,:,:, 0], cmap='gray')\n",
        "    plt.show()\n",
        "    break"
      ]
    },
    {
      "cell_type": "markdown",
      "metadata": {
        "id": "79Kib4Z1fA0s"
      },
      "source": [
        "#model2 using unet and mobilenet"
      ]
    },
    {
      "cell_type": "code",
      "execution_count": null,
      "metadata": {
        "colab": {
          "base_uri": "https://localhost:8080/",
          "height": 990
        },
        "id": "8LzlW0r-fE1X",
        "outputId": "dd37fd52-3525-45ad-ae20-72bc7afe56ca"
      },
      "outputs": [
        {
          "name": "stderr",
          "output_type": "stream",
          "text": [
            "WARNING:tensorflow:`input_shape` is undefined or non-square, or `rows` is not in [96, 128, 160, 192, 224]. Weights for input shape (224, 224) will be loaded as the default.\n"
          ]
        },
        {
          "name": "stdout",
          "output_type": "stream",
          "text": [
            "Downloading data from https://storage.googleapis.com/tensorflow/keras-applications/mobilenet_v2/mobilenet_v2_weights_tf_dim_ordering_tf_kernels_1.0_224_no_top.h5\n",
            "9412608/9406464 [==============================] - 2s 0us/step\n",
            "9420800/9406464 [==============================] - 2s 0us/step\n"
          ]
        },
        {
          "data": {
            "image/png": "[encoded data removed]",
            "text/plain": [
              "<IPython.core.display.Image object>"
            ]
          },
          "execution_count": 39,
          "metadata": {},
          "output_type": "execute_result"
        }
      ],
      "source": [
        "input_sahpe = (512, 512, 3)\n",
        "base_model = tf.keras.applications.MobileNetV2(input_shape=[512, 512, 3], include_top=False)\n",
        "\n",
        "# Use the activations of these layers\n",
        "layer_names = [\n",
        "    'block_1_expand_relu',   # 64x64\n",
        "    'block_3_expand_relu',   # 32x32\n",
        "    'block_6_expand_relu',   # 16x16\n",
        "    'block_13_expand_relu',  # 8x8\n",
        "    'block_16_project',      # 4x4\n",
        "]\n",
        "base_model_outputs = [base_model.get_layer(name).output for name in layer_names]\n",
        "\n",
        "# Create the feature extraction model\n",
        "down_stack = tf.keras.Model(inputs=base_model.input, outputs=base_model_outputs)\n",
        "down_stack.trainable = False\n",
        "\n",
        "\n",
        "# from https://github.com/tensorflow/examples/blob/master/tensorflow_examples/models/pix2pix/pix2pix.py\n",
        "def upsample(filters, size, norm_type='batchnorm', apply_dropout=True):\n",
        "    initializer = tf.random_normal_initializer(0., 0.02)\n",
        "    \n",
        "    result = tf.keras.Sequential()\n",
        "    result.add(\n",
        "      tf.keras.layers.Conv2DTranspose(filters, size, strides=2,\n",
        "                                      padding='same',\n",
        "                                      kernel_initializer=initializer,\n",
        "                                      use_bias=False))\n",
        "\n",
        "    if norm_type.lower() == 'batchnorm':\n",
        "        result.add(tf.keras.layers.BatchNormalization())\n",
        "    elif norm_type.lower() == 'instancenorm':\n",
        "        result.add(InstanceNormalization())\n",
        "\n",
        "    if apply_dropout:\n",
        "        result.add(tf.keras.layers.Dropout(0.65))\n",
        "\n",
        "        result.add(tf.keras.layers.ReLU())\n",
        "\n",
        "    return result\n",
        "   \n",
        "up_stack = [\n",
        "    upsample(512, 3),  # 4x4 -> 8x8\n",
        "    upsample(256, 3),  # 8x8 -> 16x16\n",
        "    upsample(128, 3),  # 16x16 -> 32x32\n",
        "    upsample(64, 3),   # 32x32 -> 64x64\n",
        "]\n",
        "\n",
        "\n",
        "\n",
        "def unet_model(output_channels):\n",
        "    inputs = tf.keras.layers.Input(shape=[512, 512, 3])\n",
        "\n",
        "    # Downsampling through the model\n",
        "    skips = down_stack(inputs)\n",
        "    x = skips[-1]\n",
        "    skips = reversed(skips[:-1])\n",
        "\n",
        "  # Upsampling and establishing the skip connections\n",
        "    for up, skip in zip(up_stack, skips):\n",
        "        x = up(x)\n",
        "        concat = tf.keras.layers.Concatenate()\n",
        "        x = concat([x, skip])\n",
        "\n",
        "  # This is the last layer of the model\n",
        "    last = tf.keras.layers.Conv2DTranspose(\n",
        "      output_channels, 3, strides=2, activation='sigmoid',\n",
        "      padding='same')  #64x64 -> 128x128\n",
        "\n",
        "    x = last(x)\n",
        "\n",
        "    return tf.keras.Model(inputs=inputs, outputs=x)\n",
        "\n",
        "import keras.backend as K\n",
        "\n",
        "\n",
        "def IoU(y_true,y_pred):\n",
        "  smooth= 1e-5\n",
        "  y_true_f = float (K.flatten(y_true))\n",
        "  y_pred_f = float (K.flatten(y_pred))\n",
        "  intersection = K.sum(y_true_f*y_pred_f)\n",
        "  result = (intersection + smooth)/(K.sum(y_true_f)+K.sum(y_pred_f)-intersection+ smooth)\n",
        "  return result\n",
        "def IoU_Loss(y_true,y_pred):\n",
        "    smooth= 1e-5\n",
        "    iou_loss = (1 - IoU(y_true,y_pred))\n",
        "    return iou_loss\n",
        "def get_config(self):\n",
        "    config = super(IoU_Loss, self).get_config()\n",
        "    config.update({'IoU_Loss': self.IoU_Loss})\n",
        "    return config\n",
        "\n",
        "model2 = unet_model(1)\n",
        "\n",
        "model2.compile(optimizer='adam', \n",
        "              loss=IoU_Loss,\n",
        "               metrics=[IoU,'binary_accuracy'])\n",
        "\n",
        "\n",
        "\n",
        "tf.keras.utils.plot_model(model2, show_shapes=True)"
      ]
    },
    {
      "cell_type": "markdown",
      "metadata": {
        "id": "HD7z4bHSCOeM"
      },
      "source": [
        "#model2 VGG16+UNET"
      ]
    },
    {
      "cell_type": "code",
      "execution_count": null,
      "metadata": {
        "id": "EnBUUlh4NiI0"
      },
      "outputs": [],
      "source": [
        "# from tensorflow.keras.layers import Conv2D, BatchNormalization, Activation, MaxPool2D, Conv2DTranspose, Input, Dropout\n",
        "# from tensorflow.keras.models import Model\n",
        "# from tensorflow.keras.applications import VGG16\n",
        "# from keras.layers import concatenate\n",
        "# from keras.layers.convolutional import Conv2DTranspose\n",
        "# from keras import backend as K"
      ]
    },
    {
      "cell_type": "code",
      "execution_count": null,
      "metadata": {
        "id": "o07nhQhMOqnm"
      },
      "outputs": [],
      "source": [
        "# def conv_block(inputs, num_filters):\n",
        "#   x = Conv2D(num_filters, 3, padding=\"same\")(inputs)\n",
        "#   x = BatchNormalization()(x)\n",
        "#   x = Activation(\"relu\")(x)\n",
        "#   x= Dropout(0.25)(x)\n",
        "\n",
        "#   x = Conv2D(num_filters, 3, padding=\"same\")(x)\n",
        "#   x = BatchNormalization()(x)\n",
        "#   x = Activation(\"relu\")(x)\n",
        "\n",
        "#   return x"
      ]
    },
    {
      "cell_type": "code",
      "execution_count": null,
      "metadata": {
        "id": "b8wo_n16ZRgy"
      },
      "outputs": [],
      "source": [
        "# # encoder connection\n",
        "# def decoder_block(inputs, skip_features, num_filters):\n",
        "#     x = Conv2DTranspose(num_filters, (2,2), strides=2, padding=\"same\")(inputs)\n",
        "#     x = concatenate([x, skip_features])\n",
        "#     x = conv_block(x, num_filters)\n",
        "#     return x"
      ]
    },
    {
      "cell_type": "code",
      "execution_count": null,
      "metadata": {
        "id": "msGerrPaO56c"
      },
      "outputs": [],
      "source": [
        "# # building the pretrained model\n",
        "# def build_vgg16_unet(input_shape):\n",
        "#   inputs= Input(input_shape)\n",
        "#   vgg16 = VGG16(include_top=False, weights= None, input_tensor=inputs, input_shape = [256, 256, 3], pooling = 'max' )\n",
        "\n",
        "  \n",
        "# #   skip connection\n",
        "#   s1 = vgg16.get_layer(\"block1_conv2\").output   #256\n",
        "#   s2 = vgg16.get_layer(\"block2_conv2\").output   #128\n",
        "#   s3 = vgg16.get_layer(\"block3_conv3\").output   #64\n",
        "#   s4 = vgg16.get_layer(\"block4_conv3\").output   #32\n",
        "# #   bridge  layer\n",
        "\n",
        "#   b1 = vgg16.get_layer(\"block5_conv3\").output   #16\n",
        "# #   decoder block\n",
        "#   d1 = decoder_block(b1, s4, 512)#32\n",
        "#   d2 = decoder_block(d1, s3, 256)#64\n",
        "#   d3 = decoder_block(d2, s2, 128)#128\n",
        "#   d4 = decoder_block(d3, s1, 64)#256\n",
        "#   outputs = Conv2D(1,1, padding=\"same\", activation=\"sigmoid\")(d4)\n",
        "#   model = Model(inputs,outputs,name='VGG16_Unet')\n",
        "#   return model\n",
        "  \n",
        "# input_shape = (256, 256, 3)\n",
        "# model3 = build_vgg16_unet(input_shape)\n",
        "# model3.summary()"
      ]
    },
    {
      "cell_type": "code",
      "execution_count": null,
      "metadata": {
        "id": "2UtTmgkXf6eJ"
      },
      "outputs": [],
      "source": [
        "# import keras.backend as K\n",
        "\n",
        "# # from https://www.kaggle.com/kmader/vgg16-u-net-on-carvana\n",
        "\n",
        "# def dice_coef(y_true, y_pred):\n",
        "#     smooth = 1e-5\n",
        "#     y_true_f = float(K.flatten(y_true))\n",
        "#     y_pred_f = float(K.flatten(y_pred))\n",
        "#     intersection = K.sum(y_true_f * y_pred_f)\n",
        "#     return (2.0 * intersection + smooth)/(K.sum(y_true_f) + K.sum(y_pred_f) + smooth)\n",
        "\n",
        "# def dice_loss(y_true,y_pred):\n",
        "#     smooth = 1e-5\n",
        "#     return (1-dice_coef(y_true,y_pred))\n",
        "\n",
        "# def IoU(y_true,y_pred):\n",
        "#   smooth= 1e-5\n",
        "#   y_true_f = float (K.flatten(y_true))\n",
        "#   y_pred_f = float (K.flatten(y_pred))\n",
        "#   intersection = K.sum(y_true_f*y_pred_f)\n",
        "#   result = (intersection + smooth)/(K.sum(y_true_f)+K.sum(y_pred_f)-intersection+ smooth)\n",
        "#   return result\n",
        "# def IoU_Loss(y_true,y_pred):\n",
        "#     smooth= 1e-5\n",
        "#     return (1 - IoU(y_true,y_pred))\n",
        "\n",
        "\n",
        "# # model.compile(optimizer='adam', loss= [IoU_Loss],metrics=[IoU])"
      ]
    },
    {
      "cell_type": "code",
      "execution_count": null,
      "metadata": {
        "id": "PkpABAg0odDz"
      },
      "outputs": [],
      "source": [
        "# model3.compile(optimizer= \"Adam\",\n",
        "#             #   loss = dice_loss,\n",
        "#               loss= IoU_Loss,\n",
        "#               metrics=[dice_coef, IoU,'binary_accuracy'])\n",
        "\n",
        "# # tf.keras.utils.plot_model(model, show_shapes=True)"
      ]
    },
    {
      "cell_type": "code",
      "execution_count": null,
      "metadata": {
        "colab": {
          "base_uri": "https://localhost:8080/"
        },
        "id": "lh6bwpA6HHzJ",
        "outputId": "32200181-dc77-4697-f1ed-a449dbb47576"
      },
      "outputs": [
        {
          "name": "stdout",
          "output_type": "stream",
          "text": [
            "Looking in indexes: https://pypi.org/simple, https://us-python.pkg.dev/colab-wheels/public/simple/\n",
            "Collecting wandb\n",
            "  Downloading wandb-0.13.3-py2.py3-none-any.whl (1.8 MB)\n",
            "\u001b[K     |████████████████████████████████| 1.8 MB 5.1 MB/s \n",
            "\u001b[?25hRequirement already satisfied: Click!=8.0.0,>=7.0 in /usr/local/lib/python3.7/dist-packages (from wandb) (7.1.2)\n",
            "Requirement already satisfied: promise<3,>=2.0 in /usr/local/lib/python3.7/dist-packages (from wandb) (2.3)\n",
            "Collecting docker-pycreds>=0.4.0\n",
            "  Downloading docker_pycreds-0.4.0-py2.py3-none-any.whl (9.0 kB)\n",
            "Requirement already satisfied: PyYAML in /usr/local/lib/python3.7/dist-packages (from wandb) (6.0)\n",
            "Collecting pathtools\n",
            "  Downloading pathtools-0.1.2.tar.gz (11 kB)\n",
            "Requirement already satisfied: requests<3,>=2.0.0 in /usr/local/lib/python3.7/dist-packages (from wandb) (2.23.0)\n",
            "Requirement already satisfied: six>=1.13.0 in /usr/local/lib/python3.7/dist-packages (from wandb) (1.15.0)\n",
            "Requirement already satisfied: protobuf<4.0dev,>=3.12.0 in /usr/local/lib/python3.7/dist-packages (from wandb) (3.17.3)\n",
            "Requirement already satisfied: setuptools in /usr/local/lib/python3.7/dist-packages (from wandb) (57.4.0)\n",
            "Requirement already satisfied: psutil>=5.0.0 in /usr/local/lib/python3.7/dist-packages (from wandb) (5.4.8)\n",
            "Collecting setproctitle\n",
            "  Downloading setproctitle-1.3.2-cp37-cp37m-manylinux_2_5_x86_64.manylinux1_x86_64.manylinux_2_17_x86_64.manylinux2014_x86_64.whl (30 kB)\n",
            "Collecting sentry-sdk>=1.0.0\n",
            "  Downloading sentry_sdk-1.9.8-py2.py3-none-any.whl (158 kB)\n",
            "\u001b[K     |████████████████████████████████| 158 kB 68.3 MB/s \n",
            "\u001b[?25hCollecting shortuuid>=0.5.0\n",
            "  Downloading shortuuid-1.0.9-py3-none-any.whl (9.4 kB)\n",
            "Collecting GitPython>=1.0.0\n",
            "  Downloading GitPython-3.1.27-py3-none-any.whl (181 kB)\n",
            "\u001b[K     |████████████████████████████████| 181 kB 56.3 MB/s \n",
            "\u001b[?25hCollecting gitdb<5,>=4.0.1\n",
            "  Downloading gitdb-4.0.9-py3-none-any.whl (63 kB)\n",
            "\u001b[K     |████████████████████████████████| 63 kB 1.8 MB/s \n",
            "\u001b[?25hRequirement already satisfied: typing-extensions>=3.7.4.3 in /usr/local/lib/python3.7/dist-packages (from GitPython>=1.0.0->wandb) (4.1.1)\n",
            "Collecting smmap<6,>=3.0.1\n",
            "  Downloading smmap-5.0.0-py3-none-any.whl (24 kB)\n",
            "Requirement already satisfied: chardet<4,>=3.0.2 in /usr/local/lib/python3.7/dist-packages (from requests<3,>=2.0.0->wandb) (3.0.4)\n",
            "Requirement already satisfied: certifi>=2017.4.17 in /usr/local/lib/python3.7/dist-packages (from requests<3,>=2.0.0->wandb) (2022.6.15)\n",
            "Requirement already satisfied: urllib3!=1.25.0,!=1.25.1,<1.26,>=1.21.1 in /usr/local/lib/python3.7/dist-packages (from requests<3,>=2.0.0->wandb) (1.24.3)\n",
            "Requirement already satisfied: idna<3,>=2.5 in /usr/local/lib/python3.7/dist-packages (from requests<3,>=2.0.0->wandb) (2.10)\n",
            "Collecting sentry-sdk>=1.0.0\n",
            "  Downloading sentry_sdk-1.9.7-py2.py3-none-any.whl (157 kB)\n",
            "\u001b[K     |████████████████████████████████| 157 kB 72.6 MB/s \n",
            "\u001b[?25h  Downloading sentry_sdk-1.9.6-py2.py3-none-any.whl (157 kB)\n",
            "\u001b[K     |████████████████████████████████| 157 kB 67.9 MB/s \n",
            "\u001b[?25h  Downloading sentry_sdk-1.9.5-py2.py3-none-any.whl (157 kB)\n",
            "\u001b[K     |████████████████████████████████| 157 kB 41.2 MB/s \n",
            "\u001b[?25h  Downloading sentry_sdk-1.9.4-py2.py3-none-any.whl (157 kB)\n",
            "\u001b[K     |████████████████████████████████| 157 kB 74.0 MB/s \n",
            "\u001b[?25h  Downloading sentry_sdk-1.9.3-py2.py3-none-any.whl (157 kB)\n",
            "\u001b[K     |████████████████████████████████| 157 kB 76.3 MB/s \n",
            "\u001b[?25h  Downloading sentry_sdk-1.9.2-py2.py3-none-any.whl (157 kB)\n",
            "\u001b[K     |████████████████████████████████| 157 kB 60.4 MB/s \n",
            "\u001b[?25h  Downloading sentry_sdk-1.9.1-py2.py3-none-any.whl (157 kB)\n",
            "\u001b[K     |████████████████████████████████| 157 kB 76.9 MB/s \n",
            "\u001b[?25h  Downloading sentry_sdk-1.9.0-py2.py3-none-any.whl (156 kB)\n",
            "\u001b[K     |████████████████████████████████| 156 kB 76.1 MB/s \n",
            "\u001b[?25hBuilding wheels for collected packages: pathtools\n",
            "  Building wheel for pathtools (setup.py) ... \u001b[?25l\u001b[?25hdone\n",
            "  Created wheel for pathtools: filename=pathtools-0.1.2-py3-none-any.whl size=8806 sha256=978835f185068de7a0b7b02037dff5deefb12de8bdf1d158775193174964b2f3\n",
            "  Stored in directory: /root/.cache/pip/wheels/3e/31/09/fa59cef12cdcfecc627b3d24273699f390e71828921b2cbba2\n",
            "Successfully built pathtools\n",
            "Installing collected packages: smmap, gitdb, shortuuid, setproctitle, sentry-sdk, pathtools, GitPython, docker-pycreds, wandb\n",
            "Successfully installed GitPython-3.1.27 docker-pycreds-0.4.0 gitdb-4.0.9 pathtools-0.1.2 sentry-sdk-1.9.0 setproctitle-1.3.2 shortuuid-1.0.9 smmap-5.0.0 wandb-0.13.3\n"
          ]
        }
      ],
      "source": [
        "!pip install wandb"
      ]
    },
    {
      "cell_type": "code",
      "execution_count": null,
      "metadata": {
        "id": "wXJ8EunjHNJp"
      },
      "outputs": [],
      "source": [
        "import wandb\n",
        "import tensorflow as tf"
      ]
    },
    {
      "cell_type": "code",
      "execution_count": null,
      "metadata": {
        "id": "GLBuIq4JH4QT"
      },
      "outputs": [],
      "source": [
        "# # Log in to your W&B account\n",
        "# wandb.login()"
      ]
    },
    {
      "cell_type": "code",
      "execution_count": null,
      "metadata": {
        "id": "PgpZFnGwHTaK"
      },
      "outputs": [],
      "source": [
        "# config = {\n",
        "#   \"Backbone\": 'Base_line_1',\n",
        "#   \"Con2dtranspose_init\": 'he_normal',\n",
        "#   \"Decoder_block_type\": \"Conv2DTranspose\",\n",
        "#   \"decoder_filters\":(512,256,128,64,32),\n",
        "#   'batch_norm': True,\n",
        "#   \"Activation\": 'relu',\n",
        "#   \"batch_size\": 1, \n",
        "#   \"verbose\": 1,\n",
        "#   \"initial_epoch\": 0, \n",
        "#   \"epochs\": 100,\n",
        "#   \"shuffle\": True,\n",
        "#   \"Dropout\": 0.25\n",
        "# }\n",
        "# wandb.init(config = config, project=\"164\", entity=\"claire_nyaketcho_work\")\n",
        "# config = wandb.config"
      ]
    },
    {
      "cell_type": "code",
      "execution_count": null,
      "metadata": {
        "id": "wsaebGMMK6TU"
      },
      "outputs": [],
      "source": [
        "# from wandb.keras import WandbCallback\n",
        "# callbacks = WandbCallback(\n",
        "                                \n",
        "#                                  loss = dice_loss,\n",
        "                               \n",
        "#                                 log_weights=True,\n",
        "#                                 log_evaluation=True)"
      ]
    },
    {
      "cell_type": "code",
      "execution_count": null,
      "metadata": {
        "colab": {
          "background_save": true
        },
        "id": "r-LMQnYpGTrY"
      },
      "outputs": [],
      "source": [
        "EPOCHS = 300\n",
        "STEPS_PER_EPOCH = TRAIN_LENGTH // BATCH_SIZE\n",
        "\n",
        "model_history = model2.fit(train_dataset, \n",
        "                          epochs=EPOCHS,\n",
        "                          steps_per_epoch=STEPS_PER_EPOCH,\n",
        "                          validation_data=valid_dataset\n",
        "                          \n",
        "                          )"
      ]
    },
    {
      "cell_type": "markdown",
      "metadata": {
        "id": "xO4WsHysM7YF"
      },
      "source": []
    },
    {
      "cell_type": "code",
      "execution_count": null,
      "metadata": {
        "colab": {
          "background_save": true
        },
        "id": "YfJfJUuWd05t"
      },
      "outputs": [],
      "source": [
        "plt.plot(model_history.history['loss'], color='b', label=\"Training loss\")\n",
        "plt.plot(model_history.history['val_loss'], color='r', label=\"Validation loss\")\n",
        "plt.legend()\n",
        "plt.show()"
      ]
    },
    {
      "cell_type": "code",
      "execution_count": null,
      "metadata": {
        "colab": {
          "background_save": true
        },
        "id": "0ZrdlgJZgx04"
      },
      "outputs": [],
      "source": [
        "plt.plot(model_history.history['IoU'], color='b', label=\"Training dice coef\")\n",
        "plt.plot(model_history.history['val_IoU'], color='r',label=\"Validation dice coef\")\n",
        "# plt.legend(loc='best', shadow=True)\n",
        "plt.legend()\n",
        "plt.show()"
      ]
    },
    {
      "cell_type": "code",
      "execution_count": null,
      "metadata": {
        "colab": {
          "background_save": true
        },
        "id": "iq34TundQbH-"
      },
      "outputs": [],
      "source": [
        "model2.evaluate(valid_dataset)"
      ]
    },
    {
      "cell_type": "code",
      "execution_count": null,
      "metadata": {
        "colab": {
          "background_save": true
        },
        "id": "nrvMRsk2pesO"
      },
      "outputs": [],
      "source": [
        "model2.save('my_model1.h5')"
      ]
    },
    {
      "cell_type": "code",
      "execution_count": null,
      "metadata": {
        "id": "TvUpiNGVpof1"
      },
      "outputs": [],
      "source": [
        "model2.evaluate(test_dataset)"
      ]
    },
    {
      "cell_type": "code",
      "execution_count": null,
      "metadata": {
        "id": "VbAqyUptp9Fm"
      },
      "outputs": [],
      "source": [
        "from keras.saving import saved_model\n",
        "from keras.models import load_model\n",
        "\n",
        "saved_model = tf.keras.models.load_model('my_model1 (2).h5', compile = False)\n",
        "saved_model.compile(optimizer='adam', \n",
        "              loss=IoU_Loss,\n",
        "               metrics=[IoU,'binary_accuracy'])"
      ]
    },
    {
      "cell_type": "code",
      "execution_count": null,
      "metadata": {
        "colab": {
          "background_save": true
        },
        "id": "h8xGUJwjzIwQ"
      },
      "outputs": [],
      "source": [
        "saved_model.evaluate(valid_dataset)"
      ]
    },
    {
      "cell_type": "code",
      "execution_count": null,
      "metadata": {
        "colab": {
          "background_save": true
        },
        "id": "tOPQu_6nqK4T",
        "outputId": "88a69b19-1b4e-474b-b3f7-0f28708770de"
      },
      "outputs": [],
      "source": [
        "import random\n",
        "# ind = random.randint(0,32)\n",
        "for img, msk in test_dataset:\n",
        "    for i in range(img.shape[0]):\n",
        "        plt.figure(figsize=(15, 15))\n",
        "        title = ['Input Image', 'True Mask', 'Predicted Mask']\n",
        "        plt.subplot(1, 3, 1)\n",
        "        plt.title(title[0])\n",
        "        plt.imshow(img[i])\n",
        "\n",
        "        plt.subplot(1, 3, 2)\n",
        "        plt.title(title[1])\n",
        "        plt.imshow(msk[i,:,:,0], cmap='gray')\n",
        "\n",
        "\n",
        "        pred = saved_model.predict(tf.expand_dims(img[i], axis=0))\n",
        "        plt.subplot(1, 3, 3)\n",
        "        plt.imshow(pred[0,:,:,0], cmap='gray')\n",
        "        plt.title(title[2])\n",
        "\n",
        "        plt.axis('off')\n",
        "        plt.show()\n",
        "    break\n",
        "\n",
        "    \n",
        "    "
      ]
    }
  ],
  "metadata": {
    "accelerator": "GPU",
    "colab": {
      "collapsed_sections": [],
      "provenance": [],
      "include_colab_link": true
    },
    "gpuClass": "standard",
    "kernelspec": {
      "display_name": "Python 3",
      "name": "python3"
    },
    "language_info": {
      "name": "python"
    }
  },
  "nbformat": 4,
  "nbformat_minor": 0
}