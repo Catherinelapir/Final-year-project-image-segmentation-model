{
  "cells": [
    {
      "cell_type": "markdown",
      "metadata": {
        "id": "view-in-github",
        "colab_type": "text"
      },
      "source": [
        "<a href=\"https://colab.research.google.com/github/Catherinelapir/Final-year-project-image-segmentation-model/blob/main/Final_Year_Project_Claire_resnet34.ipynb\" target=\"_parent\"><img src=\"https://colab.research.google.com/assets/colab-badge.svg\" alt=\"Open In Colab\"/></a>"
      ]
    },
    {
      "cell_type": "code",
      "execution_count": null,
      "metadata": {
        "colab": {
          "base_uri": "https://localhost:8080/"
        },
        "id": "Z7IeYKxXXKmy",
        "outputId": "f512c12a-cdc8-441c-e467-649cc21f69d8"
      },
      "outputs": [
        {
          "name": "stdout",
          "output_type": "stream",
          "text": [
            "Mounted at /content/drive\n"
          ]
        }
      ],
      "source": [
        "_from google.colab import drive\n",
        "drive.mount('/content/drive')"
      ]
    },
    {
      "cell_type": "code",
      "execution_count": null,
      "metadata": {
        "id": "60ocO0lHYdzD"
      },
      "outputs": [],
      "source": [
        "import os, keras\n",
        "import numpy as np \n",
        "import pandas as pd \n",
        "import matplotlib.pyplot as plt\n",
        "import tensorflow as tf\n",
        "import keras.backend as K\n",
        "import natsort"
      ]
    },
    {
      "cell_type": "code",
      "execution_count": null,
      "metadata": {
        "id": "3w8iGC8nYurI"
      },
      "outputs": [],
      "source": [
        "from sklearn.model_selection import train_test_split\n",
        "from keras.models import *\n",
        "from keras.layers import *\n",
        "from keras.optimizers import *\n",
        "from tqdm import tqdm\n",
        "from tensorflow.keras.preprocessing.image import load_img, ImageDataGenerator, img_to_array, array_to_img"
      ]
    },
    {
      "cell_type": "code",
      "execution_count": null,
      "metadata": {
        "id": "UGiiNyDSYwM0"
      },
      "outputs": [],
      "source": [
        "import tensorflow as tf\n",
        "from tensorflow import keras\n",
        "from tensorflow.keras import Model, Sequential"
      ]
    },
    {
      "cell_type": "code",
      "execution_count": null,
      "metadata": {
        "id": "f19gNXxnY2N1"
      },
      "outputs": [],
      "source": [
        "input_dir1 = \"/content/drive/MyDrive/image_copy/image_copy1/\"\n",
        "combined_mask_dir1=\"/content/drive/MyDrive/mask_copy/content/combined_masks/\"\n",
        "\n",
        "input_dir2 = \"/content/drive/MyDrive/image_copy/image_copy1_augmented_vertically/\"\n",
        "combined_mask_dir2 = \"/content/drive/MyDrive/mask_copy/content/combined_masks_augmented_vertically/\"\n",
        "\n",
        "\n",
        "input_dir4 = \"/content/drive/MyDrive/image_copy/augmented_image_rotated/\"\n",
        "combined_mask_dir4 = \"/content/drive/MyDrive/mask_copy/content/augmented_rotated_masks/\"\n",
        "\n",
        "input_dir5 = \"/content/drive/MyDrive/image_copy/augmented_image_zoom/\"\n",
        "combined_mask_dir5 = \"/content/drive/MyDrive/mask_copy/content/augmented_mask_zoomed/\"\n",
        "\n",
        "input_dir6 = \"/content/drive/MyDrive/image_copy/augmented_image_shift_width/\"\n",
        "combined_mask_dir6 = \"/content/drive/MyDrive/mask_copy/content/augmented_mask_width_shifted/\"\n"
      ]
    },
    {
      "cell_type": "code",
      "execution_count": null,
      "metadata": {
        "id": "ijLbdN_s_utz"
      },
      "outputs": [],
      "source": [
        "test_dir_img = \"/content/drive/MyDrive/image_copy/image_test/\"\n",
        "test_dir_mask = \"/content/drive/MyDrive/mask_copy/content/mask_test/\""
      ]
    },
    {
      "cell_type": "code",
      "execution_count": null,
      "metadata": {
        "colab": {
          "base_uri": "https://localhost:8080/"
        },
        "id": "sUThb2DzAR6O",
        "outputId": "fa87b3ee-bbcb-4c04-fae4-950440441f21"
      },
      "outputs": [
        {
          "data": {
            "text/plain": [
              "['/content/drive/MyDrive/image_copy/image_test/image_25.jpg',\n",
              " '/content/drive/MyDrive/image_copy/image_test/image_26.jpg',\n",
              " '/content/drive/MyDrive/image_copy/image_test/image_27.jpg',\n",
              " '/content/drive/MyDrive/image_copy/image_test/image_28.jpg']"
            ]
          },
          "execution_count": 9,
          "metadata": {},
          "output_type": "execute_result"
        }
      ],
      "source": [
        "input_test_img_paths = natsort.natsorted(\n",
        "    [\n",
        "        os.path.join(test_dir_img, fname)\n",
        "        for fname in os.listdir(test_dir_img)\n",
        "        if fname.endswith(\".jpg\")\n",
        "    ]\n",
        ")\n",
        "\n",
        "input_test_img_paths[16:20]"
      ]
    },
    {
      "cell_type": "code",
      "execution_count": null,
      "metadata": {
        "colab": {
          "base_uri": "https://localhost:8080/"
        },
        "id": "YSJ-pQDGAlpM",
        "outputId": "0f89994d-ce27-4663-ed8a-76c53b7532ca"
      },
      "outputs": [
        {
          "data": {
            "text/plain": [
              "['/content/drive/MyDrive/mask_copy/content/mask_test/mask_25.jpg',\n",
              " '/content/drive/MyDrive/mask_copy/content/mask_test/mask_26.jpg',\n",
              " '/content/drive/MyDrive/mask_copy/content/mask_test/mask_27.jpg',\n",
              " '/content/drive/MyDrive/mask_copy/content/mask_test/mask_28.jpg']"
            ]
          },
          "execution_count": 10,
          "metadata": {},
          "output_type": "execute_result"
        }
      ],
      "source": [
        "input_test_mask_paths = natsort.natsorted(\n",
        "    [\n",
        "        os.path.join(test_dir_mask, fname)\n",
        "        for fname in os.listdir(test_dir_mask)\n",
        "        if fname.endswith(\".jpg\")\n",
        "    ]\n",
        ")\n",
        "\n",
        "input_test_mask_paths[16:20]"
      ]
    },
    {
      "cell_type": "code",
      "execution_count": null,
      "metadata": {
        "colab": {
          "base_uri": "https://localhost:8080/"
        },
        "id": "0IhB719-P_ic",
        "outputId": "37489863-b336-4821-cfab-21abda62f25b"
      },
      "outputs": [
        {
          "data": {
            "text/plain": [
              "['/content/drive/MyDrive/image_copy/image_copy1/image_40.jpg',\n",
              " '/content/drive/MyDrive/image_copy/image_copy1/image_41.jpg',\n",
              " '/content/drive/MyDrive/image_copy/image_copy1/image_42.jpg',\n",
              " '/content/drive/MyDrive/image_copy/image_copy1/image_43.jpg']"
            ]
          },
          "execution_count": 11,
          "metadata": {},
          "output_type": "execute_result"
        }
      ],
      "source": [
        "input_img_paths1 = natsort.natsorted(\n",
        "    [\n",
        "        os.path.join(input_dir1, fname)\n",
        "        for fname in os.listdir(input_dir1)\n",
        "        if fname.endswith(\".jpg\")\n",
        "    ]\n",
        ")\n",
        "\n",
        "input_img_paths1[16:20]"
      ]
    },
    {
      "cell_type": "code",
      "execution_count": null,
      "metadata": {
        "colab": {
          "base_uri": "https://localhost:8080/"
        },
        "id": "38XzGuf7CKKG",
        "outputId": "a3558288-5c39-4ee9-84b2-2431ad8ab881"
      },
      "outputs": [
        {
          "data": {
            "text/plain": [
              "['/content/drive/MyDrive/mask_copy/content/combined_masks/mask_40.jpg',\n",
              " '/content/drive/MyDrive/mask_copy/content/combined_masks/mask_41.jpg',\n",
              " '/content/drive/MyDrive/mask_copy/content/combined_masks/mask_42.jpg',\n",
              " '/content/drive/MyDrive/mask_copy/content/combined_masks/mask_43.jpg']"
            ]
          },
          "execution_count": 12,
          "metadata": {},
          "output_type": "execute_result"
        }
      ],
      "source": [
        "combined_mask_paths1 =natsort.natsorted(\n",
        "    [\n",
        "        os.path.join(combined_mask_dir1, fname)\n",
        "        for fname in os.listdir(combined_mask_dir1)\n",
        "        if fname.endswith(\".jpg\")\n",
        "    ]\n",
        ")\n",
        "\n",
        "combined_mask_paths1[16:20]"
      ]
    },
    {
      "cell_type": "code",
      "execution_count": null,
      "metadata": {
        "colab": {
          "base_uri": "https://localhost:8080/"
        },
        "id": "qZu4WJ_i8iCm",
        "outputId": "6f2742e0-32f8-4a44-e075-b7facfdd9a7a"
      },
      "outputs": [
        {
          "data": {
            "text/plain": [
              "['/content/drive/MyDrive/image_copy/image_copy1_augmented_vertically/image_40.jpg',\n",
              " '/content/drive/MyDrive/image_copy/image_copy1_augmented_vertically/image_41.jpg',\n",
              " '/content/drive/MyDrive/image_copy/image_copy1_augmented_vertically/image_42.jpg',\n",
              " '/content/drive/MyDrive/image_copy/image_copy1_augmented_vertically/image_43.jpg']"
            ]
          },
          "execution_count": 13,
          "metadata": {},
          "output_type": "execute_result"
        }
      ],
      "source": [
        "input_img_paths2 = natsort.natsorted(\n",
        "    [\n",
        "        os.path.join(input_dir2, fname)\n",
        "        for fname in os.listdir(input_dir2)\n",
        "        if fname.endswith(\".jpg\")\n",
        "    ]\n",
        ")\n",
        "\n",
        "input_img_paths2[16:20]"
      ]
    },
    {
      "cell_type": "code",
      "execution_count": null,
      "metadata": {
        "colab": {
          "base_uri": "https://localhost:8080/"
        },
        "id": "ahEfo5BK8hnC",
        "outputId": "551095a7-7b30-4eb3-aba9-905804a7fc1d"
      },
      "outputs": [
        {
          "data": {
            "text/plain": [
              "['/content/drive/MyDrive/mask_copy/content/combined_masks_augmented_vertically/mask_40.jpg',\n",
              " '/content/drive/MyDrive/mask_copy/content/combined_masks_augmented_vertically/mask_41.jpg',\n",
              " '/content/drive/MyDrive/mask_copy/content/combined_masks_augmented_vertically/mask_42.jpg',\n",
              " '/content/drive/MyDrive/mask_copy/content/combined_masks_augmented_vertically/mask_43.jpg']"
            ]
          },
          "execution_count": 14,
          "metadata": {},
          "output_type": "execute_result"
        }
      ],
      "source": [
        "combined_mask_paths2 = natsort.natsorted(\n",
        "    [\n",
        "        os.path.join(combined_mask_dir2, fname)\n",
        "        for fname in os.listdir(combined_mask_dir2)\n",
        "        if fname.endswith(\".jpg\")\n",
        "    ]\n",
        ")\n",
        "\n",
        "combined_mask_paths2[16:20]"
      ]
    },
    {
      "cell_type": "code",
      "execution_count": null,
      "metadata": {
        "colab": {
          "base_uri": "https://localhost:8080/"
        },
        "id": "cM0vQCD2S7tC",
        "outputId": "76362e25-51f1-481a-b8ee-3875e5428ed0"
      },
      "outputs": [
        {
          "data": {
            "text/plain": [
              "['/content/drive/MyDrive/image_copy/augmented_image_rotated/image_40.jpg',\n",
              " '/content/drive/MyDrive/image_copy/augmented_image_rotated/image_41.jpg',\n",
              " '/content/drive/MyDrive/image_copy/augmented_image_rotated/image_42.jpg',\n",
              " '/content/drive/MyDrive/image_copy/augmented_image_rotated/image_43.jpg']"
            ]
          },
          "execution_count": 15,
          "metadata": {},
          "output_type": "execute_result"
        }
      ],
      "source": [
        "input_img_paths4 = natsort.natsorted(\n",
        "    [\n",
        "        os.path.join(input_dir4, fname)\n",
        "        for fname in os.listdir(input_dir4)\n",
        "        if fname.endswith(\".jpg\")\n",
        "    ]\n",
        ")\n",
        "\n",
        "input_img_paths4[16:20]"
      ]
    },
    {
      "cell_type": "code",
      "execution_count": null,
      "metadata": {
        "colab": {
          "base_uri": "https://localhost:8080/"
        },
        "id": "JW7cn0ZnTVm6",
        "outputId": "34e86272-63f9-476b-dce9-b89c06de5a94"
      },
      "outputs": [
        {
          "data": {
            "text/plain": [
              "['/content/drive/MyDrive/mask_copy/content/augmented_rotated_masks/mask_40.jpg',\n",
              " '/content/drive/MyDrive/mask_copy/content/augmented_rotated_masks/mask_41.jpg',\n",
              " '/content/drive/MyDrive/mask_copy/content/augmented_rotated_masks/mask_42.jpg',\n",
              " '/content/drive/MyDrive/mask_copy/content/augmented_rotated_masks/mask_43.jpg']"
            ]
          },
          "execution_count": 16,
          "metadata": {},
          "output_type": "execute_result"
        }
      ],
      "source": [
        "combined_mask_paths4 = natsort.natsorted(\n",
        "    [\n",
        "        os.path.join(combined_mask_dir4, fname)\n",
        "        for fname in os.listdir(combined_mask_dir4)\n",
        "        if fname.endswith(\".jpg\")\n",
        "    ]\n",
        ")\n",
        "\n",
        "combined_mask_paths4[16:20]"
      ]
    },
    {
      "cell_type": "code",
      "execution_count": null,
      "metadata": {
        "colab": {
          "base_uri": "https://localhost:8080/"
        },
        "id": "xMi96cs3mz56",
        "outputId": "7c585d73-1577-479c-f78b-3ad63397b17c"
      },
      "outputs": [
        {
          "data": {
            "text/plain": [
              "['/content/drive/MyDrive/image_copy/augmented_image_zoom/image_40.jpg',\n",
              " '/content/drive/MyDrive/image_copy/augmented_image_zoom/image_41.jpg',\n",
              " '/content/drive/MyDrive/image_copy/augmented_image_zoom/image_42.jpg',\n",
              " '/content/drive/MyDrive/image_copy/augmented_image_zoom/image_43.jpg']"
            ]
          },
          "execution_count": 17,
          "metadata": {},
          "output_type": "execute_result"
        }
      ],
      "source": [
        "input_img_paths5 = natsort.natsorted(\n",
        "    [\n",
        "        os.path.join(input_dir5, fname)\n",
        "        for fname in os.listdir(input_dir5)\n",
        "        if fname.endswith(\".jpg\")\n",
        "    ]\n",
        ")\n",
        "\n",
        "input_img_paths5[16:20]"
      ]
    },
    {
      "cell_type": "code",
      "execution_count": null,
      "metadata": {
        "colab": {
          "base_uri": "https://localhost:8080/"
        },
        "id": "uEfR6yMJnK2E",
        "outputId": "76ddff96-dc88-4b2e-fc99-d496a33bf634"
      },
      "outputs": [
        {
          "data": {
            "text/plain": [
              "['/content/drive/MyDrive/mask_copy/content/augmented_mask_zoomed/mask_40.jpg',\n",
              " '/content/drive/MyDrive/mask_copy/content/augmented_mask_zoomed/mask_41.jpg',\n",
              " '/content/drive/MyDrive/mask_copy/content/augmented_mask_zoomed/mask_42.jpg',\n",
              " '/content/drive/MyDrive/mask_copy/content/augmented_mask_zoomed/mask_43.jpg']"
            ]
          },
          "execution_count": 18,
          "metadata": {},
          "output_type": "execute_result"
        }
      ],
      "source": [
        "combined_mask_paths5 = natsort.natsorted(\n",
        "    [\n",
        "        os.path.join(combined_mask_dir5, fname)\n",
        "        for fname in os.listdir(combined_mask_dir5)\n",
        "        if fname.endswith(\".jpg\")\n",
        "    ]\n",
        ")\n",
        "\n",
        "combined_mask_paths5[16:20]"
      ]
    },
    {
      "cell_type": "code",
      "execution_count": null,
      "metadata": {
        "colab": {
          "base_uri": "https://localhost:8080/"
        },
        "id": "0M2qb0_bm14K",
        "outputId": "74511d36-09eb-47e7-8010-2bd7ec197506"
      },
      "outputs": [
        {
          "data": {
            "text/plain": [
              "['/content/drive/MyDrive/image_copy/augmented_image_shift_width/image_40.jpg',\n",
              " '/content/drive/MyDrive/image_copy/augmented_image_shift_width/image_41.jpg',\n",
              " '/content/drive/MyDrive/image_copy/augmented_image_shift_width/image_42.jpg',\n",
              " '/content/drive/MyDrive/image_copy/augmented_image_shift_width/image_43.jpg']"
            ]
          },
          "execution_count": 19,
          "metadata": {},
          "output_type": "execute_result"
        }
      ],
      "source": [
        "input_img_paths6 = natsort.natsorted(\n",
        "    [\n",
        "        os.path.join(input_dir6, fname)\n",
        "        for fname in os.listdir(input_dir6)\n",
        "        if fname.endswith(\".jpg\")\n",
        "    ]\n",
        ")\n",
        "\n",
        "input_img_paths6[16:20]"
      ]
    },
    {
      "cell_type": "code",
      "execution_count": null,
      "metadata": {
        "colab": {
          "base_uri": "https://localhost:8080/"
        },
        "id": "8xG7N3SVnToe",
        "outputId": "498ab10d-79f6-42c4-e6d7-b15e2dd5dee5"
      },
      "outputs": [
        {
          "data": {
            "text/plain": [
              "['/content/drive/MyDrive/mask_copy/content/augmented_mask_width_shifted/mask_40.jpg',\n",
              " '/content/drive/MyDrive/mask_copy/content/augmented_mask_width_shifted/mask_41.jpg',\n",
              " '/content/drive/MyDrive/mask_copy/content/augmented_mask_width_shifted/mask_42.jpg',\n",
              " '/content/drive/MyDrive/mask_copy/content/augmented_mask_width_shifted/mask_43.jpg']"
            ]
          },
          "execution_count": 20,
          "metadata": {},
          "output_type": "execute_result"
        }
      ],
      "source": [
        "combined_mask_paths6 = natsort.natsorted(\n",
        "    [\n",
        "        os.path.join(combined_mask_dir6, fname)\n",
        "        for fname in os.listdir(combined_mask_dir6)\n",
        "        if fname.endswith(\".jpg\")\n",
        "    ]\n",
        ")\n",
        "\n",
        "combined_mask_paths6[16:20]"
      ]
    },
    {
      "cell_type": "code",
      "execution_count": null,
      "metadata": {
        "colab": {
          "base_uri": "https://localhost:8080/"
        },
        "id": "N1j5Z84q99ml",
        "outputId": "e90136d2-4ffb-452d-ed27-e1100210906f"
      },
      "outputs": [
        {
          "name": "stdout",
          "output_type": "stream",
          "text": [
            "1685\n",
            "1685\n"
          ]
        }
      ],
      "source": [
        "combined_images = input_img_paths1 + input_img_paths2  + input_img_paths4 + input_img_paths5 + input_img_paths6\n",
        "combined_masks = combined_mask_paths1 + combined_mask_paths2 + combined_mask_paths4 + combined_mask_paths5 + combined_mask_paths6\n",
        "print(len(combined_masks))\n",
        "print(len(combined_images))"
      ]
    },
    {
      "cell_type": "code",
      "execution_count": null,
      "metadata": {
        "colab": {
          "base_uri": "https://localhost:8080/",
          "height": 1000
        },
        "id": "bvbyhWpG0Dr8",
        "outputId": "85b6f36c-ce82-49b4-9e86-78387f0a1dfd"
      },
      "outputs": [
        {
          "data": {
            "text/html": [
              "\n",
              "  <div id=\"df-7cad4981-5662-4cb5-9f60-c5396208d03b\">\n",
              "    <div class=\"colab-df-container\">\n",
              "      <div>\n",
              "<style scoped>\n",
              "    .dataframe tbody tr th:only-of-type {\n",
              "        vertical-align: middle;\n",
              "    }\n",
              "\n",
              "    .dataframe tbody tr th {\n",
              "        vertical-align: top;\n",
              "    }\n",
              "\n",
              "    .dataframe thead th {\n",
              "        text-align: right;\n",
              "    }\n",
              "</style>\n",
              "<table border=\"1\" class=\"dataframe\">\n",
              "  <thead>\n",
              "    <tr style=\"text-align: right;\">\n",
              "      <th></th>\n",
              "      <th>image_path</th>\n",
              "      <th>mask_path</th>\n",
              "    </tr>\n",
              "  </thead>\n",
              "  <tbody>\n",
              "    <tr>\n",
              "      <th>0</th>\n",
              "      <td>/content/drive/MyDrive/image_copy/image_test/i...</td>\n",
              "      <td>/content/drive/MyDrive/mask_copy/content/mask_...</td>\n",
              "    </tr>\n",
              "    <tr>\n",
              "      <th>1</th>\n",
              "      <td>/content/drive/MyDrive/image_copy/image_test/i...</td>\n",
              "      <td>/content/drive/MyDrive/mask_copy/content/mask_...</td>\n",
              "    </tr>\n",
              "    <tr>\n",
              "      <th>2</th>\n",
              "      <td>/content/drive/MyDrive/image_copy/image_test/i...</td>\n",
              "      <td>/content/drive/MyDrive/mask_copy/content/mask_...</td>\n",
              "    </tr>\n",
              "    <tr>\n",
              "      <th>3</th>\n",
              "      <td>/content/drive/MyDrive/image_copy/image_test/i...</td>\n",
              "      <td>/content/drive/MyDrive/mask_copy/content/mask_...</td>\n",
              "    </tr>\n",
              "    <tr>\n",
              "      <th>4</th>\n",
              "      <td>/content/drive/MyDrive/image_copy/image_test/i...</td>\n",
              "      <td>/content/drive/MyDrive/mask_copy/content/mask_...</td>\n",
              "    </tr>\n",
              "    <tr>\n",
              "      <th>5</th>\n",
              "      <td>/content/drive/MyDrive/image_copy/image_test/i...</td>\n",
              "      <td>/content/drive/MyDrive/mask_copy/content/mask_...</td>\n",
              "    </tr>\n",
              "    <tr>\n",
              "      <th>6</th>\n",
              "      <td>/content/drive/MyDrive/image_copy/image_test/i...</td>\n",
              "      <td>/content/drive/MyDrive/mask_copy/content/mask_...</td>\n",
              "    </tr>\n",
              "    <tr>\n",
              "      <th>7</th>\n",
              "      <td>/content/drive/MyDrive/image_copy/image_test/i...</td>\n",
              "      <td>/content/drive/MyDrive/mask_copy/content/mask_...</td>\n",
              "    </tr>\n",
              "    <tr>\n",
              "      <th>8</th>\n",
              "      <td>/content/drive/MyDrive/image_copy/image_test/i...</td>\n",
              "      <td>/content/drive/MyDrive/mask_copy/content/mask_...</td>\n",
              "    </tr>\n",
              "    <tr>\n",
              "      <th>9</th>\n",
              "      <td>/content/drive/MyDrive/image_copy/image_test/i...</td>\n",
              "      <td>/content/drive/MyDrive/mask_copy/content/mask_...</td>\n",
              "    </tr>\n",
              "    <tr>\n",
              "      <th>10</th>\n",
              "      <td>/content/drive/MyDrive/image_copy/image_test/i...</td>\n",
              "      <td>/content/drive/MyDrive/mask_copy/content/mask_...</td>\n",
              "    </tr>\n",
              "    <tr>\n",
              "      <th>11</th>\n",
              "      <td>/content/drive/MyDrive/image_copy/image_test/i...</td>\n",
              "      <td>/content/drive/MyDrive/mask_copy/content/mask_...</td>\n",
              "    </tr>\n",
              "    <tr>\n",
              "      <th>12</th>\n",
              "      <td>/content/drive/MyDrive/image_copy/image_test/i...</td>\n",
              "      <td>/content/drive/MyDrive/mask_copy/content/mask_...</td>\n",
              "    </tr>\n",
              "    <tr>\n",
              "      <th>13</th>\n",
              "      <td>/content/drive/MyDrive/image_copy/image_test/i...</td>\n",
              "      <td>/content/drive/MyDrive/mask_copy/content/mask_...</td>\n",
              "    </tr>\n",
              "    <tr>\n",
              "      <th>14</th>\n",
              "      <td>/content/drive/MyDrive/image_copy/image_test/i...</td>\n",
              "      <td>/content/drive/MyDrive/mask_copy/content/mask_...</td>\n",
              "    </tr>\n",
              "    <tr>\n",
              "      <th>15</th>\n",
              "      <td>/content/drive/MyDrive/image_copy/image_test/i...</td>\n",
              "      <td>/content/drive/MyDrive/mask_copy/content/mask_...</td>\n",
              "    </tr>\n",
              "    <tr>\n",
              "      <th>16</th>\n",
              "      <td>/content/drive/MyDrive/image_copy/image_test/i...</td>\n",
              "      <td>/content/drive/MyDrive/mask_copy/content/mask_...</td>\n",
              "    </tr>\n",
              "    <tr>\n",
              "      <th>17</th>\n",
              "      <td>/content/drive/MyDrive/image_copy/image_test/i...</td>\n",
              "      <td>/content/drive/MyDrive/mask_copy/content/mask_...</td>\n",
              "    </tr>\n",
              "    <tr>\n",
              "      <th>18</th>\n",
              "      <td>/content/drive/MyDrive/image_copy/image_test/i...</td>\n",
              "      <td>/content/drive/MyDrive/mask_copy/content/mask_...</td>\n",
              "    </tr>\n",
              "    <tr>\n",
              "      <th>19</th>\n",
              "      <td>/content/drive/MyDrive/image_copy/image_test/i...</td>\n",
              "      <td>/content/drive/MyDrive/mask_copy/content/mask_...</td>\n",
              "    </tr>\n",
              "    <tr>\n",
              "      <th>20</th>\n",
              "      <td>/content/drive/MyDrive/image_copy/image_test/i...</td>\n",
              "      <td>/content/drive/MyDrive/mask_copy/content/mask_...</td>\n",
              "    </tr>\n",
              "    <tr>\n",
              "      <th>21</th>\n",
              "      <td>/content/drive/MyDrive/image_copy/image_test/i...</td>\n",
              "      <td>/content/drive/MyDrive/mask_copy/content/mask_...</td>\n",
              "    </tr>\n",
              "    <tr>\n",
              "      <th>22</th>\n",
              "      <td>/content/drive/MyDrive/image_copy/image_test/i...</td>\n",
              "      <td>/content/drive/MyDrive/mask_copy/content/mask_...</td>\n",
              "    </tr>\n",
              "    <tr>\n",
              "      <th>23</th>\n",
              "      <td>/content/drive/MyDrive/image_copy/image_test/i...</td>\n",
              "      <td>/content/drive/MyDrive/mask_copy/content/mask_...</td>\n",
              "    </tr>\n",
              "    <tr>\n",
              "      <th>24</th>\n",
              "      <td>/content/drive/MyDrive/image_copy/image_test/i...</td>\n",
              "      <td>/content/drive/MyDrive/mask_copy/content/mask_...</td>\n",
              "    </tr>\n",
              "    <tr>\n",
              "      <th>25</th>\n",
              "      <td>/content/drive/MyDrive/image_copy/image_test/i...</td>\n",
              "      <td>/content/drive/MyDrive/mask_copy/content/mask_...</td>\n",
              "    </tr>\n",
              "    <tr>\n",
              "      <th>26</th>\n",
              "      <td>/content/drive/MyDrive/image_copy/image_test/i...</td>\n",
              "      <td>/content/drive/MyDrive/mask_copy/content/mask_...</td>\n",
              "    </tr>\n",
              "    <tr>\n",
              "      <th>27</th>\n",
              "      <td>/content/drive/MyDrive/image_copy/image_test/i...</td>\n",
              "      <td>/content/drive/MyDrive/mask_copy/content/mask_...</td>\n",
              "    </tr>\n",
              "    <tr>\n",
              "      <th>28</th>\n",
              "      <td>/content/drive/MyDrive/image_copy/image_test/i...</td>\n",
              "      <td>/content/drive/MyDrive/mask_copy/content/mask_...</td>\n",
              "    </tr>\n",
              "    <tr>\n",
              "      <th>29</th>\n",
              "      <td>/content/drive/MyDrive/image_copy/image_test/i...</td>\n",
              "      <td>/content/drive/MyDrive/mask_copy/content/mask_...</td>\n",
              "    </tr>\n",
              "    <tr>\n",
              "      <th>30</th>\n",
              "      <td>/content/drive/MyDrive/image_copy/image_test/i...</td>\n",
              "      <td>/content/drive/MyDrive/mask_copy/content/mask_...</td>\n",
              "    </tr>\n",
              "    <tr>\n",
              "      <th>31</th>\n",
              "      <td>/content/drive/MyDrive/image_copy/image_test/i...</td>\n",
              "      <td>/content/drive/MyDrive/mask_copy/content/mask_...</td>\n",
              "    </tr>\n",
              "    <tr>\n",
              "      <th>32</th>\n",
              "      <td>/content/drive/MyDrive/image_copy/image_test/i...</td>\n",
              "      <td>/content/drive/MyDrive/mask_copy/content/mask_...</td>\n",
              "    </tr>\n",
              "    <tr>\n",
              "      <th>33</th>\n",
              "      <td>/content/drive/MyDrive/image_copy/image_test/i...</td>\n",
              "      <td>/content/drive/MyDrive/mask_copy/content/mask_...</td>\n",
              "    </tr>\n",
              "    <tr>\n",
              "      <th>34</th>\n",
              "      <td>/content/drive/MyDrive/image_copy/image_test/i...</td>\n",
              "      <td>/content/drive/MyDrive/mask_copy/content/mask_...</td>\n",
              "    </tr>\n",
              "    <tr>\n",
              "      <th>35</th>\n",
              "      <td>/content/drive/MyDrive/image_copy/image_test/i...</td>\n",
              "      <td>/content/drive/MyDrive/mask_copy/content/mask_...</td>\n",
              "    </tr>\n",
              "    <tr>\n",
              "      <th>36</th>\n",
              "      <td>/content/drive/MyDrive/image_copy/image_test/i...</td>\n",
              "      <td>/content/drive/MyDrive/mask_copy/content/mask_...</td>\n",
              "    </tr>\n",
              "    <tr>\n",
              "      <th>37</th>\n",
              "      <td>/content/drive/MyDrive/image_copy/image_test/i...</td>\n",
              "      <td>/content/drive/MyDrive/mask_copy/content/mask_...</td>\n",
              "    </tr>\n",
              "    <tr>\n",
              "      <th>38</th>\n",
              "      <td>/content/drive/MyDrive/image_copy/image_test/i...</td>\n",
              "      <td>/content/drive/MyDrive/mask_copy/content/mask_...</td>\n",
              "    </tr>\n",
              "    <tr>\n",
              "      <th>39</th>\n",
              "      <td>/content/drive/MyDrive/image_copy/image_test/i...</td>\n",
              "      <td>/content/drive/MyDrive/mask_copy/content/mask_...</td>\n",
              "    </tr>\n",
              "    <tr>\n",
              "      <th>40</th>\n",
              "      <td>/content/drive/MyDrive/image_copy/image_test/i...</td>\n",
              "      <td>/content/drive/MyDrive/mask_copy/content/mask_...</td>\n",
              "    </tr>\n",
              "    <tr>\n",
              "      <th>41</th>\n",
              "      <td>/content/drive/MyDrive/image_copy/image_test/i...</td>\n",
              "      <td>/content/drive/MyDrive/mask_copy/content/mask_...</td>\n",
              "    </tr>\n",
              "    <tr>\n",
              "      <th>42</th>\n",
              "      <td>/content/drive/MyDrive/image_copy/image_test/i...</td>\n",
              "      <td>/content/drive/MyDrive/mask_copy/content/mask_...</td>\n",
              "    </tr>\n",
              "    <tr>\n",
              "      <th>43</th>\n",
              "      <td>/content/drive/MyDrive/image_copy/image_test/i...</td>\n",
              "      <td>/content/drive/MyDrive/mask_copy/content/mask_...</td>\n",
              "    </tr>\n",
              "    <tr>\n",
              "      <th>44</th>\n",
              "      <td>/content/drive/MyDrive/image_copy/image_test/i...</td>\n",
              "      <td>/content/drive/MyDrive/mask_copy/content/mask_...</td>\n",
              "    </tr>\n",
              "    <tr>\n",
              "      <th>45</th>\n",
              "      <td>/content/drive/MyDrive/image_copy/image_test/i...</td>\n",
              "      <td>/content/drive/MyDrive/mask_copy/content/mask_...</td>\n",
              "    </tr>\n",
              "    <tr>\n",
              "      <th>46</th>\n",
              "      <td>/content/drive/MyDrive/image_copy/image_test/i...</td>\n",
              "      <td>/content/drive/MyDrive/mask_copy/content/mask_...</td>\n",
              "    </tr>\n",
              "    <tr>\n",
              "      <th>47</th>\n",
              "      <td>/content/drive/MyDrive/image_copy/image_test/i...</td>\n",
              "      <td>/content/drive/MyDrive/mask_copy/content/mask_...</td>\n",
              "    </tr>\n",
              "    <tr>\n",
              "      <th>48</th>\n",
              "      <td>/content/drive/MyDrive/image_copy/image_test/i...</td>\n",
              "      <td>/content/drive/MyDrive/mask_copy/content/mask_...</td>\n",
              "    </tr>\n",
              "    <tr>\n",
              "      <th>49</th>\n",
              "      <td>/content/drive/MyDrive/image_copy/image_test/i...</td>\n",
              "      <td>/content/drive/MyDrive/mask_copy/content/mask_...</td>\n",
              "    </tr>\n",
              "  </tbody>\n",
              "</table>\n",
              "</div>\n",
              "      <button class=\"colab-df-convert\" onclick=\"convertToInteractive('df-7cad4981-5662-4cb5-9f60-c5396208d03b')\"\n",
              "              title=\"Convert this dataframe to an interactive table.\"\n",
              "              style=\"display:none;\">\n",
              "        \n",
              "  <svg xmlns=\"http://www.w3.org/2000/svg\" height=\"24px\"viewBox=\"0 0 24 24\"\n",
              "       width=\"24px\">\n",
              "    <path d=\"M0 0h24v24H0V0z\" fill=\"none\"/>\n",
              "    <path d=\"M18.56 5.44l.94 2.06.94-2.06 2.06-.94-2.06-.94-.94-2.06-.94 2.06-2.06.94zm-11 1L8.5 8.5l.94-2.06 2.06-.94-2.06-.94L8.5 2.5l-.94 2.06-2.06.94zm10 10l.94 2.06.94-2.06 2.06-.94-2.06-.94-.94-2.06-.94 2.06-2.06.94z\"/><path d=\"M17.41 7.96l-1.37-1.37c-.4-.4-.92-.59-1.43-.59-.52 0-1.04.2-1.43.59L10.3 9.45l-7.72 7.72c-.78.78-.78 2.05 0 2.83L4 21.41c.39.39.9.59 1.41.59.51 0 1.02-.2 1.41-.59l7.78-7.78 2.81-2.81c.8-.78.8-2.07 0-2.86zM5.41 20L4 18.59l7.72-7.72 1.47 1.35L5.41 20z\"/>\n",
              "  </svg>\n",
              "      </button>\n",
              "      \n",
              "  <style>\n",
              "    .colab-df-container {\n",
              "      display:flex;\n",
              "      flex-wrap:wrap;\n",
              "      gap: 12px;\n",
              "    }\n",
              "\n",
              "    .colab-df-convert {\n",
              "      background-color: #E8F0FE;\n",
              "      border: none;\n",
              "      border-radius: 50%;\n",
              "      cursor: pointer;\n",
              "      display: none;\n",
              "      fill: #1967D2;\n",
              "      height: 32px;\n",
              "      padding: 0 0 0 0;\n",
              "      width: 32px;\n",
              "    }\n",
              "\n",
              "    .colab-df-convert:hover {\n",
              "      background-color: #E2EBFA;\n",
              "      box-shadow: 0px 1px 2px rgba(60, 64, 67, 0.3), 0px 1px 3px 1px rgba(60, 64, 67, 0.15);\n",
              "      fill: #174EA6;\n",
              "    }\n",
              "\n",
              "    [theme=dark] .colab-df-convert {\n",
              "      background-color: #3B4455;\n",
              "      fill: #D2E3FC;\n",
              "    }\n",
              "\n",
              "    [theme=dark] .colab-df-convert:hover {\n",
              "      background-color: #434B5C;\n",
              "      box-shadow: 0px 1px 3px 1px rgba(0, 0, 0, 0.15);\n",
              "      filter: drop-shadow(0px 1px 2px rgba(0, 0, 0, 0.3));\n",
              "      fill: #FFFFFF;\n",
              "    }\n",
              "  </style>\n",
              "\n",
              "      <script>\n",
              "        const buttonEl =\n",
              "          document.querySelector('#df-7cad4981-5662-4cb5-9f60-c5396208d03b button.colab-df-convert');\n",
              "        buttonEl.style.display =\n",
              "          google.colab.kernel.accessAllowed ? 'block' : 'none';\n",
              "\n",
              "        async function convertToInteractive(key) {\n",
              "          const element = document.querySelector('#df-7cad4981-5662-4cb5-9f60-c5396208d03b');\n",
              "          const dataTable =\n",
              "            await google.colab.kernel.invokeFunction('convertToInteractive',\n",
              "                                                     [key], {});\n",
              "          if (!dataTable) return;\n",
              "\n",
              "          const docLinkHtml = 'Like what you see? Visit the ' +\n",
              "            '<a target=\"_blank\" href=https://colab.research.google.com/notebooks/data_table.ipynb>data table notebook</a>'\n",
              "            + ' to learn more about interactive tables.';\n",
              "          element.innerHTML = '';\n",
              "          dataTable['output_type'] = 'display_data';\n",
              "          await google.colab.output.renderOutput(dataTable, element);\n",
              "          const docLink = document.createElement('div');\n",
              "          docLink.innerHTML = docLinkHtml;\n",
              "          element.appendChild(docLink);\n",
              "        }\n",
              "      </script>\n",
              "    </div>\n",
              "  </div>\n",
              "  "
            ],
            "text/plain": [
              "                                           image_path  \\\n",
              "0   /content/drive/MyDrive/image_copy/image_test/i...   \n",
              "1   /content/drive/MyDrive/image_copy/image_test/i...   \n",
              "2   /content/drive/MyDrive/image_copy/image_test/i...   \n",
              "3   /content/drive/MyDrive/image_copy/image_test/i...   \n",
              "4   /content/drive/MyDrive/image_copy/image_test/i...   \n",
              "5   /content/drive/MyDrive/image_copy/image_test/i...   \n",
              "6   /content/drive/MyDrive/image_copy/image_test/i...   \n",
              "7   /content/drive/MyDrive/image_copy/image_test/i...   \n",
              "8   /content/drive/MyDrive/image_copy/image_test/i...   \n",
              "9   /content/drive/MyDrive/image_copy/image_test/i...   \n",
              "10  /content/drive/MyDrive/image_copy/image_test/i...   \n",
              "11  /content/drive/MyDrive/image_copy/image_test/i...   \n",
              "12  /content/drive/MyDrive/image_copy/image_test/i...   \n",
              "13  /content/drive/MyDrive/image_copy/image_test/i...   \n",
              "14  /content/drive/MyDrive/image_copy/image_test/i...   \n",
              "15  /content/drive/MyDrive/image_copy/image_test/i...   \n",
              "16  /content/drive/MyDrive/image_copy/image_test/i...   \n",
              "17  /content/drive/MyDrive/image_copy/image_test/i...   \n",
              "18  /content/drive/MyDrive/image_copy/image_test/i...   \n",
              "19  /content/drive/MyDrive/image_copy/image_test/i...   \n",
              "20  /content/drive/MyDrive/image_copy/image_test/i...   \n",
              "21  /content/drive/MyDrive/image_copy/image_test/i...   \n",
              "22  /content/drive/MyDrive/image_copy/image_test/i...   \n",
              "23  /content/drive/MyDrive/image_copy/image_test/i...   \n",
              "24  /content/drive/MyDrive/image_copy/image_test/i...   \n",
              "25  /content/drive/MyDrive/image_copy/image_test/i...   \n",
              "26  /content/drive/MyDrive/image_copy/image_test/i...   \n",
              "27  /content/drive/MyDrive/image_copy/image_test/i...   \n",
              "28  /content/drive/MyDrive/image_copy/image_test/i...   \n",
              "29  /content/drive/MyDrive/image_copy/image_test/i...   \n",
              "30  /content/drive/MyDrive/image_copy/image_test/i...   \n",
              "31  /content/drive/MyDrive/image_copy/image_test/i...   \n",
              "32  /content/drive/MyDrive/image_copy/image_test/i...   \n",
              "33  /content/drive/MyDrive/image_copy/image_test/i...   \n",
              "34  /content/drive/MyDrive/image_copy/image_test/i...   \n",
              "35  /content/drive/MyDrive/image_copy/image_test/i...   \n",
              "36  /content/drive/MyDrive/image_copy/image_test/i...   \n",
              "37  /content/drive/MyDrive/image_copy/image_test/i...   \n",
              "38  /content/drive/MyDrive/image_copy/image_test/i...   \n",
              "39  /content/drive/MyDrive/image_copy/image_test/i...   \n",
              "40  /content/drive/MyDrive/image_copy/image_test/i...   \n",
              "41  /content/drive/MyDrive/image_copy/image_test/i...   \n",
              "42  /content/drive/MyDrive/image_copy/image_test/i...   \n",
              "43  /content/drive/MyDrive/image_copy/image_test/i...   \n",
              "44  /content/drive/MyDrive/image_copy/image_test/i...   \n",
              "45  /content/drive/MyDrive/image_copy/image_test/i...   \n",
              "46  /content/drive/MyDrive/image_copy/image_test/i...   \n",
              "47  /content/drive/MyDrive/image_copy/image_test/i...   \n",
              "48  /content/drive/MyDrive/image_copy/image_test/i...   \n",
              "49  /content/drive/MyDrive/image_copy/image_test/i...   \n",
              "\n",
              "                                            mask_path  \n",
              "0   /content/drive/MyDrive/mask_copy/content/mask_...  \n",
              "1   /content/drive/MyDrive/mask_copy/content/mask_...  \n",
              "2   /content/drive/MyDrive/mask_copy/content/mask_...  \n",
              "3   /content/drive/MyDrive/mask_copy/content/mask_...  \n",
              "4   /content/drive/MyDrive/mask_copy/content/mask_...  \n",
              "5   /content/drive/MyDrive/mask_copy/content/mask_...  \n",
              "6   /content/drive/MyDrive/mask_copy/content/mask_...  \n",
              "7   /content/drive/MyDrive/mask_copy/content/mask_...  \n",
              "8   /content/drive/MyDrive/mask_copy/content/mask_...  \n",
              "9   /content/drive/MyDrive/mask_copy/content/mask_...  \n",
              "10  /content/drive/MyDrive/mask_copy/content/mask_...  \n",
              "11  /content/drive/MyDrive/mask_copy/content/mask_...  \n",
              "12  /content/drive/MyDrive/mask_copy/content/mask_...  \n",
              "13  /content/drive/MyDrive/mask_copy/content/mask_...  \n",
              "14  /content/drive/MyDrive/mask_copy/content/mask_...  \n",
              "15  /content/drive/MyDrive/mask_copy/content/mask_...  \n",
              "16  /content/drive/MyDrive/mask_copy/content/mask_...  \n",
              "17  /content/drive/MyDrive/mask_copy/content/mask_...  \n",
              "18  /content/drive/MyDrive/mask_copy/content/mask_...  \n",
              "19  /content/drive/MyDrive/mask_copy/content/mask_...  \n",
              "20  /content/drive/MyDrive/mask_copy/content/mask_...  \n",
              "21  /content/drive/MyDrive/mask_copy/content/mask_...  \n",
              "22  /content/drive/MyDrive/mask_copy/content/mask_...  \n",
              "23  /content/drive/MyDrive/mask_copy/content/mask_...  \n",
              "24  /content/drive/MyDrive/mask_copy/content/mask_...  \n",
              "25  /content/drive/MyDrive/mask_copy/content/mask_...  \n",
              "26  /content/drive/MyDrive/mask_copy/content/mask_...  \n",
              "27  /content/drive/MyDrive/mask_copy/content/mask_...  \n",
              "28  /content/drive/MyDrive/mask_copy/content/mask_...  \n",
              "29  /content/drive/MyDrive/mask_copy/content/mask_...  \n",
              "30  /content/drive/MyDrive/mask_copy/content/mask_...  \n",
              "31  /content/drive/MyDrive/mask_copy/content/mask_...  \n",
              "32  /content/drive/MyDrive/mask_copy/content/mask_...  \n",
              "33  /content/drive/MyDrive/mask_copy/content/mask_...  \n",
              "34  /content/drive/MyDrive/mask_copy/content/mask_...  \n",
              "35  /content/drive/MyDrive/mask_copy/content/mask_...  \n",
              "36  /content/drive/MyDrive/mask_copy/content/mask_...  \n",
              "37  /content/drive/MyDrive/mask_copy/content/mask_...  \n",
              "38  /content/drive/MyDrive/mask_copy/content/mask_...  \n",
              "39  /content/drive/MyDrive/mask_copy/content/mask_...  \n",
              "40  /content/drive/MyDrive/mask_copy/content/mask_...  \n",
              "41  /content/drive/MyDrive/mask_copy/content/mask_...  \n",
              "42  /content/drive/MyDrive/mask_copy/content/mask_...  \n",
              "43  /content/drive/MyDrive/mask_copy/content/mask_...  \n",
              "44  /content/drive/MyDrive/mask_copy/content/mask_...  \n",
              "45  /content/drive/MyDrive/mask_copy/content/mask_...  \n",
              "46  /content/drive/MyDrive/mask_copy/content/mask_...  \n",
              "47  /content/drive/MyDrive/mask_copy/content/mask_...  \n",
              "48  /content/drive/MyDrive/mask_copy/content/mask_...  \n",
              "49  /content/drive/MyDrive/mask_copy/content/mask_...  "
            ]
          },
          "execution_count": 22,
          "metadata": {},
          "output_type": "execute_result"
        }
      ],
      "source": [
        "test_image_and_test_mask = {'image_path':input_test_img_paths, 'mask_path':input_test_mask_paths}\n",
        "df_test = pd.DataFrame(test_image_and_test_mask)\n",
        "df_test"
      ]
    },
    {
      "cell_type": "code",
      "execution_count": null,
      "metadata": {
        "colab": {
          "base_uri": "https://localhost:8080/",
          "height": 424
        },
        "id": "mWa4resRHRtj",
        "outputId": "193515c5-fdd0-42ba-9cfc-28440ea4db5e"
      },
      "outputs": [
        {
          "data": {
            "text/html": [
              "\n",
              "  <div id=\"df-879ee314-5bd4-484b-991f-5ec6d5affa76\">\n",
              "    <div class=\"colab-df-container\">\n",
              "      <div>\n",
              "<style scoped>\n",
              "    .dataframe tbody tr th:only-of-type {\n",
              "        vertical-align: middle;\n",
              "    }\n",
              "\n",
              "    .dataframe tbody tr th {\n",
              "        vertical-align: top;\n",
              "    }\n",
              "\n",
              "    .dataframe thead th {\n",
              "        text-align: right;\n",
              "    }\n",
              "</style>\n",
              "<table border=\"1\" class=\"dataframe\">\n",
              "  <thead>\n",
              "    <tr style=\"text-align: right;\">\n",
              "      <th></th>\n",
              "      <th>image_path</th>\n",
              "      <th>mask_path</th>\n",
              "    </tr>\n",
              "  </thead>\n",
              "  <tbody>\n",
              "    <tr>\n",
              "      <th>0</th>\n",
              "      <td>/content/drive/MyDrive/image_copy/image_copy1/...</td>\n",
              "      <td>/content/drive/MyDrive/mask_copy/content/combi...</td>\n",
              "    </tr>\n",
              "    <tr>\n",
              "      <th>1</th>\n",
              "      <td>/content/drive/MyDrive/image_copy/image_copy1/...</td>\n",
              "      <td>/content/drive/MyDrive/mask_copy/content/combi...</td>\n",
              "    </tr>\n",
              "    <tr>\n",
              "      <th>2</th>\n",
              "      <td>/content/drive/MyDrive/image_copy/image_copy1/...</td>\n",
              "      <td>/content/drive/MyDrive/mask_copy/content/combi...</td>\n",
              "    </tr>\n",
              "    <tr>\n",
              "      <th>3</th>\n",
              "      <td>/content/drive/MyDrive/image_copy/image_copy1/...</td>\n",
              "      <td>/content/drive/MyDrive/mask_copy/content/combi...</td>\n",
              "    </tr>\n",
              "    <tr>\n",
              "      <th>4</th>\n",
              "      <td>/content/drive/MyDrive/image_copy/image_copy1/...</td>\n",
              "      <td>/content/drive/MyDrive/mask_copy/content/combi...</td>\n",
              "    </tr>\n",
              "    <tr>\n",
              "      <th>...</th>\n",
              "      <td>...</td>\n",
              "      <td>...</td>\n",
              "    </tr>\n",
              "    <tr>\n",
              "      <th>1680</th>\n",
              "      <td>/content/drive/MyDrive/image_copy/augmented_im...</td>\n",
              "      <td>/content/drive/MyDrive/mask_copy/content/augme...</td>\n",
              "    </tr>\n",
              "    <tr>\n",
              "      <th>1681</th>\n",
              "      <td>/content/drive/MyDrive/image_copy/augmented_im...</td>\n",
              "      <td>/content/drive/MyDrive/mask_copy/content/augme...</td>\n",
              "    </tr>\n",
              "    <tr>\n",
              "      <th>1682</th>\n",
              "      <td>/content/drive/MyDrive/image_copy/augmented_im...</td>\n",
              "      <td>/content/drive/MyDrive/mask_copy/content/augme...</td>\n",
              "    </tr>\n",
              "    <tr>\n",
              "      <th>1683</th>\n",
              "      <td>/content/drive/MyDrive/image_copy/augmented_im...</td>\n",
              "      <td>/content/drive/MyDrive/mask_copy/content/augme...</td>\n",
              "    </tr>\n",
              "    <tr>\n",
              "      <th>1684</th>\n",
              "      <td>/content/drive/MyDrive/image_copy/augmented_im...</td>\n",
              "      <td>/content/drive/MyDrive/mask_copy/content/augme...</td>\n",
              "    </tr>\n",
              "  </tbody>\n",
              "</table>\n",
              "<p>1685 rows × 2 columns</p>\n",
              "</div>\n",
              "      <button class=\"colab-df-convert\" onclick=\"convertToInteractive('df-879ee314-5bd4-484b-991f-5ec6d5affa76')\"\n",
              "              title=\"Convert this dataframe to an interactive table.\"\n",
              "              style=\"display:none;\">\n",
              "        \n",
              "  <svg xmlns=\"http://www.w3.org/2000/svg\" height=\"24px\"viewBox=\"0 0 24 24\"\n",
              "       width=\"24px\">\n",
              "    <path d=\"M0 0h24v24H0V0z\" fill=\"none\"/>\n",
              "    <path d=\"M18.56 5.44l.94 2.06.94-2.06 2.06-.94-2.06-.94-.94-2.06-.94 2.06-2.06.94zm-11 1L8.5 8.5l.94-2.06 2.06-.94-2.06-.94L8.5 2.5l-.94 2.06-2.06.94zm10 10l.94 2.06.94-2.06 2.06-.94-2.06-.94-.94-2.06-.94 2.06-2.06.94z\"/><path d=\"M17.41 7.96l-1.37-1.37c-.4-.4-.92-.59-1.43-.59-.52 0-1.04.2-1.43.59L10.3 9.45l-7.72 7.72c-.78.78-.78 2.05 0 2.83L4 21.41c.39.39.9.59 1.41.59.51 0 1.02-.2 1.41-.59l7.78-7.78 2.81-2.81c.8-.78.8-2.07 0-2.86zM5.41 20L4 18.59l7.72-7.72 1.47 1.35L5.41 20z\"/>\n",
              "  </svg>\n",
              "      </button>\n",
              "      \n",
              "  <style>\n",
              "    .colab-df-container {\n",
              "      display:flex;\n",
              "      flex-wrap:wrap;\n",
              "      gap: 12px;\n",
              "    }\n",
              "\n",
              "    .colab-df-convert {\n",
              "      background-color: #E8F0FE;\n",
              "      border: none;\n",
              "      border-radius: 50%;\n",
              "      cursor: pointer;\n",
              "      display: none;\n",
              "      fill: #1967D2;\n",
              "      height: 32px;\n",
              "      padding: 0 0 0 0;\n",
              "      width: 32px;\n",
              "    }\n",
              "\n",
              "    .colab-df-convert:hover {\n",
              "      background-color: #E2EBFA;\n",
              "      box-shadow: 0px 1px 2px rgba(60, 64, 67, 0.3), 0px 1px 3px 1px rgba(60, 64, 67, 0.15);\n",
              "      fill: #174EA6;\n",
              "    }\n",
              "\n",
              "    [theme=dark] .colab-df-convert {\n",
              "      background-color: #3B4455;\n",
              "      fill: #D2E3FC;\n",
              "    }\n",
              "\n",
              "    [theme=dark] .colab-df-convert:hover {\n",
              "      background-color: #434B5C;\n",
              "      box-shadow: 0px 1px 3px 1px rgba(0, 0, 0, 0.15);\n",
              "      filter: drop-shadow(0px 1px 2px rgba(0, 0, 0, 0.3));\n",
              "      fill: #FFFFFF;\n",
              "    }\n",
              "  </style>\n",
              "\n",
              "      <script>\n",
              "        const buttonEl =\n",
              "          document.querySelector('#df-879ee314-5bd4-484b-991f-5ec6d5affa76 button.colab-df-convert');\n",
              "        buttonEl.style.display =\n",
              "          google.colab.kernel.accessAllowed ? 'block' : 'none';\n",
              "\n",
              "        async function convertToInteractive(key) {\n",
              "          const element = document.querySelector('#df-879ee314-5bd4-484b-991f-5ec6d5affa76');\n",
              "          const dataTable =\n",
              "            await google.colab.kernel.invokeFunction('convertToInteractive',\n",
              "                                                     [key], {});\n",
              "          if (!dataTable) return;\n",
              "\n",
              "          const docLinkHtml = 'Like what you see? Visit the ' +\n",
              "            '<a target=\"_blank\" href=https://colab.research.google.com/notebooks/data_table.ipynb>data table notebook</a>'\n",
              "            + ' to learn more about interactive tables.';\n",
              "          element.innerHTML = '';\n",
              "          dataTable['output_type'] = 'display_data';\n",
              "          await google.colab.output.renderOutput(dataTable, element);\n",
              "          const docLink = document.createElement('div');\n",
              "          docLink.innerHTML = docLinkHtml;\n",
              "          element.appendChild(docLink);\n",
              "        }\n",
              "      </script>\n",
              "    </div>\n",
              "  </div>\n",
              "  "
            ],
            "text/plain": [
              "                                             image_path  \\\n",
              "0     /content/drive/MyDrive/image_copy/image_copy1/...   \n",
              "1     /content/drive/MyDrive/image_copy/image_copy1/...   \n",
              "2     /content/drive/MyDrive/image_copy/image_copy1/...   \n",
              "3     /content/drive/MyDrive/image_copy/image_copy1/...   \n",
              "4     /content/drive/MyDrive/image_copy/image_copy1/...   \n",
              "...                                                 ...   \n",
              "1680  /content/drive/MyDrive/image_copy/augmented_im...   \n",
              "1681  /content/drive/MyDrive/image_copy/augmented_im...   \n",
              "1682  /content/drive/MyDrive/image_copy/augmented_im...   \n",
              "1683  /content/drive/MyDrive/image_copy/augmented_im...   \n",
              "1684  /content/drive/MyDrive/image_copy/augmented_im...   \n",
              "\n",
              "                                              mask_path  \n",
              "0     /content/drive/MyDrive/mask_copy/content/combi...  \n",
              "1     /content/drive/MyDrive/mask_copy/content/combi...  \n",
              "2     /content/drive/MyDrive/mask_copy/content/combi...  \n",
              "3     /content/drive/MyDrive/mask_copy/content/combi...  \n",
              "4     /content/drive/MyDrive/mask_copy/content/combi...  \n",
              "...                                                 ...  \n",
              "1680  /content/drive/MyDrive/mask_copy/content/augme...  \n",
              "1681  /content/drive/MyDrive/mask_copy/content/augme...  \n",
              "1682  /content/drive/MyDrive/mask_copy/content/augme...  \n",
              "1683  /content/drive/MyDrive/mask_copy/content/augme...  \n",
              "1684  /content/drive/MyDrive/mask_copy/content/augme...  \n",
              "\n",
              "[1685 rows x 2 columns]"
            ]
          },
          "execution_count": 23,
          "metadata": {},
          "output_type": "execute_result"
        }
      ],
      "source": [
        "image_and_mask = {'image_path':combined_images, 'mask_path':combined_masks}\n",
        "df = pd.DataFrame(image_and_mask)\n",
        "df"
      ]
    },
    {
      "cell_type": "code",
      "execution_count": null,
      "metadata": {
        "id": "DUx6FntlZwSL"
      },
      "outputs": [],
      "source": [
        "IMG_SIZE = [512, 512]\n",
        "\n",
        "def preprocessing(img_path, mak_path):\n",
        "    car_img = tf.io.read_file(img_path) \n",
        "    car_img = tf.image.decode_jpeg(car_img, channels=3)\n",
        "    car_img = tf.image.resize(car_img, IMG_SIZE)\n",
        "    car_img = tf.cast(car_img, tf.float32) / 255.0\n",
        "    \n",
        "    mask_img = tf.io.read_file(mak_path)\n",
        "    mask_img = tf.image.decode_jpeg(mask_img, channels=3)\n",
        "    mask_img = tf.image.resize(mask_img, IMG_SIZE)\n",
        "    mask_img = mask_img[:,:,:1]    \n",
        "    mask_img = tf.math.sign(mask_img)\n",
        "\n",
        "    return car_img, mask_img\n",
        "\n",
        "def create_dataset(df, train = False):\n",
        "    if not train:\n",
        "        ds = tf.data.Dataset.from_tensor_slices((df[\"image_path\"].values, df[\"mask_path\"].values))\n",
        "        ds = ds.map(preprocessing, tf.data.AUTOTUNE)\n",
        "    else:\n",
        "        ds = tf.data.Dataset.from_tensor_slices((df[\"image_path\"].values, df[\"mask_path\"].values))\n",
        "        ds = ds.map(preprocessing, tf.data.AUTOTUNE)\n",
        "        \n",
        "        \n",
        "    return ds"
      ]
    },
    {
      "cell_type": "code",
      "execution_count": null,
      "metadata": {
        "id": "L0WhqTvgUwit"
      },
      "outputs": [],
      "source": [
        "train_df, valid_df = train_test_split(df, random_state=42, test_size=.3)"
      ]
    },
    {
      "cell_type": "code",
      "execution_count": null,
      "metadata": {
        "id": "N4LgR1ycachE"
      },
      "outputs": [],
      "source": [
        "train= create_dataset(train_df, train = True)\n",
        "#train= create_dataset(y_train, train = True)\n",
        "valid = create_dataset(valid_df)\n",
        "test = create_dataset(df_test)"
      ]
    },
    {
      "cell_type": "code",
      "execution_count": null,
      "metadata": {
        "id": "ITx5lLV1ampV"
      },
      "outputs": [],
      "source": [
        "# train"
      ]
    },
    {
      "cell_type": "code",
      "execution_count": null,
      "metadata": {
        "id": "_MqB2RGxaqmI"
      },
      "outputs": [],
      "source": [
        "# valid"
      ]
    },
    {
      "cell_type": "code",
      "execution_count": null,
      "metadata": {
        "id": "fw4V2u9Cavd-"
      },
      "outputs": [],
      "source": [
        "TRAIN_LENGTH = len(train_df)\n",
        "BATCH_SIZE = 16\n",
        "BUFFER_SIZE = 1000"
      ]
    },
    {
      "cell_type": "code",
      "execution_count": null,
      "metadata": {
        "id": "gmTSKI7fa8uS"
      },
      "outputs": [],
      "source": [
        "train_dataset = train.cache().shuffle(BUFFER_SIZE).batch(BATCH_SIZE).repeat()\n",
        "train_dataset = train_dataset.prefetch(buffer_size=tf.data.AUTOTUNE)\n",
        "valid_dataset = valid.batch(BATCH_SIZE)\n",
        "test_dataset = test.batch(BATCH_SIZE)"
      ]
    },
    {
      "cell_type": "code",
      "execution_count": null,
      "metadata": {
        "colab": {
          "base_uri": "https://localhost:8080/"
        },
        "id": "jax7U8NFU3R-",
        "outputId": "7c2c66fc-404d-4726-9c26-c118bc375eae"
      },
      "outputs": [
        {
          "name": "stdout",
          "output_type": "stream",
          "text": [
            "<PrefetchDataset element_spec=(TensorSpec(shape=(None, 512, 512, 3), dtype=tf.float32, name=None), TensorSpec(shape=(None, 512, 512, 1), dtype=tf.float32, name=None))>\n",
            "<BatchDataset element_spec=(TensorSpec(shape=(None, 512, 512, 3), dtype=tf.float32, name=None), TensorSpec(shape=(None, 512, 512, 1), dtype=tf.float32, name=None))>\n"
          ]
        }
      ],
      "source": [
        "print(train_dataset)\n",
        "print(valid_dataset)"
      ]
    },
    {
      "cell_type": "code",
      "execution_count": null,
      "metadata": {
        "colab": {
          "base_uri": "https://localhost:8080/"
        },
        "id": "ZbSal6hRNwwu",
        "outputId": "2d24341f-1ee2-40c7-d02c-9d1e181718f9"
      },
      "outputs": [
        {
          "data": {
            "text/plain": [
              "<PrefetchDataset element_spec=(TensorSpec(shape=(None, 512, 512, 3), dtype=tf.float32, name=None), TensorSpec(shape=(None, 512, 512, 1), dtype=tf.float32, name=None))>"
            ]
          },
          "execution_count": 32,
          "metadata": {},
          "output_type": "execute_result"
        }
      ],
      "source": [
        "train_dataset"
      ]
    },
    {
      "cell_type": "code",
      "execution_count": null,
      "metadata": {
        "colab": {
          "base_uri": "https://localhost:8080/",
          "height": 556
        },
        "id": "MKYZs1jXa07Q",
        "outputId": "d712e4cf-60b0-4017-a49d-7a6cf0ed897e"
      },
      "outputs": [
        {
          "name": "stdout",
          "output_type": "stream",
          "text": [
            "(16, 512, 512, 3)\n",
            "(16, 512, 512, 1)\n"
          ]
        },
        {
          "data": {
            "image/png": "[encoded data removed]",
            "text/plain": [
              "<Figure size 432x288 with 1 Axes>"
            ]
          },
          "metadata": {},
          "output_type": "display_data"
        },
        {
          "data": {
            "image/png": "[encoded data removed]",
            "text/plain": [
              "<Figure size 432x288 with 1 Axes>"
            ]
          },
          "metadata": {},
          "output_type": "display_data"
        }
      ],
      "source": [
        "import random\n",
        "ind = random.randint(0, 16)\n",
        "for img, msk in valid_dataset:\n",
        "    print(img.shape)\n",
        "    print(msk.shape)\n",
        "    plt.imshow(img[ind])\n",
        "    plt.show()\n",
        "    \n",
        "    plt.imshow(msk[ind,:,:, 0], cmap='gray')\n",
        "    plt.show()\n",
        "    break"
      ]
    },
    {
      "cell_type": "markdown",
      "metadata": {
        "id": "-YzUBEkObZwT"
      },
      "source": [
        "#models"
      ]
    },
    {
      "cell_type": "markdown",
      "metadata": {
        "id": "Zg4orK6Fpg8_"
      },
      "source": [
        "RESNET + UNET"
      ]
    },
    {
      "cell_type": "code",
      "execution_count": null,
      "metadata": {
        "colab": {
          "base_uri": "https://localhost:8080/"
        },
        "id": "Z1UOphCuERr9",
        "outputId": "1d830a90-0a34-42fa-dd2b-56144130dbac"
      },
      "outputs": [
        {
          "name": "stdout",
          "output_type": "stream",
          "text": [
            "Looking in indexes: https://pypi.org/simple, https://us-python.pkg.dev/colab-wheels/public/simple/\n",
            "Collecting segmentation-models\n",
            "  Downloading segmentation_models-1.0.1-py3-none-any.whl (33 kB)\n",
            "Collecting keras-applications<=1.0.8,>=1.0.7\n",
            "  Downloading Keras_Applications-1.0.8-py3-none-any.whl (50 kB)\n",
            "\u001b[K     |████████████████████████████████| 50 kB 7.0 MB/s \n",
            "\u001b[?25hCollecting image-classifiers==1.0.0\n",
            "  Downloading image_classifiers-1.0.0-py3-none-any.whl (19 kB)\n",
            "Collecting efficientnet==1.0.0\n",
            "  Downloading efficientnet-1.0.0-py3-none-any.whl (17 kB)\n",
            "Requirement already satisfied: scikit-image in /usr/local/lib/python3.7/dist-packages (from efficientnet==1.0.0->segmentation-models) (0.18.3)\n",
            "Requirement already satisfied: h5py in /usr/local/lib/python3.7/dist-packages (from keras-applications<=1.0.8,>=1.0.7->segmentation-models) (3.1.0)\n",
            "Requirement already satisfied: numpy>=1.9.1 in /usr/local/lib/python3.7/dist-packages (from keras-applications<=1.0.8,>=1.0.7->segmentation-models) (1.21.6)\n",
            "Requirement already satisfied: cached-property in /usr/local/lib/python3.7/dist-packages (from h5py->keras-applications<=1.0.8,>=1.0.7->segmentation-models) (1.5.2)\n",
            "Requirement already satisfied: PyWavelets>=1.1.1 in /usr/local/lib/python3.7/dist-packages (from scikit-image->efficientnet==1.0.0->segmentation-models) (1.3.0)\n",
            "Requirement already satisfied: networkx>=2.0 in /usr/local/lib/python3.7/dist-packages (from scikit-image->efficientnet==1.0.0->segmentation-models) (2.6.3)\n",
            "Requirement already satisfied: tifffile>=2019.7.26 in /usr/local/lib/python3.7/dist-packages (from scikit-image->efficientnet==1.0.0->segmentation-models) (2021.11.2)\n",
            "Requirement already satisfied: imageio>=2.3.0 in /usr/local/lib/python3.7/dist-packages (from scikit-image->efficientnet==1.0.0->segmentation-models) (2.9.0)\n",
            "Requirement already satisfied: matplotlib!=3.0.0,>=2.0.0 in /usr/local/lib/python3.7/dist-packages (from scikit-image->efficientnet==1.0.0->segmentation-models) (3.2.2)\n",
            "Requirement already satisfied: scipy>=1.0.1 in /usr/local/lib/python3.7/dist-packages (from scikit-image->efficientnet==1.0.0->segmentation-models) (1.7.3)\n",
            "Requirement already satisfied: pillow!=7.1.0,!=7.1.1,>=4.3.0 in /usr/local/lib/python3.7/dist-packages (from scikit-image->efficientnet==1.0.0->segmentation-models) (7.1.2)\n",
            "Requirement already satisfied: python-dateutil>=2.1 in /usr/local/lib/python3.7/dist-packages (from matplotlib!=3.0.0,>=2.0.0->scikit-image->efficientnet==1.0.0->segmentation-models) (2.8.2)\n",
            "Requirement already satisfied: pyparsing!=2.0.4,!=2.1.2,!=2.1.6,>=2.0.1 in /usr/local/lib/python3.7/dist-packages (from matplotlib!=3.0.0,>=2.0.0->scikit-image->efficientnet==1.0.0->segmentation-models) (3.0.9)\n",
            "Requirement already satisfied: cycler>=0.10 in /usr/local/lib/python3.7/dist-packages (from matplotlib!=3.0.0,>=2.0.0->scikit-image->efficientnet==1.0.0->segmentation-models) (0.11.0)\n",
            "Requirement already satisfied: kiwisolver>=1.0.1 in /usr/local/lib/python3.7/dist-packages (from matplotlib!=3.0.0,>=2.0.0->scikit-image->efficientnet==1.0.0->segmentation-models) (1.4.4)\n",
            "Requirement already satisfied: typing-extensions in /usr/local/lib/python3.7/dist-packages (from kiwisolver>=1.0.1->matplotlib!=3.0.0,>=2.0.0->scikit-image->efficientnet==1.0.0->segmentation-models) (4.1.1)\n",
            "Requirement already satisfied: six>=1.5 in /usr/local/lib/python3.7/dist-packages (from python-dateutil>=2.1->matplotlib!=3.0.0,>=2.0.0->scikit-image->efficientnet==1.0.0->segmentation-models) (1.15.0)\n",
            "Installing collected packages: keras-applications, image-classifiers, efficientnet, segmentation-models\n",
            "Successfully installed efficientnet-1.0.0 image-classifiers-1.0.0 keras-applications-1.0.8 segmentation-models-1.0.1\n"
          ]
        }
      ],
      "source": [
        "! pip install -U segmentation-models"
      ]
    },
    {
      "cell_type": "code",
      "execution_count": null,
      "metadata": {
        "id": "rbdz-5paEhV3"
      },
      "outputs": [],
      "source": [
        "! pip install -U --pre segmentation-models"
      ]
    },
    {
      "cell_type": "code",
      "execution_count": null,
      "metadata": {
        "id": "WVQrglCOEpxB"
      },
      "outputs": [],
      "source": [
        "! pip install git+https://github.com/qubvel/segmentation_models"
      ]
    },
    {
      "cell_type": "code",
      "execution_count": null,
      "metadata": {
        "id": "ht97rzRVEaas"
      },
      "outputs": [],
      "source": [
        "!git clone https://github.com/qubvel/segmentation_models.git"
      ]
    },
    {
      "cell_type": "code",
      "execution_count": null,
      "metadata": {
        "colab": {
          "base_uri": "https://localhost:8080/"
        },
        "id": "Qktd4rSA3eTX",
        "outputId": "fae010ce-7a8b-4459-b529-100f8c6fc172"
      },
      "outputs": [
        {
          "name": "stdout",
          "output_type": "stream",
          "text": [
            "/content/segmentation_models/segmentation_models\n"
          ]
        }
      ],
      "source": [
        "%cd /content/segmentation_models/segmentation_models"
      ]
    },
    {
      "cell_type": "code",
      "execution_count": null,
      "metadata": {
        "colab": {
          "base_uri": "https://localhost:8080/"
        },
        "id": "UqVcoozyGKBu",
        "outputId": "c827b4e5-a3f3-4a58-9f88-770f14717261"
      },
      "outputs": [
        {
          "name": "stdout",
          "output_type": "stream",
          "text": [
            "Segmentation Models: using `keras` framework.\n",
            "Downloading data from https://github.com/qubvel/classification_models/releases/download/0.0.1/resnet34_imagenet_1000_no_top.h5\n",
            "85524480/85521592 [==============================] - 7s 0us/step\n",
            "85532672/85521592 [==============================] - 7s 0us/step\n",
            "Model: \"model_1\"\n",
            "__________________________________________________________________________________________________\n",
            " Layer (type)                   Output Shape         Param #     Connected to                     \n",
            "==================================================================================================\n",
            " data (InputLayer)              [(None, 512, 512, 3  0           []                               \n",
            "                                )]                                                                \n",
            "                                                                                                  \n",
            " bn_data (BatchNormalization)   (None, 512, 512, 3)  9           ['data[0][0]']                   \n",
            "                                                                                                  \n",
            " zero_padding2d (ZeroPadding2D)  (None, 518, 518, 3)  0          ['bn_data[0][0]']                \n",
            "                                                                                                  \n",
            " conv0 (Conv2D)                 (None, 256, 256, 64  9408        ['zero_padding2d[0][0]']         \n",
            "                                )                                                                 \n",
            "                                                                                                  \n",
            " bn0 (BatchNormalization)       (None, 256, 256, 64  256         ['conv0[0][0]']                  \n",
            "                                )                                                                 \n",
            "                                                                                                  \n",
            " relu0 (Activation)             (None, 256, 256, 64  0           ['bn0[0][0]']                    \n",
            "                                )                                                                 \n",
            "                                                                                                  \n",
            " zero_padding2d_1 (ZeroPadding2  (None, 258, 258, 64  0          ['relu0[0][0]']                  \n",
            " D)                             )                                                                 \n",
            "                                                                                                  \n",
            " pooling0 (MaxPooling2D)        (None, 128, 128, 64  0           ['zero_padding2d_1[0][0]']       \n",
            "                                )                                                                 \n",
            "                                                                                                  \n",
            " stage1_unit1_bn1 (BatchNormali  (None, 128, 128, 64  256        ['pooling0[0][0]']               \n",
            " zation)                        )                                                                 \n",
            "                                                                                                  \n",
            " stage1_unit1_relu1 (Activation  (None, 128, 128, 64  0          ['stage1_unit1_bn1[0][0]']       \n",
            " )                              )                                                                 \n",
            "                                                                                                  \n",
            " zero_padding2d_2 (ZeroPadding2  (None, 130, 130, 64  0          ['stage1_unit1_relu1[0][0]']     \n",
            " D)                             )                                                                 \n",
            "                                                                                                  \n",
            " stage1_unit1_conv1 (Conv2D)    (None, 128, 128, 64  36864       ['zero_padding2d_2[0][0]']       \n",
            "                                )                                                                 \n",
            "                                                                                                  \n",
            " stage1_unit1_bn2 (BatchNormali  (None, 128, 128, 64  256        ['stage1_unit1_conv1[0][0]']     \n",
            " zation)                        )                                                                 \n",
            "                                                                                                  \n",
            " stage1_unit1_relu2 (Activation  (None, 128, 128, 64  0          ['stage1_unit1_bn2[0][0]']       \n",
            " )                              )                                                                 \n",
            "                                                                                                  \n",
            " zero_padding2d_3 (ZeroPadding2  (None, 130, 130, 64  0          ['stage1_unit1_relu2[0][0]']     \n",
            " D)                             )                                                                 \n",
            "                                                                                                  \n",
            " stage1_unit1_conv2 (Conv2D)    (None, 128, 128, 64  36864       ['zero_padding2d_3[0][0]']       \n",
            "                                )                                                                 \n",
            "                                                                                                  \n",
            " stage1_unit1_sc (Conv2D)       (None, 128, 128, 64  4096        ['stage1_unit1_relu1[0][0]']     \n",
            "                                )                                                                 \n",
            "                                                                                                  \n",
            " add (Add)                      (None, 128, 128, 64  0           ['stage1_unit1_conv2[0][0]',     \n",
            "                                )                                 'stage1_unit1_sc[0][0]']        \n",
            "                                                                                                  \n",
            " stage1_unit2_bn1 (BatchNormali  (None, 128, 128, 64  256        ['add[0][0]']                    \n",
            " zation)                        )                                                                 \n",
            "                                                                                                  \n",
            " stage1_unit2_relu1 (Activation  (None, 128, 128, 64  0          ['stage1_unit2_bn1[0][0]']       \n",
            " )                              )                                                                 \n",
            "                                                                                                  \n",
            " zero_padding2d_4 (ZeroPadding2  (None, 130, 130, 64  0          ['stage1_unit2_relu1[0][0]']     \n",
            " D)                             )                                                                 \n",
            "                                                                                                  \n",
            " stage1_unit2_conv1 (Conv2D)    (None, 128, 128, 64  36864       ['zero_padding2d_4[0][0]']       \n",
            "                                )                                                                 \n",
            "                                                                                                  \n",
            " stage1_unit2_bn2 (BatchNormali  (None, 128, 128, 64  256        ['stage1_unit2_conv1[0][0]']     \n",
            " zation)                        )                                                                 \n",
            "                                                                                                  \n",
            " stage1_unit2_relu2 (Activation  (None, 128, 128, 64  0          ['stage1_unit2_bn2[0][0]']       \n",
            " )                              )                                                                 \n",
            "                                                                                                  \n",
            " zero_padding2d_5 (ZeroPadding2  (None, 130, 130, 64  0          ['stage1_unit2_relu2[0][0]']     \n",
            " D)                             )                                                                 \n",
            "                                                                                                  \n",
            " stage1_unit2_conv2 (Conv2D)    (None, 128, 128, 64  36864       ['zero_padding2d_5[0][0]']       \n",
            "                                )                                                                 \n",
            "                                                                                                  \n",
            " add_1 (Add)                    (None, 128, 128, 64  0           ['stage1_unit2_conv2[0][0]',     \n",
            "                                )                                 'add[0][0]']                    \n",
            "                                                                                                  \n",
            " stage1_unit3_bn1 (BatchNormali  (None, 128, 128, 64  256        ['add_1[0][0]']                  \n",
            " zation)                        )                                                                 \n",
            "                                                                                                  \n",
            " stage1_unit3_relu1 (Activation  (None, 128, 128, 64  0          ['stage1_unit3_bn1[0][0]']       \n",
            " )                              )                                                                 \n",
            "                                                                                                  \n",
            " zero_padding2d_6 (ZeroPadding2  (None, 130, 130, 64  0          ['stage1_unit3_relu1[0][0]']     \n",
            " D)                             )                                                                 \n",
            "                                                                                                  \n",
            " stage1_unit3_conv1 (Conv2D)    (None, 128, 128, 64  36864       ['zero_padding2d_6[0][0]']       \n",
            "                                )                                                                 \n",
            "                                                                                                  \n",
            " stage1_unit3_bn2 (BatchNormali  (None, 128, 128, 64  256        ['stage1_unit3_conv1[0][0]']     \n",
            " zation)                        )                                                                 \n",
            "                                                                                                  \n",
            " stage1_unit3_relu2 (Activation  (None, 128, 128, 64  0          ['stage1_unit3_bn2[0][0]']       \n",
            " )                              )                                                                 \n",
            "                                                                                                  \n",
            " zero_padding2d_7 (ZeroPadding2  (None, 130, 130, 64  0          ['stage1_unit3_relu2[0][0]']     \n",
            " D)                             )                                                                 \n",
            "                                                                                                  \n",
            " stage1_unit3_conv2 (Conv2D)    (None, 128, 128, 64  36864       ['zero_padding2d_7[0][0]']       \n",
            "                                )                                                                 \n",
            "                                                                                                  \n",
            " add_2 (Add)                    (None, 128, 128, 64  0           ['stage1_unit3_conv2[0][0]',     \n",
            "                                )                                 'add_1[0][0]']                  \n",
            "                                                                                                  \n",
            " stage2_unit1_bn1 (BatchNormali  (None, 128, 128, 64  256        ['add_2[0][0]']                  \n",
            " zation)                        )                                                                 \n",
            "                                                                                                  \n",
            " stage2_unit1_relu1 (Activation  (None, 128, 128, 64  0          ['stage2_unit1_bn1[0][0]']       \n",
            " )                              )                                                                 \n",
            "                                                                                                  \n",
            " zero_padding2d_8 (ZeroPadding2  (None, 130, 130, 64  0          ['stage2_unit1_relu1[0][0]']     \n",
            " D)                             )                                                                 \n",
            "                                                                                                  \n",
            " stage2_unit1_conv1 (Conv2D)    (None, 64, 64, 128)  73728       ['zero_padding2d_8[0][0]']       \n",
            "                                                                                                  \n",
            " stage2_unit1_bn2 (BatchNormali  (None, 64, 64, 128)  512        ['stage2_unit1_conv1[0][0]']     \n",
            " zation)                                                                                          \n",
            "                                                                                                  \n",
            " stage2_unit1_relu2 (Activation  (None, 64, 64, 128)  0          ['stage2_unit1_bn2[0][0]']       \n",
            " )                                                                                                \n",
            "                                                                                                  \n",
            " zero_padding2d_9 (ZeroPadding2  (None, 66, 66, 128)  0          ['stage2_unit1_relu2[0][0]']     \n",
            " D)                                                                                               \n",
            "                                                                                                  \n",
            " stage2_unit1_conv2 (Conv2D)    (None, 64, 64, 128)  147456      ['zero_padding2d_9[0][0]']       \n",
            "                                                                                                  \n",
            " stage2_unit1_sc (Conv2D)       (None, 64, 64, 128)  8192        ['stage2_unit1_relu1[0][0]']     \n",
            "                                                                                                  \n",
            " add_3 (Add)                    (None, 64, 64, 128)  0           ['stage2_unit1_conv2[0][0]',     \n",
            "                                                                  'stage2_unit1_sc[0][0]']        \n",
            "                                                                                                  \n",
            " stage2_unit2_bn1 (BatchNormali  (None, 64, 64, 128)  512        ['add_3[0][0]']                  \n",
            " zation)                                                                                          \n",
            "                                                                                                  \n",
            " stage2_unit2_relu1 (Activation  (None, 64, 64, 128)  0          ['stage2_unit2_bn1[0][0]']       \n",
            " )                                                                                                \n",
            "                                                                                                  \n",
            " zero_padding2d_10 (ZeroPadding  (None, 66, 66, 128)  0          ['stage2_unit2_relu1[0][0]']     \n",
            " 2D)                                                                                              \n",
            "                                                                                                  \n",
            " stage2_unit2_conv1 (Conv2D)    (None, 64, 64, 128)  147456      ['zero_padding2d_10[0][0]']      \n",
            "                                                                                                  \n",
            " stage2_unit2_bn2 (BatchNormali  (None, 64, 64, 128)  512        ['stage2_unit2_conv1[0][0]']     \n",
            " zation)                                                                                          \n",
            "                                                                                                  \n",
            " stage2_unit2_relu2 (Activation  (None, 64, 64, 128)  0          ['stage2_unit2_bn2[0][0]']       \n",
            " )                                                                                                \n",
            "                                                                                                  \n",
            " zero_padding2d_11 (ZeroPadding  (None, 66, 66, 128)  0          ['stage2_unit2_relu2[0][0]']     \n",
            " 2D)                                                                                              \n",
            "                                                                                                  \n",
            " stage2_unit2_conv2 (Conv2D)    (None, 64, 64, 128)  147456      ['zero_padding2d_11[0][0]']      \n",
            "                                                                                                  \n",
            " add_4 (Add)                    (None, 64, 64, 128)  0           ['stage2_unit2_conv2[0][0]',     \n",
            "                                                                  'add_3[0][0]']                  \n",
            "                                                                                                  \n",
            " stage2_unit3_bn1 (BatchNormali  (None, 64, 64, 128)  512        ['add_4[0][0]']                  \n",
            " zation)                                                                                          \n",
            "                                                                                                  \n",
            " stage2_unit3_relu1 (Activation  (None, 64, 64, 128)  0          ['stage2_unit3_bn1[0][0]']       \n",
            " )                                                                                                \n",
            "                                                                                                  \n",
            " zero_padding2d_12 (ZeroPadding  (None, 66, 66, 128)  0          ['stage2_unit3_relu1[0][0]']     \n",
            " 2D)                                                                                              \n",
            "                                                                                                  \n",
            " stage2_unit3_conv1 (Conv2D)    (None, 64, 64, 128)  147456      ['zero_padding2d_12[0][0]']      \n",
            "                                                                                                  \n",
            " stage2_unit3_bn2 (BatchNormali  (None, 64, 64, 128)  512        ['stage2_unit3_conv1[0][0]']     \n",
            " zation)                                                                                          \n",
            "                                                                                                  \n",
            " stage2_unit3_relu2 (Activation  (None, 64, 64, 128)  0          ['stage2_unit3_bn2[0][0]']       \n",
            " )                                                                                                \n",
            "                                                                                                  \n",
            " zero_padding2d_13 (ZeroPadding  (None, 66, 66, 128)  0          ['stage2_unit3_relu2[0][0]']     \n",
            " 2D)                                                                                              \n",
            "                                                                                                  \n",
            " stage2_unit3_conv2 (Conv2D)    (None, 64, 64, 128)  147456      ['zero_padding2d_13[0][0]']      \n",
            "                                                                                                  \n",
            " add_5 (Add)                    (None, 64, 64, 128)  0           ['stage2_unit3_conv2[0][0]',     \n",
            "                                                                  'add_4[0][0]']                  \n",
            "                                                                                                  \n",
            " stage2_unit4_bn1 (BatchNormali  (None, 64, 64, 128)  512        ['add_5[0][0]']                  \n",
            " zation)                                                                                          \n",
            "                                                                                                  \n",
            " stage2_unit4_relu1 (Activation  (None, 64, 64, 128)  0          ['stage2_unit4_bn1[0][0]']       \n",
            " )                                                                                                \n",
            "                                                                                                  \n",
            " zero_padding2d_14 (ZeroPadding  (None, 66, 66, 128)  0          ['stage2_unit4_relu1[0][0]']     \n",
            " 2D)                                                                                              \n",
            "                                                                                                  \n",
            " stage2_unit4_conv1 (Conv2D)    (None, 64, 64, 128)  147456      ['zero_padding2d_14[0][0]']      \n",
            "                                                                                                  \n",
            " stage2_unit4_bn2 (BatchNormali  (None, 64, 64, 128)  512        ['stage2_unit4_conv1[0][0]']     \n",
            " zation)                                                                                          \n",
            "                                                                                                  \n",
            " stage2_unit4_relu2 (Activation  (None, 64, 64, 128)  0          ['stage2_unit4_bn2[0][0]']       \n",
            " )                                                                                                \n",
            "                                                                                                  \n",
            " zero_padding2d_15 (ZeroPadding  (None, 66, 66, 128)  0          ['stage2_unit4_relu2[0][0]']     \n",
            " 2D)                                                                                              \n",
            "                                                                                                  \n",
            " stage2_unit4_conv2 (Conv2D)    (None, 64, 64, 128)  147456      ['zero_padding2d_15[0][0]']      \n",
            "                                                                                                  \n",
            " add_6 (Add)                    (None, 64, 64, 128)  0           ['stage2_unit4_conv2[0][0]',     \n",
            "                                                                  'add_5[0][0]']                  \n",
            "                                                                                                  \n",
            " stage3_unit1_bn1 (BatchNormali  (None, 64, 64, 128)  512        ['add_6[0][0]']                  \n",
            " zation)                                                                                          \n",
            "                                                                                                  \n",
            " stage3_unit1_relu1 (Activation  (None, 64, 64, 128)  0          ['stage3_unit1_bn1[0][0]']       \n",
            " )                                                                                                \n",
            "                                                                                                  \n",
            " zero_padding2d_16 (ZeroPadding  (None, 66, 66, 128)  0          ['stage3_unit1_relu1[0][0]']     \n",
            " 2D)                                                                                              \n",
            "                                                                                                  \n",
            " stage3_unit1_conv1 (Conv2D)    (None, 32, 32, 256)  294912      ['zero_padding2d_16[0][0]']      \n",
            "                                                                                                  \n",
            " stage3_unit1_bn2 (BatchNormali  (None, 32, 32, 256)  1024       ['stage3_unit1_conv1[0][0]']     \n",
            " zation)                                                                                          \n",
            "                                                                                                  \n",
            " stage3_unit1_relu2 (Activation  (None, 32, 32, 256)  0          ['stage3_unit1_bn2[0][0]']       \n",
            " )                                                                                                \n",
            "                                                                                                  \n",
            " zero_padding2d_17 (ZeroPadding  (None, 34, 34, 256)  0          ['stage3_unit1_relu2[0][0]']     \n",
            " 2D)                                                                                              \n",
            "                                                                                                  \n",
            " stage3_unit1_conv2 (Conv2D)    (None, 32, 32, 256)  589824      ['zero_padding2d_17[0][0]']      \n",
            "                                                                                                  \n",
            " stage3_unit1_sc (Conv2D)       (None, 32, 32, 256)  32768       ['stage3_unit1_relu1[0][0]']     \n",
            "                                                                                                  \n",
            " add_7 (Add)                    (None, 32, 32, 256)  0           ['stage3_unit1_conv2[0][0]',     \n",
            "                                                                  'stage3_unit1_sc[0][0]']        \n",
            "                                                                                                  \n",
            " stage3_unit2_bn1 (BatchNormali  (None, 32, 32, 256)  1024       ['add_7[0][0]']                  \n",
            " zation)                                                                                          \n",
            "                                                                                                  \n",
            " stage3_unit2_relu1 (Activation  (None, 32, 32, 256)  0          ['stage3_unit2_bn1[0][0]']       \n",
            " )                                                                                                \n",
            "                                                                                                  \n",
            " zero_padding2d_18 (ZeroPadding  (None, 34, 34, 256)  0          ['stage3_unit2_relu1[0][0]']     \n",
            " 2D)                                                                                              \n",
            "                                                                                                  \n",
            " stage3_unit2_conv1 (Conv2D)    (None, 32, 32, 256)  589824      ['zero_padding2d_18[0][0]']      \n",
            "                                                                                                  \n",
            " stage3_unit2_bn2 (BatchNormali  (None, 32, 32, 256)  1024       ['stage3_unit2_conv1[0][0]']     \n",
            " zation)                                                                                          \n",
            "                                                                                                  \n",
            " stage3_unit2_relu2 (Activation  (None, 32, 32, 256)  0          ['stage3_unit2_bn2[0][0]']       \n",
            " )                                                                                                \n",
            "                                                                                                  \n",
            " zero_padding2d_19 (ZeroPadding  (None, 34, 34, 256)  0          ['stage3_unit2_relu2[0][0]']     \n",
            " 2D)                                                                                              \n",
            "                                                                                                  \n",
            " stage3_unit2_conv2 (Conv2D)    (None, 32, 32, 256)  589824      ['zero_padding2d_19[0][0]']      \n",
            "                                                                                                  \n",
            " add_8 (Add)                    (None, 32, 32, 256)  0           ['stage3_unit2_conv2[0][0]',     \n",
            "                                                                  'add_7[0][0]']                  \n",
            "                                                                                                  \n",
            " stage3_unit3_bn1 (BatchNormali  (None, 32, 32, 256)  1024       ['add_8[0][0]']                  \n",
            " zation)                                                                                          \n",
            "                                                                                                  \n",
            " stage3_unit3_relu1 (Activation  (None, 32, 32, 256)  0          ['stage3_unit3_bn1[0][0]']       \n",
            " )                                                                                                \n",
            "                                                                                                  \n",
            " zero_padding2d_20 (ZeroPadding  (None, 34, 34, 256)  0          ['stage3_unit3_relu1[0][0]']     \n",
            " 2D)                                                                                              \n",
            "                                                                                                  \n",
            " stage3_unit3_conv1 (Conv2D)    (None, 32, 32, 256)  589824      ['zero_padding2d_20[0][0]']      \n",
            "                                                                                                  \n",
            " stage3_unit3_bn2 (BatchNormali  (None, 32, 32, 256)  1024       ['stage3_unit3_conv1[0][0]']     \n",
            " zation)                                                                                          \n",
            "                                                                                                  \n",
            " stage3_unit3_relu2 (Activation  (None, 32, 32, 256)  0          ['stage3_unit3_bn2[0][0]']       \n",
            " )                                                                                                \n",
            "                                                                                                  \n",
            " zero_padding2d_21 (ZeroPadding  (None, 34, 34, 256)  0          ['stage3_unit3_relu2[0][0]']     \n",
            " 2D)                                                                                              \n",
            "                                                                                                  \n",
            " stage3_unit3_conv2 (Conv2D)    (None, 32, 32, 256)  589824      ['zero_padding2d_21[0][0]']      \n",
            "                                                                                                  \n",
            " add_9 (Add)                    (None, 32, 32, 256)  0           ['stage3_unit3_conv2[0][0]',     \n",
            "                                                                  'add_8[0][0]']                  \n",
            "                                                                                                  \n",
            " stage3_unit4_bn1 (BatchNormali  (None, 32, 32, 256)  1024       ['add_9[0][0]']                  \n",
            " zation)                                                                                          \n",
            "                                                                                                  \n",
            " stage3_unit4_relu1 (Activation  (None, 32, 32, 256)  0          ['stage3_unit4_bn1[0][0]']       \n",
            " )                                                                                                \n",
            "                                                                                                  \n",
            " zero_padding2d_22 (ZeroPadding  (None, 34, 34, 256)  0          ['stage3_unit4_relu1[0][0]']     \n",
            " 2D)                                                                                              \n",
            "                                                                                                  \n",
            " stage3_unit4_conv1 (Conv2D)    (None, 32, 32, 256)  589824      ['zero_padding2d_22[0][0]']      \n",
            "                                                                                                  \n",
            " stage3_unit4_bn2 (BatchNormali  (None, 32, 32, 256)  1024       ['stage3_unit4_conv1[0][0]']     \n",
            " zation)                                                                                          \n",
            "                                                                                                  \n",
            " stage3_unit4_relu2 (Activation  (None, 32, 32, 256)  0          ['stage3_unit4_bn2[0][0]']       \n",
            " )                                                                                                \n",
            "                                                                                                  \n",
            " zero_padding2d_23 (ZeroPadding  (None, 34, 34, 256)  0          ['stage3_unit4_relu2[0][0]']     \n",
            " 2D)                                                                                              \n",
            "                                                                                                  \n",
            " stage3_unit4_conv2 (Conv2D)    (None, 32, 32, 256)  589824      ['zero_padding2d_23[0][0]']      \n",
            "                                                                                                  \n",
            " add_10 (Add)                   (None, 32, 32, 256)  0           ['stage3_unit4_conv2[0][0]',     \n",
            "                                                                  'add_9[0][0]']                  \n",
            "                                                                                                  \n",
            " stage3_unit5_bn1 (BatchNormali  (None, 32, 32, 256)  1024       ['add_10[0][0]']                 \n",
            " zation)                                                                                          \n",
            "                                                                                                  \n",
            " stage3_unit5_relu1 (Activation  (None, 32, 32, 256)  0          ['stage3_unit5_bn1[0][0]']       \n",
            " )                                                                                                \n",
            "                                                                                                  \n",
            " zero_padding2d_24 (ZeroPadding  (None, 34, 34, 256)  0          ['stage3_unit5_relu1[0][0]']     \n",
            " 2D)                                                                                              \n",
            "                                                                                                  \n",
            " stage3_unit5_conv1 (Conv2D)    (None, 32, 32, 256)  589824      ['zero_padding2d_24[0][0]']      \n",
            "                                                                                                  \n",
            " stage3_unit5_bn2 (BatchNormali  (None, 32, 32, 256)  1024       ['stage3_unit5_conv1[0][0]']     \n",
            " zation)                                                                                          \n",
            "                                                                                                  \n",
            " stage3_unit5_relu2 (Activation  (None, 32, 32, 256)  0          ['stage3_unit5_bn2[0][0]']       \n",
            " )                                                                                                \n",
            "                                                                                                  \n",
            " zero_padding2d_25 (ZeroPadding  (None, 34, 34, 256)  0          ['stage3_unit5_relu2[0][0]']     \n",
            " 2D)                                                                                              \n",
            "                                                                                                  \n",
            " stage3_unit5_conv2 (Conv2D)    (None, 32, 32, 256)  589824      ['zero_padding2d_25[0][0]']      \n",
            "                                                                                                  \n",
            " add_11 (Add)                   (None, 32, 32, 256)  0           ['stage3_unit5_conv2[0][0]',     \n",
            "                                                                  'add_10[0][0]']                 \n",
            "                                                                                                  \n",
            " stage3_unit6_bn1 (BatchNormali  (None, 32, 32, 256)  1024       ['add_11[0][0]']                 \n",
            " zation)                                                                                          \n",
            "                                                                                                  \n",
            " stage3_unit6_relu1 (Activation  (None, 32, 32, 256)  0          ['stage3_unit6_bn1[0][0]']       \n",
            " )                                                                                                \n",
            "                                                                                                  \n",
            " zero_padding2d_26 (ZeroPadding  (None, 34, 34, 256)  0          ['stage3_unit6_relu1[0][0]']     \n",
            " 2D)                                                                                              \n",
            "                                                                                                  \n",
            " stage3_unit6_conv1 (Conv2D)    (None, 32, 32, 256)  589824      ['zero_padding2d_26[0][0]']      \n",
            "                                                                                                  \n",
            " stage3_unit6_bn2 (BatchNormali  (None, 32, 32, 256)  1024       ['stage3_unit6_conv1[0][0]']     \n",
            " zation)                                                                                          \n",
            "                                                                                                  \n",
            " stage3_unit6_relu2 (Activation  (None, 32, 32, 256)  0          ['stage3_unit6_bn2[0][0]']       \n",
            " )                                                                                                \n",
            "                                                                                                  \n",
            " zero_padding2d_27 (ZeroPadding  (None, 34, 34, 256)  0          ['stage3_unit6_relu2[0][0]']     \n",
            " 2D)                                                                                              \n",
            "                                                                                                  \n",
            " stage3_unit6_conv2 (Conv2D)    (None, 32, 32, 256)  589824      ['zero_padding2d_27[0][0]']      \n",
            "                                                                                                  \n",
            " add_12 (Add)                   (None, 32, 32, 256)  0           ['stage3_unit6_conv2[0][0]',     \n",
            "                                                                  'add_11[0][0]']                 \n",
            "                                                                                                  \n",
            " stage4_unit1_bn1 (BatchNormali  (None, 32, 32, 256)  1024       ['add_12[0][0]']                 \n",
            " zation)                                                                                          \n",
            "                                                                                                  \n",
            " stage4_unit1_relu1 (Activation  (None, 32, 32, 256)  0          ['stage4_unit1_bn1[0][0]']       \n",
            " )                                                                                                \n",
            "                                                                                                  \n",
            " zero_padding2d_28 (ZeroPadding  (None, 34, 34, 256)  0          ['stage4_unit1_relu1[0][0]']     \n",
            " 2D)                                                                                              \n",
            "                                                                                                  \n",
            " stage4_unit1_conv1 (Conv2D)    (None, 16, 16, 512)  1179648     ['zero_padding2d_28[0][0]']      \n",
            "                                                                                                  \n",
            " stage4_unit1_bn2 (BatchNormali  (None, 16, 16, 512)  2048       ['stage4_unit1_conv1[0][0]']     \n",
            " zation)                                                                                          \n",
            "                                                                                                  \n",
            " stage4_unit1_relu2 (Activation  (None, 16, 16, 512)  0          ['stage4_unit1_bn2[0][0]']       \n",
            " )                                                                                                \n",
            "                                                                                                  \n",
            " zero_padding2d_29 (ZeroPadding  (None, 18, 18, 512)  0          ['stage4_unit1_relu2[0][0]']     \n",
            " 2D)                                                                                              \n",
            "                                                                                                  \n",
            " stage4_unit1_conv2 (Conv2D)    (None, 16, 16, 512)  2359296     ['zero_padding2d_29[0][0]']      \n",
            "                                                                                                  \n",
            " stage4_unit1_sc (Conv2D)       (None, 16, 16, 512)  131072      ['stage4_unit1_relu1[0][0]']     \n",
            "                                                                                                  \n",
            " add_13 (Add)                   (None, 16, 16, 512)  0           ['stage4_unit1_conv2[0][0]',     \n",
            "                                                                  'stage4_unit1_sc[0][0]']        \n",
            "                                                                                                  \n",
            " stage4_unit2_bn1 (BatchNormali  (None, 16, 16, 512)  2048       ['add_13[0][0]']                 \n",
            " zation)                                                                                          \n",
            "                                                                                                  \n",
            " stage4_unit2_relu1 (Activation  (None, 16, 16, 512)  0          ['stage4_unit2_bn1[0][0]']       \n",
            " )                                                                                                \n",
            "                                                                                                  \n",
            " zero_padding2d_30 (ZeroPadding  (None, 18, 18, 512)  0          ['stage4_unit2_relu1[0][0]']     \n",
            " 2D)                                                                                              \n",
            "                                                                                                  \n",
            " stage4_unit2_conv1 (Conv2D)    (None, 16, 16, 512)  2359296     ['zero_padding2d_30[0][0]']      \n",
            "                                                                                                  \n",
            " stage4_unit2_bn2 (BatchNormali  (None, 16, 16, 512)  2048       ['stage4_unit2_conv1[0][0]']     \n",
            " zation)                                                                                          \n",
            "                                                                                                  \n",
            " stage4_unit2_relu2 (Activation  (None, 16, 16, 512)  0          ['stage4_unit2_bn2[0][0]']       \n",
            " )                                                                                                \n",
            "                                                                                                  \n",
            " zero_padding2d_31 (ZeroPadding  (None, 18, 18, 512)  0          ['stage4_unit2_relu2[0][0]']     \n",
            " 2D)                                                                                              \n",
            "                                                                                                  \n",
            " stage4_unit2_conv2 (Conv2D)    (None, 16, 16, 512)  2359296     ['zero_padding2d_31[0][0]']      \n",
            "                                                                                                  \n",
            " add_14 (Add)                   (None, 16, 16, 512)  0           ['stage4_unit2_conv2[0][0]',     \n",
            "                                                                  'add_13[0][0]']                 \n",
            "                                                                                                  \n",
            " stage4_unit3_bn1 (BatchNormali  (None, 16, 16, 512)  2048       ['add_14[0][0]']                 \n",
            " zation)                                                                                          \n",
            "                                                                                                  \n",
            " stage4_unit3_relu1 (Activation  (None, 16, 16, 512)  0          ['stage4_unit3_bn1[0][0]']       \n",
            " )                                                                                                \n",
            "                                                                                                  \n",
            " zero_padding2d_32 (ZeroPadding  (None, 18, 18, 512)  0          ['stage4_unit3_relu1[0][0]']     \n",
            " 2D)                                                                                              \n",
            "                                                                                                  \n",
            " stage4_unit3_conv1 (Conv2D)    (None, 16, 16, 512)  2359296     ['zero_padding2d_32[0][0]']      \n",
            "                                                                                                  \n",
            " stage4_unit3_bn2 (BatchNormali  (None, 16, 16, 512)  2048       ['stage4_unit3_conv1[0][0]']     \n",
            " zation)                                                                                          \n",
            "                                                                                                  \n",
            " stage4_unit3_relu2 (Activation  (None, 16, 16, 512)  0          ['stage4_unit3_bn2[0][0]']       \n",
            " )                                                                                                \n",
            "                                                                                                  \n",
            " zero_padding2d_33 (ZeroPadding  (None, 18, 18, 512)  0          ['stage4_unit3_relu2[0][0]']     \n",
            " 2D)                                                                                              \n",
            "                                                                                                  \n",
            " stage4_unit3_conv2 (Conv2D)    (None, 16, 16, 512)  2359296     ['zero_padding2d_33[0][0]']      \n",
            "                                                                                                  \n",
            " add_15 (Add)                   (None, 16, 16, 512)  0           ['stage4_unit3_conv2[0][0]',     \n",
            "                                                                  'add_14[0][0]']                 \n",
            "                                                                                                  \n",
            " bn1 (BatchNormalization)       (None, 16, 16, 512)  2048        ['add_15[0][0]']                 \n",
            "                                                                                                  \n",
            " relu1 (Activation)             (None, 16, 16, 512)  0           ['bn1[0][0]']                    \n",
            "                                                                                                  \n",
            " decoder_stage0_upsampling (UpS  (None, 32, 32, 512)  0          ['relu1[0][0]']                  \n",
            " ampling2D)                                                                                       \n",
            "                                                                                                  \n",
            " decoder_stage0_concat (Concate  (None, 32, 32, 768)  0          ['decoder_stage0_upsampling[0][0]\n",
            " nate)                                                           ',                               \n",
            "                                                                  'stage4_unit1_relu1[0][0]']     \n",
            "                                                                                                  \n",
            " decoder_stage0a_conv (Conv2D)  (None, 32, 32, 512)  3538944     ['decoder_stage0_concat[0][0]']  \n",
            "                                                                                                  \n",
            " decoder_stage0a_bn (BatchNorma  (None, 32, 32, 512)  2048       ['decoder_stage0a_conv[0][0]']   \n",
            " lization)                                                                                        \n",
            "                                                                                                  \n",
            " decoder_stage0a_relu (Activati  (None, 32, 32, 512)  0          ['decoder_stage0a_bn[0][0]']     \n",
            " on)                                                                                              \n",
            "                                                                                                  \n",
            " decoder_stage0b_conv (Conv2D)  (None, 32, 32, 512)  2359296     ['decoder_stage0a_relu[0][0]']   \n",
            "                                                                                                  \n",
            " decoder_stage0b_bn (BatchNorma  (None, 32, 32, 512)  2048       ['decoder_stage0b_conv[0][0]']   \n",
            " lization)                                                                                        \n",
            "                                                                                                  \n",
            " decoder_stage0b_relu (Activati  (None, 32, 32, 512)  0          ['decoder_stage0b_bn[0][0]']     \n",
            " on)                                                                                              \n",
            "                                                                                                  \n",
            " decoder_stage1_upsampling (UpS  (None, 64, 64, 512)  0          ['decoder_stage0b_relu[0][0]']   \n",
            " ampling2D)                                                                                       \n",
            "                                                                                                  \n",
            " decoder_stage1_concat (Concate  (None, 64, 64, 640)  0          ['decoder_stage1_upsampling[0][0]\n",
            " nate)                                                           ',                               \n",
            "                                                                  'stage3_unit1_relu1[0][0]']     \n",
            "                                                                                                  \n",
            " decoder_stage1a_conv (Conv2D)  (None, 64, 64, 256)  1474560     ['decoder_stage1_concat[0][0]']  \n",
            "                                                                                                  \n",
            " decoder_stage1a_bn (BatchNorma  (None, 64, 64, 256)  1024       ['decoder_stage1a_conv[0][0]']   \n",
            " lization)                                                                                        \n",
            "                                                                                                  \n",
            " decoder_stage1a_relu (Activati  (None, 64, 64, 256)  0          ['decoder_stage1a_bn[0][0]']     \n",
            " on)                                                                                              \n",
            "                                                                                                  \n",
            " decoder_stage1b_conv (Conv2D)  (None, 64, 64, 256)  589824      ['decoder_stage1a_relu[0][0]']   \n",
            "                                                                                                  \n",
            " decoder_stage1b_bn (BatchNorma  (None, 64, 64, 256)  1024       ['decoder_stage1b_conv[0][0]']   \n",
            " lization)                                                                                        \n",
            "                                                                                                  \n",
            " decoder_stage1b_relu (Activati  (None, 64, 64, 256)  0          ['decoder_stage1b_bn[0][0]']     \n",
            " on)                                                                                              \n",
            "                                                                                                  \n",
            " decoder_stage2_upsampling (UpS  (None, 128, 128, 25  0          ['decoder_stage1b_relu[0][0]']   \n",
            " ampling2D)                     6)                                                                \n",
            "                                                                                                  \n",
            " decoder_stage2_concat (Concate  (None, 128, 128, 32  0          ['decoder_stage2_upsampling[0][0]\n",
            " nate)                          0)                               ',                               \n",
            "                                                                  'stage2_unit1_relu1[0][0]']     \n",
            "                                                                                                  \n",
            " decoder_stage2a_conv (Conv2D)  (None, 128, 128, 12  368640      ['decoder_stage2_concat[0][0]']  \n",
            "                                8)                                                                \n",
            "                                                                                                  \n",
            " decoder_stage2a_bn (BatchNorma  (None, 128, 128, 12  512        ['decoder_stage2a_conv[0][0]']   \n",
            " lization)                      8)                                                                \n",
            "                                                                                                  \n",
            " decoder_stage2a_relu (Activati  (None, 128, 128, 12  0          ['decoder_stage2a_bn[0][0]']     \n",
            " on)                            8)                                                                \n",
            "                                                                                                  \n",
            " decoder_stage2b_conv (Conv2D)  (None, 128, 128, 12  147456      ['decoder_stage2a_relu[0][0]']   \n",
            "                                8)                                                                \n",
            "                                                                                                  \n",
            " decoder_stage2b_bn (BatchNorma  (None, 128, 128, 12  512        ['decoder_stage2b_conv[0][0]']   \n",
            " lization)                      8)                                                                \n",
            "                                                                                                  \n",
            " decoder_stage2b_relu (Activati  (None, 128, 128, 12  0          ['decoder_stage2b_bn[0][0]']     \n",
            " on)                            8)                                                                \n",
            "                                                                                                  \n",
            " decoder_stage3_upsampling (UpS  (None, 256, 256, 12  0          ['decoder_stage2b_relu[0][0]']   \n",
            " ampling2D)                     8)                                                                \n",
            "                                                                                                  \n",
            " decoder_stage3_concat (Concate  (None, 256, 256, 19  0          ['decoder_stage3_upsampling[0][0]\n",
            " nate)                          2)                               ',                               \n",
            "                                                                  'relu0[0][0]']                  \n",
            "                                                                                                  \n",
            " decoder_stage3a_conv (Conv2D)  (None, 256, 256, 64  110592      ['decoder_stage3_concat[0][0]']  \n",
            "                                )                                                                 \n",
            "                                                                                                  \n",
            " decoder_stage3a_bn (BatchNorma  (None, 256, 256, 64  256        ['decoder_stage3a_conv[0][0]']   \n",
            " lization)                      )                                                                 \n",
            "                                                                                                  \n",
            " decoder_stage3a_relu (Activati  (None, 256, 256, 64  0          ['decoder_stage3a_bn[0][0]']     \n",
            " on)                            )                                                                 \n",
            "                                                                                                  \n",
            " decoder_stage3b_conv (Conv2D)  (None, 256, 256, 64  36864       ['decoder_stage3a_relu[0][0]']   \n",
            "                                )                                                                 \n",
            "                                                                                                  \n",
            " decoder_stage3b_bn (BatchNorma  (None, 256, 256, 64  256        ['decoder_stage3b_conv[0][0]']   \n",
            " lization)                      )                                                                 \n",
            "                                                                                                  \n",
            " decoder_stage3b_relu (Activati  (None, 256, 256, 64  0          ['decoder_stage3b_bn[0][0]']     \n",
            " on)                            )                                                                 \n",
            "                                                                                                  \n",
            " decoder_stage4_upsampling (UpS  (None, 512, 512, 64  0          ['decoder_stage3b_relu[0][0]']   \n",
            " ampling2D)                     )                                                                 \n",
            "                                                                                                  \n",
            " decoder_stage4a_conv (Conv2D)  (None, 512, 512, 32  18432       ['decoder_stage4_upsampling[0][0]\n",
            "                                )                                ']                               \n",
            "                                                                                                  \n",
            " decoder_stage4a_bn (BatchNorma  (None, 512, 512, 32  128        ['decoder_stage4a_conv[0][0]']   \n",
            " lization)                      )                                                                 \n",
            "                                                                                                  \n",
            " decoder_stage4a_relu (Activati  (None, 512, 512, 32  0          ['decoder_stage4a_bn[0][0]']     \n",
            " on)                            )                                                                 \n",
            "                                                                                                  \n",
            " decoder_stage4b_conv (Conv2D)  (None, 512, 512, 32  9216        ['decoder_stage4a_relu[0][0]']   \n",
            "                                )                                                                 \n",
            "                                                                                                  \n",
            " decoder_stage4b_bn (BatchNorma  (None, 512, 512, 32  128        ['decoder_stage4b_conv[0][0]']   \n",
            " lization)                      )                                                                 \n",
            "                                                                                                  \n",
            " decoder_stage4b_relu (Activati  (None, 512, 512, 32  0          ['decoder_stage4b_bn[0][0]']     \n",
            " on)                            )                                                                 \n",
            "                                                                                                  \n",
            " final_conv (Conv2D)            (None, 512, 512, 1)  289         ['decoder_stage4b_relu[0][0]']   \n",
            "                                                                                                  \n",
            " sigmoid (Activation)           (None, 512, 512, 1)  0           ['final_conv[0][0]']             \n",
            "                                                                                                  \n",
            "==================================================================================================\n",
            "Total params: 29,964,522\n",
            "Trainable params: 29,945,188\n",
            "Non-trainable params: 19,334\n",
            "__________________________________________________________________________________________________\n",
            "None\n"
          ]
        }
      ],
      "source": [
        "import segmentation_models as sm\n",
        "import segmentation_models as sm\n",
        "sm.set_framework('tf.keras')\n",
        "sm.framework()\n",
        "n_classes=1\n",
        "activation='sigmoid'\n",
        "\n",
        "LR = 0.0001\n",
        "optim = keras.optimizers.Adam(LR)\n",
        "\n",
        "JaccardLoss = sm.losses.JaccardLoss()\n",
        "# dice_loss = sm.losses.DiceLoss() \n",
        "def get_config(self):\n",
        "  # config = super(dice_loss, self).get_config()\n",
        "  config = super(JaccardLoss, self).get_config()\n",
        "  # config.update({'dice_loss':self.dice_loss})\n",
        "  config.update({'JaccardLoss':self.dice_loss})\n",
        "  return config\n",
        "\n",
        "metrics = [sm.metrics.IOUScore(threshold=0.5), sm.metrics.FScore(threshold=0.5), sm.metrics.precision, sm.metrics.recall]\n",
        "\n",
        "\n",
        "########################################################################\n",
        "###Model 1\n",
        "decoder_filters=(512, 256, 128, 64, 32)\n",
        "BACKBONE1 = 'resnet34'\n",
        "preprocess_input1 = sm.get_preprocessing(BACKBONE1)\n",
        "\n",
        "# preprocess input\n",
        "X_train1 = preprocess_input1(train_dataset)\n",
        "# X_valid1 = preprocess_input1(valid_dataset)\n",
        "\n",
        "# define model\n",
        "model1 = sm.Unet(BACKBONE1, input_shape = (512, 512, 3), classes=n_classes, activation=activation, decoder_filters=(512, 256, 128, 64, 32))\n",
        "\n",
        "# # compile keras model with defined optimozer, loss and metrics\n",
        "# model = model1\n",
        "# config = model.get_config()\n",
        "# # At loading time, register the custom objects with a `custom_object_scope`:\n",
        "# custom_objects = {\"dice_loss\": dice_loss}\n",
        "# with keras.utils.custom_object_scope(custom_objects):\n",
        "#     model = keras.Model.from_config(config)\n",
        "\n",
        "model1.compile(optimizer='adam', loss=JaccardLoss, metrics=metrics )\n",
        "# model1.compile(optim, dice_loss, metrics=metrics)\n",
        "\n",
        "#model1.compile(optimizer='adam', loss='categorical_crossentropy', metrics=metrics)\n",
        "\n",
        "print(model1.summary())\n"
      ]
    },
    {
      "cell_type": "code",
      "execution_count": null,
      "metadata": {
        "colab": {
          "base_uri": "https://localhost:8080/"
        },
        "id": "lh6bwpA6HHzJ",
        "outputId": "d1ad510d-fe6a-428b-9221-6e94b9f465b1"
      },
      "outputs": [
        {
          "name": "stdout",
          "output_type": "stream",
          "text": [
            "Looking in indexes: https://pypi.org/simple, https://us-python.pkg.dev/colab-wheels/public/simple/\n",
            "Collecting wandb\n",
            "  Downloading wandb-0.13.3-py2.py3-none-any.whl (1.8 MB)\n",
            "\u001b[K     |████████████████████████████████| 1.8 MB 33.9 MB/s \n",
            "\u001b[?25hCollecting pathtools\n",
            "  Downloading pathtools-0.1.2.tar.gz (11 kB)\n",
            "Requirement already satisfied: setuptools in /usr/local/lib/python3.7/dist-packages (from wandb) (57.4.0)\n",
            "Requirement already satisfied: psutil>=5.0.0 in /usr/local/lib/python3.7/dist-packages (from wandb) (5.4.8)\n",
            "Collecting sentry-sdk>=1.0.0\n",
            "  Downloading sentry_sdk-1.9.8-py2.py3-none-any.whl (158 kB)\n",
            "\u001b[K     |████████████████████████████████| 158 kB 58.9 MB/s \n",
            "\u001b[?25hRequirement already satisfied: protobuf<4.0dev,>=3.12.0 in /usr/local/lib/python3.7/dist-packages (from wandb) (3.17.3)\n",
            "Collecting docker-pycreds>=0.4.0\n",
            "  Downloading docker_pycreds-0.4.0-py2.py3-none-any.whl (9.0 kB)\n",
            "Collecting GitPython>=1.0.0\n",
            "  Downloading GitPython-3.1.27-py3-none-any.whl (181 kB)\n",
            "\u001b[K     |████████████████████████████████| 181 kB 71.5 MB/s \n",
            "\u001b[?25hRequirement already satisfied: promise<3,>=2.0 in /usr/local/lib/python3.7/dist-packages (from wandb) (2.3)\n",
            "Requirement already satisfied: requests<3,>=2.0.0 in /usr/local/lib/python3.7/dist-packages (from wandb) (2.23.0)\n",
            "Requirement already satisfied: Click!=8.0.0,>=7.0 in /usr/local/lib/python3.7/dist-packages (from wandb) (7.1.2)\n",
            "Collecting shortuuid>=0.5.0\n",
            "  Downloading shortuuid-1.0.9-py3-none-any.whl (9.4 kB)\n",
            "Requirement already satisfied: six>=1.13.0 in /usr/local/lib/python3.7/dist-packages (from wandb) (1.15.0)\n",
            "Requirement already satisfied: PyYAML in /usr/local/lib/python3.7/dist-packages (from wandb) (6.0)\n",
            "Collecting setproctitle\n",
            "  Downloading setproctitle-1.3.2-cp37-cp37m-manylinux_2_5_x86_64.manylinux1_x86_64.manylinux_2_17_x86_64.manylinux2014_x86_64.whl (30 kB)\n",
            "Collecting gitdb<5,>=4.0.1\n",
            "  Downloading gitdb-4.0.9-py3-none-any.whl (63 kB)\n",
            "\u001b[K     |████████████████████████████████| 63 kB 1.8 MB/s \n",
            "\u001b[?25hRequirement already satisfied: typing-extensions>=3.7.4.3 in /usr/local/lib/python3.7/dist-packages (from GitPython>=1.0.0->wandb) (4.1.1)\n",
            "Collecting smmap<6,>=3.0.1\n",
            "  Downloading smmap-5.0.0-py3-none-any.whl (24 kB)\n",
            "Requirement already satisfied: chardet<4,>=3.0.2 in /usr/local/lib/python3.7/dist-packages (from requests<3,>=2.0.0->wandb) (3.0.4)\n",
            "Requirement already satisfied: idna<3,>=2.5 in /usr/local/lib/python3.7/dist-packages (from requests<3,>=2.0.0->wandb) (2.10)\n",
            "Requirement already satisfied: certifi>=2017.4.17 in /usr/local/lib/python3.7/dist-packages (from requests<3,>=2.0.0->wandb) (2022.6.15)\n",
            "Requirement already satisfied: urllib3!=1.25.0,!=1.25.1,<1.26,>=1.21.1 in /usr/local/lib/python3.7/dist-packages (from requests<3,>=2.0.0->wandb) (1.24.3)\n",
            "Collecting sentry-sdk>=1.0.0\n",
            "  Downloading sentry_sdk-1.9.7-py2.py3-none-any.whl (157 kB)\n",
            "\u001b[K     |████████████████████████████████| 157 kB 60.8 MB/s \n",
            "\u001b[?25h  Downloading sentry_sdk-1.9.6-py2.py3-none-any.whl (157 kB)\n",
            "\u001b[K     |████████████████████████████████| 157 kB 79.5 MB/s \n",
            "\u001b[?25h  Downloading sentry_sdk-1.9.5-py2.py3-none-any.whl (157 kB)\n",
            "\u001b[K     |████████████████████████████████| 157 kB 78.4 MB/s \n",
            "\u001b[?25h  Downloading sentry_sdk-1.9.4-py2.py3-none-any.whl (157 kB)\n",
            "\u001b[K     |████████████████████████████████| 157 kB 60.6 MB/s \n",
            "\u001b[?25h  Downloading sentry_sdk-1.9.3-py2.py3-none-any.whl (157 kB)\n",
            "\u001b[K     |████████████████████████████████| 157 kB 75.2 MB/s \n",
            "\u001b[?25h  Downloading sentry_sdk-1.9.2-py2.py3-none-any.whl (157 kB)\n",
            "\u001b[K     |████████████████████████████████| 157 kB 63.6 MB/s \n",
            "\u001b[?25h  Downloading sentry_sdk-1.9.1-py2.py3-none-any.whl (157 kB)\n",
            "\u001b[K     |████████████████████████████████| 157 kB 73.8 MB/s \n",
            "\u001b[?25h  Downloading sentry_sdk-1.9.0-py2.py3-none-any.whl (156 kB)\n",
            "\u001b[K     |████████████████████████████████| 156 kB 77.5 MB/s \n",
            "\u001b[?25hBuilding wheels for collected packages: pathtools\n",
            "  Building wheel for pathtools (setup.py) ... \u001b[?25l\u001b[?25hdone\n",
            "  Created wheel for pathtools: filename=pathtools-0.1.2-py3-none-any.whl size=8806 sha256=f3a0b75da70d202327a1e7e47e0643608734901b8bf5053cf1d10a786c0f5ed7\n",
            "  Stored in directory: /root/.cache/pip/wheels/3e/31/09/fa59cef12cdcfecc627b3d24273699f390e71828921b2cbba2\n",
            "Successfully built pathtools\n",
            "Installing collected packages: smmap, gitdb, shortuuid, setproctitle, sentry-sdk, pathtools, GitPython, docker-pycreds, wandb\n",
            "Successfully installed GitPython-3.1.27 docker-pycreds-0.4.0 gitdb-4.0.9 pathtools-0.1.2 sentry-sdk-1.9.0 setproctitle-1.3.2 shortuuid-1.0.9 smmap-5.0.0 wandb-0.13.3\n"
          ]
        }
      ],
      "source": [
        "!pip install wandb"
      ]
    },
    {
      "cell_type": "code",
      "execution_count": null,
      "metadata": {
        "id": "wXJ8EunjHNJp"
      },
      "outputs": [],
      "source": [
        "import wandb\n",
        "import tensorflow as tf"
      ]
    },
    {
      "cell_type": "code",
      "execution_count": null,
      "metadata": {
        "colab": {
          "base_uri": "https://localhost:8080/",
          "height": 121
        },
        "id": "GLBuIq4JH4QT",
        "outputId": "be392173-db9f-4492-8f71-eec1c5e46429"
      },
      "outputs": [
        {
          "data": {
            "application/javascript": [
              "\n",
              "        window._wandbApiKey = new Promise((resolve, reject) => {\n",
              "            function loadScript(url) {\n",
              "            return new Promise(function(resolve, reject) {\n",
              "                let newScript = document.createElement(\"script\");\n",
              "                newScript.onerror = reject;\n",
              "                newScript.onload = resolve;\n",
              "                document.body.appendChild(newScript);\n",
              "                newScript.src = url;\n",
              "            });\n",
              "            }\n",
              "            loadScript(\"https://cdn.jsdelivr.net/npm/postmate/build/postmate.min.js\").then(() => {\n",
              "            const iframe = document.createElement('iframe')\n",
              "            iframe.style.cssText = \"width:0;height:0;border:none\"\n",
              "            document.body.appendChild(iframe)\n",
              "            const handshake = new Postmate({\n",
              "                container: iframe,\n",
              "                url: 'https://wandb.ai/authorize'\n",
              "            });\n",
              "            const timeout = setTimeout(() => reject(\"Couldn't auto authenticate\"), 5000)\n",
              "            handshake.then(function(child) {\n",
              "                child.on('authorize', data => {\n",
              "                    clearTimeout(timeout)\n",
              "                    resolve(data)\n",
              "                });\n",
              "            });\n",
              "            })\n",
              "        });\n",
              "    "
            ],
            "text/plain": [
              "<IPython.core.display.Javascript object>"
            ]
          },
          "metadata": {},
          "output_type": "display_data"
        },
        {
          "name": "stderr",
          "output_type": "stream",
          "text": [
            "\u001b[34m\u001b[1mwandb\u001b[0m: Logging into wandb.ai. (Learn how to deploy a W&B server locally: https://wandb.me/wandb-server)\n",
            "\u001b[34m\u001b[1mwandb\u001b[0m: You can find your API key in your browser here: https://wandb.ai/authorize\n",
            "wandb: Paste an API key from your profile and hit enter, or press ctrl+c to quit: "
          ]
        },
        {
          "name": "stdout",
          "output_type": "stream",
          "text": [
            "··········\n"
          ]
        },
        {
          "name": "stderr",
          "output_type": "stream",
          "text": [
            "\u001b[34m\u001b[1mwandb\u001b[0m: Appending key for api.wandb.ai to your netrc file: /root/.netrc\n"
          ]
        },
        {
          "data": {
            "text/plain": [
              "True"
            ]
          },
          "execution_count": 42,
          "metadata": {},
          "output_type": "execute_result"
        }
      ],
      "source": [
        "# Log in to your W&B account\n",
        "wandb.login()"
      ]
    },
    {
      "cell_type": "code",
      "execution_count": null,
      "metadata": {
        "colab": {
          "base_uri": "https://localhost:8080/",
          "height": 86
        },
        "id": "PgpZFnGwHTaK",
        "outputId": "93f2acd5-32b9-4de5-d236-7a62d2fd21c2"
      },
      "outputs": [
        {
          "name": "stderr",
          "output_type": "stream",
          "text": [
            "\u001b[34m\u001b[1mwandb\u001b[0m: Currently logged in as: \u001b[33mclaire_2022_fyp\u001b[0m (\u001b[33mfyp_claire\u001b[0m). Use \u001b[1m`wandb login --relogin`\u001b[0m to force relogin\n"
          ]
        },
        {
          "data": {
            "text/html": [
              "Tracking run with wandb version 0.13.3"
            ],
            "text/plain": [
              "<IPython.core.display.HTML object>"
            ]
          },
          "metadata": {},
          "output_type": "display_data"
        },
        {
          "data": {
            "text/html": [
              "Run data is saved locally in <code>/content/segmentation_models/segmentation_models/wandb/run-20220915_034849-fyebzhul</code>"
            ],
            "text/plain": [
              "<IPython.core.display.HTML object>"
            ]
          },
          "metadata": {},
          "output_type": "display_data"
        },
        {
          "data": {
            "text/html": [
              "Syncing run <strong><a href=\"https://wandb.ai/fyp_claire/password/runs/fyebzhul\" target=\"_blank\">graceful-haze-4</a></strong> to <a href=\"https://wandb.ai/fyp_claire/password\" target=\"_blank\">Weights & Biases</a> (<a href=\"https://wandb.me/run\" target=\"_blank\">docs</a>)<br/>"
            ],
            "text/plain": [
              "<IPython.core.display.HTML object>"
            ]
          },
          "metadata": {},
          "output_type": "display_data"
        }
      ],
      "source": [
        "config = {\n",
        "  \"Backbone\": 'Base_line_1',\n",
        "  \"Con2dtranspose_init\": 'he_normal',\n",
        "  \"Decoder_block_type\": \"Conv2DTranspose\",\n",
        "  \"decoder_filters\":(512,256,128,64, 32),\n",
        "  'batch_norm': True,\n",
        "  \"Activation\": 'relu',\n",
        "  \"batch_size\": 1, \n",
        "  \"verbose\": 1,\n",
        "  \"initial_epoch\": 0, \n",
        "  \"epochs\": 100,\n",
        "  \"shuffle\": True,\n",
        "  \"Dropout\": 0.5\n",
        "}\n",
        "wandb.init(config = config, project=\"password\", entity=\"fyp_claire\")\n",
        "\n",
        "config = wandb.config"
      ]
    },
    {
      "cell_type": "code",
      "execution_count": null,
      "metadata": {
        "colab": {
          "base_uri": "https://localhost:8080/"
        },
        "id": "wsaebGMMK6TU",
        "outputId": "dd805558-ca75-49fe-9ec7-18d4e9f3f520"
      },
      "outputs": [
        {
          "name": "stderr",
          "output_type": "stream",
          "text": [
            "\u001b[34m\u001b[1mwandb\u001b[0m: \u001b[33mWARNING\u001b[0m The save_model argument by default saves the model in the HDF5 format that cannot save custom objects like subclassed models and custom layers. This behavior will be deprecated in a future release in favor of the SavedModel format. Meanwhile, the HDF5 model is saved as W&B files and the SavedModel as W&B Artifacts.\n"
          ]
        }
      ],
      "source": [
        "from wandb.keras import WandbCallback\n",
        "callbacks = WandbCallback(\n",
        "                                \n",
        "                                 loss = JaccardLoss,\n",
        "                               \n",
        "                                log_weights=True,\n",
        "                                log_evaluation=True)"
      ]
    },
    {
      "cell_type": "code",
      "execution_count": null,
      "metadata": {
        "colab": {
          "background_save": true
        },
        "id": "r-LMQnYpGTrY"
      },
      "outputs": [],
      "source": [
        "EPOCHS = 100\n",
        "STEPS_PER_EPOCH = TRAIN_LENGTH // BATCH_SIZE\n",
        "\n",
        "model_history = model1.fit(train_dataset, epochs=EPOCHS,\n",
        "                          steps_per_epoch=STEPS_PER_EPOCH,\n",
        "                          validation_data=valid_dataset,\n",
        "                           callbacks=[callbacks]\n",
        "                        #   allbacks=[\n",
        "                                    #  DisplayCallback(),\n",
        "                                    #  early_stop]\n",
        "                          )"
      ]
    },
    {
      "cell_type": "code",
      "execution_count": null,
      "metadata": {
        "colab": {
          "background_save": true
        },
        "id": "YfJfJUuWd05t"
      },
      "outputs": [],
      "source": [
        "plt.plot(model_history.history['loss'], color='b', label=\"Training loss\")\n",
        "plt.plot(model_history.history['val_loss'], color='r', label=\"Validation loss\")\n",
        "plt.legend()\n",
        "plt.show()"
      ]
    },
    {
      "cell_type": "code",
      "execution_count": null,
      "metadata": {
        "colab": {
          "background_save": true
        },
        "id": "KFOxmbOHxcA0"
      },
      "outputs": [],
      "source": [
        "plt.plot(model_history.history['f1-score'], color='b', label=\"Training dice coeff\")\n",
        "plt.plot(model_history.history['val_f1-score'], color='r', label=\"Validation dice coeff\")\n",
        "plt.legend()\n",
        "plt.show()"
      ]
    },
    {
      "cell_type": "code",
      "execution_count": null,
      "metadata": {
        "colab": {
          "background_save": true
        },
        "id": "LImn75sEw1K9"
      },
      "outputs": [],
      "source": [
        "plt.plot(model_history.history['precision'], color='b', label=\"Training precision\")\n",
        "plt.plot(model_history.history['val_precision'], color='r', label=\"Validation precision\")\n",
        "plt.legend()\n",
        "plt.show()"
      ]
    },
    {
      "cell_type": "code",
      "execution_count": null,
      "metadata": {
        "colab": {
          "background_save": true
        },
        "id": "0ZrdlgJZgx04"
      },
      "outputs": [],
      "source": [
        "plt.plot(model_history.history['iou_score'], color='b', label=\"Training iou_score\")\n",
        "plt.plot(model_history.history['val_iou_score'], color='r',label=\"Validation iou_score\")\n",
        "# plt.legend(loc='best', shadow=True)\n",
        "plt.legend()\n",
        "plt.show()"
      ]
    },
    {
      "cell_type": "code",
      "execution_count": null,
      "metadata": {
        "colab": {
          "background_save": true
        },
        "id": "iq34TundQbH-"
      },
      "outputs": [],
      "source": [
        "model1.evaluate(valid_dataset)"
      ]
    },
    {
      "cell_type": "code",
      "execution_count": null,
      "metadata": {
        "colab": {
          "background_save": true
        },
        "id": "Wchw03gpgvVb"
      },
      "outputs": [],
      "source": [
        "# model1.save(\"/content/drive/MyDrive/Colab_Notebooks/saved_model\")\n",
        "# Save the entire model to a HDF5 file.\n",
        "# The '.h5' extension indicates that the model should be saved to HDF5.\n",
        "model1.save('my_model.h5')"
      ]
    },
    {
      "cell_type": "code",
      "execution_count": null,
      "metadata": {
        "colab": {
          "background_save": true
        },
        "id": "0yoCyxmqdVX2"
      },
      "outputs": [],
      "source": [
        "# Recreate the exact same model, including its weights and the optimizer\n",
        "from keras.saving import saved_model\n",
        "from keras.models import load_model\n",
        "\n",
        "new_model = tf.keras.models.load_model('my_model.h5', custom_objects={'JaccardLoss':JaccardLoss}, compile=False)\n",
        "\n",
        "# Show the model architecture\n",
        "new_model.summary()"
      ]
    },
    {
      "cell_type": "code",
      "execution_count": null,
      "metadata": {
        "id": "J7Mi15i4Qd8_"
      },
      "outputs": [],
      "source": [
        "import random\n",
        "# ind = random.randint(0,32)\n",
        "for img, msk in test_dataset:\n",
        "    for i in range(img.shape[0]):\n",
        "        plt.figure(figsize=(15, 15))\n",
        "        title = ['Input Image', 'True Mask', 'Predicted Mask']\n",
        "        plt.subplot(1, 3, 1)\n",
        "        plt.title(title[0])\n",
        "        plt.imshow(img[i])\n",
        "\n",
        "        plt.subplot(1, 3, 2)\n",
        "        plt.title(title[1])\n",
        "        plt.imshow(msk[i,:,:,0], cmap='gray')\n",
        "\n",
        "\n",
        "        pred = new_model.predict(tf.expand_dims(img[i], axis=0))\n",
        "        plt.subplot(1, 3, 3)\n",
        "        plt.imshow(pred[0,:,:,0], cmap='gray')\n",
        "        plt.title(title[2])\n",
        "\n",
        "        plt.axis('off')\n",
        "        plt.show()\n",
        "    break\n",
        "\n",
        "    # fig = plt.subplot(1,3)\n",
        "    # # print(np.max(msk), np.min(msk))\n",
        "    # # print(msk)\n",
        "    # plt.imshow(img[ind])\n",
        "    # plt.show()\n",
        "    # plt.imshow(msk[ind,:,:,0], cmap='gray')\n",
        "    # plt.show()\n",
        "    # pred = model2.predict(tf.expand_dims(img[ind], axis=0))\n",
        "    # print(\"pred: \", pred.shape)\n",
        "    # print(\"pred type: \", type(pred))\n",
        "    # plt.imshow(pred[0,:,:,0], cmap='gray')\n",
        "    "
      ]
    },
    {
      "cell_type": "code",
      "execution_count": null,
      "metadata": {
        "id": "5437BdFrXQyq"
      },
      "outputs": [],
      "source": []
    }
  ],
  "metadata": {
    "accelerator": "GPU",
    "colab": {
      "collapsed_sections": [],
      "provenance": [],
      "include_colab_link": true
    },
    "gpuClass": "standard",
    "kernelspec": {
      "display_name": "Python 3",
      "name": "python3"
    },
    "language_info": {
      "name": "python"
    }
  },
  "nbformat": 4,
  "nbformat_minor": 0
}